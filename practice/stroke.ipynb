{
 "cells": [
  {
   "cell_type": "markdown",
   "id": "2a3c7546",
   "metadata": {},
   "source": [
    "### 주제\n",
    "뇌졸중(Stoke) 발생 여부를 예측하는 이진 분류(Binary Classification) 문제\n",
    "\n",
    "### 목적\n",
    "환자의 건강, 생활습관 및 인구통계학적 정보를 바탕으로:\n",
    "- stroke를 예측함으로써\n",
    "- 예방적 의료 개입 및 위험도 분류를 가능하게 하는 머신러닝 모델 구축이 목적"
   ]
  },
  {
   "cell_type": "code",
   "execution_count": 40,
   "id": "7327b154",
   "metadata": {},
   "outputs": [
    {
     "name": "stdout",
     "output_type": "stream",
     "text": [
      "d:\\workspace\\hit_ml_dl\\practice\n",
      "['data', 'data_dictionary.png', 'linear_regression', 'stroke.ipynb', 'stroke_fixed.py', 'titanic.ipynb']\n"
     ]
    }
   ],
   "source": [
    "# https://www.kaggle.com/datasets/fedesoriano/stroke-prediction-dataset\n",
    "import os\n",
    "print(os.getcwd())\n",
    "print(os.listdir())"
   ]
  },
  {
   "cell_type": "code",
   "execution_count": 41,
   "id": "fb8da72c",
   "metadata": {},
   "outputs": [
    {
     "name": "stdout",
     "output_type": "stream",
     "text": [
      "<class 'pandas.core.frame.DataFrame'>\n",
      "RangeIndex: 5110 entries, 0 to 5109\n",
      "Data columns (total 12 columns):\n",
      " #   Column             Non-Null Count  Dtype  \n",
      "---  ------             --------------  -----  \n",
      " 0   id                 5110 non-null   int64  \n",
      " 1   gender             5110 non-null   object \n",
      " 2   age                5110 non-null   float64\n",
      " 3   hypertension       5110 non-null   int64  \n",
      " 4   heart_disease      5110 non-null   int64  \n",
      " 5   ever_married       5110 non-null   object \n",
      " 6   work_type          5110 non-null   object \n",
      " 7   Residence_type     5110 non-null   object \n",
      " 8   avg_glucose_level  5110 non-null   float64\n",
      " 9   bmi                4909 non-null   float64\n",
      " 10  smoking_status     5110 non-null   object \n",
      " 11  stroke             5110 non-null   int64  \n",
      "dtypes: float64(3), int64(4), object(5)\n",
      "memory usage: 479.2+ KB\n"
     ]
    },
    {
     "data": {
      "text/plain": [
       "Index(['id', 'gender', 'age', 'hypertension', 'heart_disease', 'ever_married',\n",
       "       'work_type', 'Residence_type', 'avg_glucose_level', 'bmi',\n",
       "       'smoking_status', 'stroke'],\n",
       "      dtype='object')"
      ]
     },
     "execution_count": 41,
     "metadata": {},
     "output_type": "execute_result"
    }
   ],
   "source": [
    "import pandas as pd\n",
    "import numpy as np\n",
    "import matplotlib.pyplot as plt\n",
    "import seaborn as sns\n",
    "\n",
    "df = pd.read_csv(\"./data/stroke.csv\", encoding='utf-8')\n",
    "df.info()\n",
    "df.head()\n",
    "df.columns"
   ]
  },
  {
   "cell_type": "code",
   "execution_count": 42,
   "id": "bdca642d",
   "metadata": {},
   "outputs": [
    {
     "name": "stdout",
     "output_type": "stream",
     "text": [
      "id                     0\n",
      "gender                 0\n",
      "age                    0\n",
      "hypertension           0\n",
      "heart_disease          0\n",
      "ever_married           0\n",
      "work_type              0\n",
      "Residence_type         0\n",
      "avg_glucose_level      0\n",
      "bmi                  201\n",
      "smoking_status         0\n",
      "stroke                 0\n",
      "dtype: int64\n"
     ]
    },
    {
     "name": "stderr",
     "output_type": "stream",
     "text": [
      "C:\\Users\\wsm\\AppData\\Local\\Temp\\ipykernel_4876\\1476135796.py:3: FutureWarning: A value is trying to be set on a copy of a DataFrame or Series through chained assignment using an inplace method.\n",
      "The behavior will change in pandas 3.0. This inplace method will never work because the intermediate object on which we are setting values always behaves as a copy.\n",
      "\n",
      "For example, when doing 'df[col].method(value, inplace=True)', try using 'df.method({col: value}, inplace=True)' or df[col] = df[col].method(value) instead, to perform the operation inplace on the original object.\n",
      "\n",
      "\n",
      "  df['bmi'].fillna(df['bmi'].median(), inplace=True) # median 선택 이유: 이상치 존재\n"
     ]
    }
   ],
   "source": [
    "# 결측치 확인\n",
    "print(df.isnull().sum())\n",
    "df['bmi'].fillna(df['bmi'].median(), inplace=True) # median 선택 이유: 이상치 존재\n",
    "df = df[df['gender'] != 'Other'].drop(columns='id')"
   ]
  },
  {
   "cell_type": "code",
   "execution_count": 43,
   "id": "e042c2cb",
   "metadata": {},
   "outputs": [
    {
     "name": "stdout",
     "output_type": "stream",
     "text": [
      "Numeric columns:  ['age', 'hypertension', 'heart_disease', 'avg_glucose_level', 'bmi']\n",
      "Categorical columns:  ['gender', 'ever_married', 'work_type', 'Residence_type', 'smoking_status']\n"
     ]
    }
   ],
   "source": [
    "# 컬럼 타입 분류 (범주형 vs 수치형)\n",
    "# 숫자형 (int, float)\n",
    "numeric_features = df.select_dtypes(include=['int64', 'float64']).columns.tolist()\n",
    "numeric_features.remove('stroke')\n",
    "\n",
    "# 이진 변수 (binary feature)\n",
    "# 전처리 및 해석에 따라 '범주형'처럼 취급하는 것이 일반적이지만\n",
    "# 머신러닝 모델에 넣을 때는 '숫자형 그대로 사용'하는 것이 효율적입니다.\n",
    "binary_features = ['stroke', 'hypertension', 'heart_disease']\n",
    "\n",
    "# 범주형 (object, category 등)\n",
    "categorical_features = df.select_dtypes(include=['object', 'category']).columns.tolist()\n",
    "\n",
    "print(\"Numeric columns: \", numeric_features)\n",
    "print(\"Categorical columns: \", categorical_features)"
   ]
  },
  {
   "cell_type": "code",
   "execution_count": 44,
   "id": "863259b9",
   "metadata": {},
   "outputs": [],
   "source": [
    "# 데이터 분할\n",
    "X = df.drop(\"stroke\", axis=1)\n",
    "y = df[\"stroke\"]"
   ]
  },
  {
   "cell_type": "code",
   "execution_count": 45,
   "id": "f5a426f7",
   "metadata": {},
   "outputs": [
    {
     "name": "stdout",
     "output_type": "stream",
     "text": [
      "               age  hypertension  heart_disease  avg_glucose_level  \\\n",
      "count  5109.000000   5109.000000    5109.000000        5109.000000   \n",
      "mean     43.229986      0.097475       0.054022         106.140399   \n",
      "std      22.613575      0.296633       0.226084          45.285004   \n",
      "min       0.080000      0.000000       0.000000          55.120000   \n",
      "25%      25.000000      0.000000       0.000000          77.240000   \n",
      "50%      45.000000      0.000000       0.000000          91.880000   \n",
      "75%      61.000000      0.000000       0.000000         114.090000   \n",
      "max      82.000000      1.000000       1.000000         271.740000   \n",
      "\n",
      "               bmi       stroke  \n",
      "count  5109.000000  5109.000000  \n",
      "mean     28.863300     0.048738  \n",
      "std       7.699785     0.215340  \n",
      "min      10.300000     0.000000  \n",
      "25%      23.800000     0.000000  \n",
      "50%      28.100000     0.000000  \n",
      "75%      32.800000     0.000000  \n",
      "max      97.600000     1.000000  \n"
     ]
    }
   ],
   "source": [
    "# 기초 통계 확인 (숫자형)\n",
    "print(df.describe())"
   ]
  },
  {
   "cell_type": "code",
   "execution_count": 46,
   "id": "705e8695",
   "metadata": {},
   "outputs": [
    {
     "name": "stdout",
     "output_type": "stream",
     "text": [
      "gender 분포:\n",
      "gender\n",
      "Female    2994\n",
      "Male      2115\n",
      "Name: count, dtype: int64\n",
      "\n",
      "\n",
      "ever_married 분포:\n",
      "ever_married\n",
      "Yes    3353\n",
      "No     1756\n",
      "Name: count, dtype: int64\n",
      "\n",
      "\n",
      "work_type 분포:\n",
      "work_type\n",
      "Private          2924\n",
      "Self-employed     819\n",
      "children          687\n",
      "Govt_job          657\n",
      "Never_worked       22\n",
      "Name: count, dtype: int64\n",
      "\n",
      "\n",
      "Residence_type 분포:\n",
      "Residence_type\n",
      "Urban    2596\n",
      "Rural    2513\n",
      "Name: count, dtype: int64\n",
      "\n",
      "\n",
      "smoking_status 분포:\n",
      "smoking_status\n",
      "never smoked       1892\n",
      "Unknown            1544\n",
      "formerly smoked     884\n",
      "smokes              789\n",
      "Name: count, dtype: int64\n",
      "\n",
      "\n"
     ]
    }
   ],
   "source": [
    "# 범주형 데이터 분포 확인\n",
    "for col in categorical_features:\n",
    "    print(f\"{col} 분포:\")\n",
    "    print(df[col].value_counts())\n",
    "    print(\"\\n\")"
   ]
  },
  {
   "cell_type": "code",
   "execution_count": 47,
   "id": "e57743b6",
   "metadata": {},
   "outputs": [
    {
     "name": "stdout",
     "output_type": "stream",
     "text": [
      "stroke\n",
      "0    0.951262\n",
      "1    0.048738\n",
      "Name: proportion, dtype: float64\n"
     ]
    }
   ],
   "source": [
    "# 타겟 변수 불균형 확인\n",
    "print(df['stroke'].value_counts(normalize=True))"
   ]
  },
  {
   "cell_type": "code",
   "execution_count": null,
   "id": "c0f54c95",
   "metadata": {},
   "outputs": [],
   "source": [
    "# 전처리 구성\n",
    "from sklearn.preprocessing import OneHotEncoder # 범주형 변수를 0/1 벡터로 변환\n",
    "from sklearn.compose import ColumnTransformer   # 열별로 다른 전처리를 적용\n",
    "from sklearn.pipeline import Pipeline           # 모델 학습 과정을 하나로 묶어 재현성 보장\n",
    "from sklearn.ensemble import RandomForestClassifier # 랜덤 포레스트 분류기\n",
    "from sklearn.model_selection import train_test_split # 데이터 분할\n",
    "from sklearn.metrics import classification_report, confusion_matrix # 분류 성능 평가\n",
    "from imblearn.over_sampling import SMOTE # 소수 클래스 샘플을 가상 생성하여 클래스 불균형 해결\n",
    "\n",
    "#\n",
    "categorical_transformer = Pipeline(steps=[\n",
    "    # handle_unknown=\"ignore\" : 테스트셋에 학습셋에 없는 범주가 있어도 무시\n",
    "    (\"onehot\", OneHotEncoder(handle_unknown=\"ignore\"))\n",
    "])\n",
    "\n",
    "# \n",
    "preprocessor = ColumnTransformer(\n",
    "    transformers=[\n",
    "        (\"num\", \"passthrough\", numeric_features),\n",
    "        (\"cat\", categorical_transformer, categorical_features),\n",
    "    ],\n",
    "    remainder=\"passthrough\"  # binary_features 그대로 사용\n",
    ")\n",
    "\n",
    "# 학습/데이터 분리\n",
    "# stratify=y: stroke 비율을 유지하면서 훈련/테스트 분할\n",
    "X_train, X_test, y_train, y_test = train_test_split(\n",
    "    X, y, stratify=y, test_size=0.2, random_state=42\n",
    ")\n",
    "\n",
    "# 전처리 실행\n",
    "X_train_preprocessed = preprocessor.fit_transform(X_train)\n",
    "X_test_preprocessed = preprocessor.transform(X_test)\n",
    "\n",
    "# SMOTE 적용\n",
    "# Synthetic Minority Over-sampling Technique\n",
    "smote = SMOTE(random_state=42)\n",
    "X_train_resampled, y_train_resampled = smote.fit_resample(X_train_preprocessed, y_train)\n",
    "\n",
    "# 모델 학습\n",
    "model = RandomForestClassifier(random_state=42)\n",
    "model.fit(X_train_resampled, y_train_resampled)\n",
    "\n",
    "# 예측 및 평가\n",
    "y_pred = model.predict(X_test_preprocessed)\n",
    "report = classification_report(y_test, y_pred)\n",
    "conf_matrix = confusion_matrix(y_test, y_pred)"
   ]
  },
  {
   "cell_type": "code",
   "execution_count": 49,
   "id": "0c376cae",
   "metadata": {},
   "outputs": [
    {
     "name": "stdout",
     "output_type": "stream",
     "text": [
      "\n",
      "상위 10개 특성 중요도:\n",
      "                           feature  importance\n",
      "0                              age    0.222844\n",
      "1                     hypertension    0.087838\n",
      "7                  ever_married_No    0.062443\n",
      "18     smoking_status_never smoked    0.058872\n",
      "3                avg_glucose_level    0.058664\n",
      "16          smoking_status_Unknown    0.049021\n",
      "2                    heart_disease    0.047132\n",
      "17  smoking_status_formerly smoked    0.047103\n",
      "8                 ever_married_Yes    0.046165\n",
      "4                              bmi    0.043850\n",
      "\n",
      "모델 성능 요약:\n",
      "정확도 (Accuracy): 0.9491\n",
      "정밀도 (Precision): 0.3333\n",
      "재현율 (Recall): 0.0400\n",
      "F1-Score: 0.0714\n"
     ]
    }
   ],
   "source": [
    "# 특성 중요도 확인\n",
    "# 범주령 특성의 원-핫 인코딩된 컬럼명 생성\n",
    "categorical_feature_names = []\n",
    "for i, col in enumerate(categorical_features):\n",
    "    categories = preprocessor.named_transformers_['cat'].named_steps['onehot'].categories_[i]\n",
    "    categorical_feature_names.extend([f\"{col}_{cat}\" for cat in categories])\n",
    "\n",
    "# 모든 특성명 결합\n",
    "all_feature_names = numeric_features + categorical_feature_names\n",
    "\n",
    "feature_importance = pd.DataFrame({\n",
    "    'feature': all_feature_names,\n",
    "    'importance': model.feature_importances_\n",
    "}).sort_values('importance', ascending=False)\n",
    "\n",
    "print(\"\\n상위 10개 특성 중요도:\")\n",
    "print(feature_importance.head(10))\n",
    "\n",
    "# 모델 성능 요약\n",
    "print(f\"\\n모델 성능 요약:\")\n",
    "print(f\"정확도 (Accuracy): {(968 + 2) / (968 + 4 + 48 + 2):.4f}\")\n",
    "print(f\"정밀도 (Precision): {2 / (2 + 4):.4f}\")\n",
    "print(f\"재현율 (Recall): {2 / (2 + 48):.4f}\")\n",
    "print(f\"F1-Score: {2 * (2 / (2 + 4)) * (2 / (2 + 48)) / ((2 / (2 + 4)) + (2 / (2 + 48))):.4f}\") "
   ]
  },
  {
   "cell_type": "code",
   "execution_count": null,
   "id": "b8ad9cda",
   "metadata": {},
   "outputs": [],
   "source": []
  }
 ],
 "metadata": {
  "kernelspec": {
   "display_name": "venv",
   "language": "python",
   "name": "python3"
  },
  "language_info": {
   "codemirror_mode": {
    "name": "ipython",
    "version": 3
   },
   "file_extension": ".py",
   "mimetype": "text/x-python",
   "name": "python",
   "nbconvert_exporter": "python",
   "pygments_lexer": "ipython3",
   "version": "3.13.5"
  }
 },
 "nbformat": 4,
 "nbformat_minor": 5
}
