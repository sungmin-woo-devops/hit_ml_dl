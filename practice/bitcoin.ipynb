{
 "cells": [
  {
   "cell_type": "code",
   "execution_count": 40,
   "id": "85a3146b",
   "metadata": {},
   "outputs": [],
   "source": [
    "# https://upbit.com/service_center/open_api_guide\n",
    "# https://wikidocs.net/179294#api\n",
    "# https://wikidocs.net/230307"
   ]
  },
  {
   "cell_type": "code",
   "execution_count": 41,
   "id": "b0ba02c5",
   "metadata": {},
   "outputs": [],
   "source": [
    "import requests\n",
    "import pandas as pd\n",
    "import numpy as np\n",
    "from sklearn.model_selection import train_test_split\n",
    "from sklearn.preprocessing import PolynomialFeatures, StandardScaler\n",
    "from sklearn.linear_model import LinearRegression\n",
    "from sklearn.ensemble import RandomForestRegressor\n",
    "from xgboost import XGBRegressor\n",
    "from sklearn.pipeline import make_pipeline\n",
    "from sklearn.metrics import mean_squared_error, r2_score\n",
    "import matplotlib.pyplot as plt\n",
    "import yfinance as yf\n",
    "from datetime import datetime, timedelta\n",
    "import ccxt"
   ]
  },
  {
   "cell_type": "code",
   "execution_count": 42,
   "id": "2adebade",
   "metadata": {},
   "outputs": [],
   "source": [
    "# Bithumb API로 BTC/KRW, ETH/KRW 데이터 가져오기\n",
    "def get_bithumb_data(market, start_date, end_date, count=215):\n",
    "    exchange = ccxt.bithumb()\n",
    "    symbol = f\"{market}/KRW\"\n",
    "    timeframe = '1d'\n",
    "    since = int(pd.to_datetime(start_date).timestamp() * 1000)\n",
    "    candles = exchange.fetch_ohlcv(symbol, timeframe, since, limit=count)\n",
    "    df = pd.DataFrame(candles, columns=['timestamp', 'open', 'high', 'low', 'close', 'volume'])\n",
    "    df['timestamp'] = pd.to_datetime(df['timestamp'], unit='ms')\n",
    "    df.set_index('timestamp', inplace=True)\n",
    "    df = df[['close']].rename(columns={'close': f\"{market}_KRW\"})\n",
    "    return df.loc[start_date:end_date]\n"
   ]
  },
  {
   "cell_type": "code",
   "execution_count": 43,
   "id": "c15bc0d9",
   "metadata": {},
   "outputs": [],
   "source": [
    "# CoinGecko API로 ETH/BTC 데이터 가져오기\n",
    "def get_coingecko_data(coin, vs_currency, start_date, end_date):\n",
    "    start_ts = int(pd.to_datetime(start_date).timestamp())\n",
    "    end_ts = int(pd.to_datetime(end_date).timestamp())\n",
    "    url = f\"https://api.coingecko.com/api/v3/coins/{coin}/market_chart/range\"\n",
    "    params = {\n",
    "        'vs_currency': vs_currency,\n",
    "        'from': start_ts,\n",
    "        'to': end_ts\n",
    "    }\n",
    "    response = requests.get(url, params=params)\n",
    "    data = response.json()\n",
    "    prices = pd.DataFrame(data['prices'], columns=['timestamp', 'price'])\n",
    "    prices['timestamp'] = pd.to_datetime(prices['timestamp'], unit='ms')\n",
    "    prices.set_index('timestamp', inplace=True)\n",
    "    return prices['price'].rename(name=f\"{coin.upper()}_{vs_currency.upper()}\")"
   ]
  },
  {
   "cell_type": "code",
   "execution_count": 44,
   "id": "f41f5178",
   "metadata": {},
   "outputs": [],
   "source": [
    "# BTC Dominance (합성 데이터, CoinGecko 제한으로)\n",
    "def get_btc_dominance(start_date, end_date):\n",
    "    dates = pd.date_range(start=start_date, end=end_date, freq='D')\n",
    "    dominance = 60.86 + np.random.normal(0, 0.5, len(dates))  # 60.86% 기준\n",
    "    return pd.Series(dominance, index=dates, name='BTC_Dominance')"
   ]
  },
  {
   "cell_type": "code",
   "execution_count": 45,
   "id": "d2ca4914",
   "metadata": {},
   "outputs": [],
   "source": [
    "# Yahoo Finance API로 WTI, USD/KRW, GOLD 데이터 가져오기\n",
    "def get_yfinance_data(ticker, start_date, end_date):\n",
    "    df = yf.download(ticker, start=start_date, end=end_date)\n",
    "    return df['Close'].rename(ticker)"
   ]
  },
  {
   "cell_type": "code",
   "execution_count": 46,
   "id": "6e1bafe6",
   "metadata": {},
   "outputs": [],
   "source": [
    "# 데이터 수집\n",
    "start_date = '2025-01-01'\n",
    "end_date = '2025-07-31'\n",
    "dates = pd.date_range(start=start_date, end=end_date, freq='D')"
   ]
  },
  {
   "cell_type": "code",
   "execution_count": 47,
   "id": "49d7fe65",
   "metadata": {},
   "outputs": [],
   "source": [
    "# Bithumb 데이터\n",
    "btc_krw = get_bithumb_data('BTC', start_date, end_date)\n",
    "eth_krw = get_bithumb_data('ETH', start_date, end_date)"
   ]
  },
  {
   "cell_type": "code",
   "execution_count": 48,
   "id": "213285c2",
   "metadata": {},
   "outputs": [
    {
     "ename": "TypeError",
     "evalue": "Series.rename() got an unexpected keyword argument 'name'",
     "output_type": "error",
     "traceback": [
      "\u001b[31m---------------------------------------------------------------------------\u001b[39m",
      "\u001b[31mTypeError\u001b[39m                                 Traceback (most recent call last)",
      "\u001b[36mCell\u001b[39m\u001b[36m \u001b[39m\u001b[32mIn[48]\u001b[39m\u001b[32m, line 2\u001b[39m\n\u001b[32m      1\u001b[39m \u001b[38;5;66;03m# CoinGecko 데이터\u001b[39;00m\n\u001b[32m----> \u001b[39m\u001b[32m2\u001b[39m eth_btc = \u001b[43mget_coingecko_data\u001b[49m\u001b[43m(\u001b[49m\u001b[33;43m'\u001b[39;49m\u001b[33;43methereum\u001b[39;49m\u001b[33;43m'\u001b[39;49m\u001b[43m,\u001b[49m\u001b[43m \u001b[49m\u001b[33;43m'\u001b[39;49m\u001b[33;43mbtc\u001b[39;49m\u001b[33;43m'\u001b[39;49m\u001b[43m,\u001b[49m\u001b[43m \u001b[49m\u001b[43mstart_date\u001b[49m\u001b[43m,\u001b[49m\u001b[43m \u001b[49m\u001b[43mend_date\u001b[49m\u001b[43m)\u001b[49m\n",
      "\u001b[36mCell\u001b[39m\u001b[36m \u001b[39m\u001b[32mIn[43]\u001b[39m\u001b[32m, line 16\u001b[39m, in \u001b[36mget_coingecko_data\u001b[39m\u001b[34m(coin, vs_currency, start_date, end_date)\u001b[39m\n\u001b[32m     14\u001b[39m prices[\u001b[33m'\u001b[39m\u001b[33mtimestamp\u001b[39m\u001b[33m'\u001b[39m] = pd.to_datetime(prices[\u001b[33m'\u001b[39m\u001b[33mtimestamp\u001b[39m\u001b[33m'\u001b[39m], unit=\u001b[33m'\u001b[39m\u001b[33mms\u001b[39m\u001b[33m'\u001b[39m)\n\u001b[32m     15\u001b[39m prices.set_index(\u001b[33m'\u001b[39m\u001b[33mtimestamp\u001b[39m\u001b[33m'\u001b[39m, inplace=\u001b[38;5;28;01mTrue\u001b[39;00m)\n\u001b[32m---> \u001b[39m\u001b[32m16\u001b[39m \u001b[38;5;28;01mreturn\u001b[39;00m \u001b[43mprices\u001b[49m\u001b[43m[\u001b[49m\u001b[33;43m'\u001b[39;49m\u001b[33;43mprice\u001b[39;49m\u001b[33;43m'\u001b[39;49m\u001b[43m]\u001b[49m\u001b[43m.\u001b[49m\u001b[43mrename\u001b[49m\u001b[43m(\u001b[49m\u001b[43mname\u001b[49m\u001b[43m=\u001b[49m\u001b[33;43mf\u001b[39;49m\u001b[33;43m\"\u001b[39;49m\u001b[38;5;132;43;01m{\u001b[39;49;00m\u001b[43mcoin\u001b[49m\u001b[43m.\u001b[49m\u001b[43mupper\u001b[49m\u001b[43m(\u001b[49m\u001b[43m)\u001b[49m\u001b[38;5;132;43;01m}\u001b[39;49;00m\u001b[33;43m_\u001b[39;49m\u001b[38;5;132;43;01m{\u001b[39;49;00m\u001b[43mvs_currency\u001b[49m\u001b[43m.\u001b[49m\u001b[43mupper\u001b[49m\u001b[43m(\u001b[49m\u001b[43m)\u001b[49m\u001b[38;5;132;43;01m}\u001b[39;49;00m\u001b[33;43m\"\u001b[39;49m\u001b[43m)\u001b[49m\n",
      "\u001b[31mTypeError\u001b[39m: Series.rename() got an unexpected keyword argument 'name'"
     ]
    }
   ],
   "source": [
    "# CoinGecko 데이터\n",
    "eth_btc = get_coingecko_data('ethereum', 'btc', start_date, end_date)"
   ]
  },
  {
   "cell_type": "code",
   "execution_count": null,
   "id": "d3936103",
   "metadata": {},
   "outputs": [
    {
     "name": "stderr",
     "output_type": "stream",
     "text": [
      "C:\\Users\\wsm\\AppData\\Local\\Temp\\ipykernel_22092\\3716775282.py:3: FutureWarning: YF.download() has changed argument auto_adjust default to True\n",
      "  df = yf.download(ticker, start=start_date, end=end_date)\n",
      "[*********************100%***********************]  1 of 1 completed\n"
     ]
    },
    {
     "ename": "TypeError",
     "evalue": "'str' object is not callable",
     "output_type": "error",
     "traceback": [
      "\u001b[31m---------------------------------------------------------------------------\u001b[39m",
      "\u001b[31mTypeError\u001b[39m                                 Traceback (most recent call last)",
      "\u001b[36mCell\u001b[39m\u001b[36m \u001b[39m\u001b[32mIn[34]\u001b[39m\u001b[32m, line 2\u001b[39m\n\u001b[32m      1\u001b[39m \u001b[38;5;66;03m# Yahoo Finance 데이터\u001b[39;00m\n\u001b[32m----> \u001b[39m\u001b[32m2\u001b[39m wti = \u001b[43mget_yfinance_data\u001b[49m\u001b[43m(\u001b[49m\u001b[33;43m'\u001b[39;49m\u001b[33;43mCL=F\u001b[39;49m\u001b[33;43m'\u001b[39;49m\u001b[43m,\u001b[49m\u001b[43m \u001b[49m\u001b[43mstart_date\u001b[49m\u001b[43m,\u001b[49m\u001b[43m \u001b[49m\u001b[43mend_date\u001b[49m\u001b[43m)\u001b[49m\n\u001b[32m      3\u001b[39m usd_krw = get_yfinance_data(\u001b[33m'\u001b[39m\u001b[33mKRW=X\u001b[39m\u001b[33m'\u001b[39m, start_date, end_date)\n\u001b[32m      4\u001b[39m gold = get_yfinance_data(\u001b[33m'\u001b[39m\u001b[33mGC=F\u001b[39m\u001b[33m'\u001b[39m, start_date, end_date)\n",
      "\u001b[36mCell\u001b[39m\u001b[36m \u001b[39m\u001b[32mIn[29]\u001b[39m\u001b[32m, line 4\u001b[39m, in \u001b[36mget_yfinance_data\u001b[39m\u001b[34m(ticker, start_date, end_date)\u001b[39m\n\u001b[32m      2\u001b[39m \u001b[38;5;28;01mdef\u001b[39;00m\u001b[38;5;250m \u001b[39m\u001b[34mget_yfinance_data\u001b[39m(ticker, start_date, end_date):\n\u001b[32m      3\u001b[39m     df = yf.download(ticker, start=start_date, end=end_date)\n\u001b[32m----> \u001b[39m\u001b[32m4\u001b[39m     \u001b[38;5;28;01mreturn\u001b[39;00m \u001b[43mdf\u001b[49m\u001b[43m[\u001b[49m\u001b[33;43m'\u001b[39;49m\u001b[33;43mClose\u001b[39;49m\u001b[33;43m'\u001b[39;49m\u001b[43m]\u001b[49m\u001b[43m.\u001b[49m\u001b[43mrename\u001b[49m\u001b[43m(\u001b[49m\u001b[43mticker\u001b[49m\u001b[43m)\u001b[49m\n",
      "\u001b[36mFile \u001b[39m\u001b[32md:\\workspace\\hit_ml_dl\\venv\\Lib\\site-packages\\pandas\\core\\frame.py:5774\u001b[39m, in \u001b[36mDataFrame.rename\u001b[39m\u001b[34m(self, mapper, index, columns, axis, copy, inplace, level, errors)\u001b[39m\n\u001b[32m   5643\u001b[39m \u001b[38;5;28;01mdef\u001b[39;00m\u001b[38;5;250m \u001b[39m\u001b[34mrename\u001b[39m(\n\u001b[32m   5644\u001b[39m     \u001b[38;5;28mself\u001b[39m,\n\u001b[32m   5645\u001b[39m     mapper: Renamer | \u001b[38;5;28;01mNone\u001b[39;00m = \u001b[38;5;28;01mNone\u001b[39;00m,\n\u001b[32m   (...)\u001b[39m\u001b[32m   5653\u001b[39m     errors: IgnoreRaise = \u001b[33m\"\u001b[39m\u001b[33mignore\u001b[39m\u001b[33m\"\u001b[39m,\n\u001b[32m   5654\u001b[39m ) -> DataFrame | \u001b[38;5;28;01mNone\u001b[39;00m:\n\u001b[32m   5655\u001b[39m \u001b[38;5;250m    \u001b[39m\u001b[33;03m\"\"\"\u001b[39;00m\n\u001b[32m   5656\u001b[39m \u001b[33;03m    Rename columns or index labels.\u001b[39;00m\n\u001b[32m   5657\u001b[39m \n\u001b[32m   (...)\u001b[39m\u001b[32m   5772\u001b[39m \u001b[33;03m    4  3  6\u001b[39;00m\n\u001b[32m   5773\u001b[39m \u001b[33;03m    \"\"\"\u001b[39;00m\n\u001b[32m-> \u001b[39m\u001b[32m5774\u001b[39m     \u001b[38;5;28;01mreturn\u001b[39;00m \u001b[38;5;28;43msuper\u001b[39;49m\u001b[43m(\u001b[49m\u001b[43m)\u001b[49m\u001b[43m.\u001b[49m\u001b[43m_rename\u001b[49m\u001b[43m(\u001b[49m\n\u001b[32m   5775\u001b[39m \u001b[43m        \u001b[49m\u001b[43mmapper\u001b[49m\u001b[43m=\u001b[49m\u001b[43mmapper\u001b[49m\u001b[43m,\u001b[49m\n\u001b[32m   5776\u001b[39m \u001b[43m        \u001b[49m\u001b[43mindex\u001b[49m\u001b[43m=\u001b[49m\u001b[43mindex\u001b[49m\u001b[43m,\u001b[49m\n\u001b[32m   5777\u001b[39m \u001b[43m        \u001b[49m\u001b[43mcolumns\u001b[49m\u001b[43m=\u001b[49m\u001b[43mcolumns\u001b[49m\u001b[43m,\u001b[49m\n\u001b[32m   5778\u001b[39m \u001b[43m        \u001b[49m\u001b[43maxis\u001b[49m\u001b[43m=\u001b[49m\u001b[43maxis\u001b[49m\u001b[43m,\u001b[49m\n\u001b[32m   5779\u001b[39m \u001b[43m        \u001b[49m\u001b[43mcopy\u001b[49m\u001b[43m=\u001b[49m\u001b[43mcopy\u001b[49m\u001b[43m,\u001b[49m\n\u001b[32m   5780\u001b[39m \u001b[43m        \u001b[49m\u001b[43minplace\u001b[49m\u001b[43m=\u001b[49m\u001b[43minplace\u001b[49m\u001b[43m,\u001b[49m\n\u001b[32m   5781\u001b[39m \u001b[43m        \u001b[49m\u001b[43mlevel\u001b[49m\u001b[43m=\u001b[49m\u001b[43mlevel\u001b[49m\u001b[43m,\u001b[49m\n\u001b[32m   5782\u001b[39m \u001b[43m        \u001b[49m\u001b[43merrors\u001b[49m\u001b[43m=\u001b[49m\u001b[43merrors\u001b[49m\u001b[43m,\u001b[49m\n\u001b[32m   5783\u001b[39m \u001b[43m    \u001b[49m\u001b[43m)\u001b[49m\n",
      "\u001b[36mFile \u001b[39m\u001b[32md:\\workspace\\hit_ml_dl\\venv\\Lib\\site-packages\\pandas\\core\\generic.py:1132\u001b[39m, in \u001b[36mNDFrame._rename\u001b[39m\u001b[34m(self, mapper, index, columns, axis, copy, inplace, level, errors)\u001b[39m\n\u001b[32m   1125\u001b[39m         missing_labels = [\n\u001b[32m   1126\u001b[39m             label\n\u001b[32m   1127\u001b[39m             \u001b[38;5;28;01mfor\u001b[39;00m index, label \u001b[38;5;129;01min\u001b[39;00m \u001b[38;5;28menumerate\u001b[39m(replacements)\n\u001b[32m   1128\u001b[39m             \u001b[38;5;28;01mif\u001b[39;00m indexer[index] == -\u001b[32m1\u001b[39m\n\u001b[32m   1129\u001b[39m         ]\n\u001b[32m   1130\u001b[39m         \u001b[38;5;28;01mraise\u001b[39;00m \u001b[38;5;167;01mKeyError\u001b[39;00m(\u001b[33mf\u001b[39m\u001b[33m\"\u001b[39m\u001b[38;5;132;01m{\u001b[39;00mmissing_labels\u001b[38;5;132;01m}\u001b[39;00m\u001b[33m not found in axis\u001b[39m\u001b[33m\"\u001b[39m)\n\u001b[32m-> \u001b[39m\u001b[32m1132\u001b[39m new_index = \u001b[43max\u001b[49m\u001b[43m.\u001b[49m\u001b[43m_transform_index\u001b[49m\u001b[43m(\u001b[49m\u001b[43mf\u001b[49m\u001b[43m,\u001b[49m\u001b[43m \u001b[49m\u001b[43mlevel\u001b[49m\u001b[43m=\u001b[49m\u001b[43mlevel\u001b[49m\u001b[43m)\u001b[49m\n\u001b[32m   1133\u001b[39m result._set_axis_nocheck(new_index, axis=axis_no, inplace=\u001b[38;5;28;01mTrue\u001b[39;00m, copy=\u001b[38;5;28;01mFalse\u001b[39;00m)\n\u001b[32m   1134\u001b[39m result._clear_item_cache()\n",
      "\u001b[36mFile \u001b[39m\u001b[32md:\\workspace\\hit_ml_dl\\venv\\Lib\\site-packages\\pandas\\core\\indexes\\base.py:6583\u001b[39m, in \u001b[36mIndex._transform_index\u001b[39m\u001b[34m(self, func, level)\u001b[39m\n\u001b[32m   6581\u001b[39m     \u001b[38;5;28;01mreturn\u001b[39;00m \u001b[38;5;28mtype\u001b[39m(\u001b[38;5;28mself\u001b[39m).from_arrays(values)\n\u001b[32m   6582\u001b[39m \u001b[38;5;28;01melse\u001b[39;00m:\n\u001b[32m-> \u001b[39m\u001b[32m6583\u001b[39m     items = [\u001b[43mfunc\u001b[49m\u001b[43m(\u001b[49m\u001b[43mx\u001b[49m\u001b[43m)\u001b[49m \u001b[38;5;28;01mfor\u001b[39;00m x \u001b[38;5;129;01min\u001b[39;00m \u001b[38;5;28mself\u001b[39m]\n\u001b[32m   6584\u001b[39m     \u001b[38;5;28;01mreturn\u001b[39;00m Index(items, name=\u001b[38;5;28mself\u001b[39m.name, tupleize_cols=\u001b[38;5;28;01mFalse\u001b[39;00m)\n",
      "\u001b[31mTypeError\u001b[39m: 'str' object is not callable"
     ]
    }
   ],
   "source": [
    "# Yahoo Finance 데이터\n",
    "wti = get_yfinance_data('CL=F', start_date, end_date)\n",
    "usd_krw = get_yfinance_data('KRW=X', start_date, end_date)\n",
    "gold = get_yfinance_data('GC=F', start_date, end_date)"
   ]
  },
  {
   "cell_type": "code",
   "execution_count": null,
   "id": "bb0ffcdb",
   "metadata": {},
   "outputs": [],
   "source": [
    "# Bithumb 데이터\n",
    "try:\n",
    "    btc_krw = get_bithumb_data('BTC', start_date, end_date)\n",
    "    eth_krw = get_bithumb_data('ETH', start_date, end_date)\n",
    "except Exception as e:\n",
    "    print(f\"Bithumb 데이터 수집 오류: {e}\")\n",
    "    # Fallback to synthetic data if Bithumb fails\n",
    "    btc_krw = pd.Series(1.62e8 + np.cumsum(np.random.normal(0, 2e6, 215)), index=dates, name='BTC_KRW')\n",
    "    eth_krw = pd.Series(5.28e6 + np.cumsum(np.random.normal(0, 8e4, 215)), index=dates, name='ETH_KRW')"
   ]
  },
  {
   "cell_type": "code",
   "execution_count": null,
   "id": "0dfc78fb",
   "metadata": {},
   "outputs": [],
   "source": []
  }
 ],
 "metadata": {
  "kernelspec": {
   "display_name": "venv",
   "language": "python",
   "name": "python3"
  },
  "language_info": {
   "codemirror_mode": {
    "name": "ipython",
    "version": 3
   },
   "file_extension": ".py",
   "mimetype": "text/x-python",
   "name": "python",
   "nbconvert_exporter": "python",
   "pygments_lexer": "ipython3",
   "version": "3.13.5"
  }
 },
 "nbformat": 4,
 "nbformat_minor": 5
}
