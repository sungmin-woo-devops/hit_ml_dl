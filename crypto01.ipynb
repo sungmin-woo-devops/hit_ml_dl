{
 "cells": [
  {
   "cell_type": "markdown",
   "id": "dc0b412e",
   "metadata": {},
   "source": [
    "# G-Research Crypto Forecasting \n",
    "https://www.kaggle.com/competitions/g-research-crypto-forecasting/code\n",
    "\n",
    "### Reference\n",
    "- https://www.kaggle.com/competitions/g-research-crypto-forecasting/code\n",
    "- https://www.kaggle.com/code/lucasmorin/on-line-feature-engineering\n",
    "\n",
    "### 특성 공학\n",
    "\n",
    "#### 암호화폐 데이터의 노이즈와 변동성을 고려할 때, 유의미한 특성을 생성하는 것이 핵심\n",
    "- 지연 특성(Lag Features): 이전 시간대의 수익률(예: t-1, t-2 시점의 값)\n",
    "- 이동 평균(Moving Averages): 5분, 15분 등 다양한 시간 단위의 평균 가격 또는 수익률\n",
    "- 변동성 지표(Volatility): 일정 구간 내 가격 변동의 표준편차\n",
    "- 기술적 지표: RSI, MACD와 같은 시장 분석 도구\n",
    "\n",
    "##### 지연 특성(Lag Features): 이전 시간대의 수익률(예: t-1, t-2 시점의 값)\n",
    "과거 시점의 데이터를 활용하여 현재 데이터를 예측하는 데 사용.\n",
    "예를 들어, 이전 시간대의 종가(Close) 또는 수익률을 특성으로 사용\n",
    "중요 이유: 암호화폐 가격은 종종 자기 상관성(autocorrelation)을 가지므로, 과거 가격이 미래 가격에 영향을 줄 수 있음\n",
    "예시: 분 단위 데이터에서 lag_1은 1분전 종가, lag_2는 2분전 종가를 의미합니다.\n",
    "\n",
    "##### 이동 평균(Moving Averages)\n",
    "- 일정 기간 동안의 가격 데이터를 평활화하여 장기적인 추세를 파악하는데 사용\n",
    "- 종류: SMA(Simple Moving Average), EMA(Exponential Moving Average)\n",
    "    - 단순 이동 평균: 최근 n 개 기간의 평균\n",
    "    - 지수 이동 평균: 최근 데이터에 더 많은 가중치를 두는 평균\n",
    "- 중요 이유: 암호화폐 시장의 변동성을 줄이고 추세를 명확히 파악하는데 유용\n",
    "- Close 가격 또는 수익률에 대해 5분, 15분 등의 시간 창(time window)으로 SMA와 EMA를 계산합니다.\n",
    "\n",
    "##### 변동성 지표(Volatility Indicators)\n",
    "- 변동성은 일정 기간 동안 가격 변동의 정도를 측정하며, 암호화폐의 높은 가격 변동성을 반영하는 데 필수적입니다.\n",
    "- 계산 방법: 수익률 또는 가격 변화의 표준편차를 일정 시간 창(예: 15분)으로 계산합니다.\n",
    "- 왜 중요한가?: 변동성은 거래 기회나 리스크를 나타내며, 모델이 시장의 불안정성을 이해하는 데 도움을 줍니다.\n",
    "- 구현 방법: 수익률의 15분 롤링 표준편차를 계산합니다.\n",
    "\n",
    "##### 기술적 지표(Technical Indicators)\n",
    "- RSI(상대강도지수), MACD(Moving Average Convergence Divergence)는 시장의 모멘텀과 추세를 파악하는데 사용\n",
    "- RSI: 가격 변화의 속도와 크기를 0~100 사이로 측정. RSI > 70은 과매수(overbought), RSI < 30은 과매도(oversold)를 나타냅니다.\n",
    "- MACD: 12기간과 26기간 EMA의 차이를 계산하고, 9기간 신호선(signal line)을 통해 추세 변화를 감지합니다.\n",
    "- 왜 중요한가?: 암호화폐의 급격한 가격 변동에서 모멘텀과 반전 시점을 포착하는 데 유용합니다.\n",
    "- 구현 방법: ta 라이브러리를 사용하거나 수동으로 RSI와 MACD를 계산합니다.\n",
    "\n",
    "##### 데이터 분할\n",
    "- 암호화폐 시장은 시간이 지남에 따라 진화하므로, 실시간 예측을 시뮬레이션하기 위해 시간 기반 데이터 분할이 필요\n",
    "- 시간 기반 분할 (Time-based split)\n",
    "    - 훈련 데이터: 초기 데이터(예: 70%)를 사용해 모델을 학습.\n",
    "    - 검증 데이터: 그 다음 연속된 시간 구간(예: 20%)를 사용해 하이퍼파라미터 튜닝.\n",
    "    - 테스트 데이터: 가장 최근 데이터(예: 10%)를 최종 평가에 사용.\n",
    "- 왜 중요한가?: 미래 데이터가 과거 예측에 영향을 주지 않도록 하여 데이터 누수(data leakage)를 방지\n",
    "- 구현방법: timestamp를 기준으로 데이터를 정렬하고 순차적으로 분할\n",
    "- 실시간 데이터 사용해 평가 -> 실험에서도 시간 기반 분할(Time-based split 적용)\n",
    "- 훈련 데이터: 과거 데이터의 초기 부분(예: 70%)\n",
    "- 검증 데이터: 이후 연속된 시간 구간(예: 20%)\n",
    "- 테스트 데이터: 마지막 구간(예: 10%) 또는 별도 준비된 미래 데이터"
   ]
  },
  {
   "cell_type": "code",
   "execution_count": null,
   "id": "df48a59a",
   "metadata": {},
   "outputs": [],
   "source": [
    "# 2차 시도 실패\n",
    "# chunk_size = 1000   # 청크 크기 설정(시스템 메로이에 따라 조정 가능)\n",
    "# chunk_iter = pd.read_csv(DATA_DIR + 'train.csv', encoding='utf-8', chunksize=chunk_size)\n",
    "# df_train_chunks = []\n",
    "# for chunk in chunk_iter:\n",
    "#     df_train_chunks.append(chunk)\n",
    "# df_train = pd.concat(df_train_chunks, ignore_index=True)\n",
    "\n",
    "# 3차 시도 parquet 성공\n",
    "# import dask.train_dfframe as dd\n",
    "# train_df = dd.read_csv(train_df_DIR + 'train.csv', \n",
    "#                        dtype={'Asset_ID': 'int8', 'Close': 'float32', 'Open': 'float32', \n",
    "#                               'High': 'float32', 'Low': 'float32', 'Volume': 'float32', \n",
    "#                               'VWAP': 'float32', 'Target': 'float32'})\n",
    "# print(train_df.info())\n",
    "# print(train_df.head())"
   ]
  },
  {
   "cell_type": "code",
   "execution_count": null,
   "id": "cb3be474",
   "metadata": {},
   "outputs": [],
   "source": [
    "import os\n",
    "import pandas as pd\n",
    "import numpy as np\n",
    "from datetime import datetime\n",
    "from sklearn.linear_model import Ridge\n",
    "from sklearn.metrics import mean_squared_error\n",
    "from sklearn.preprocessing import MinMaxScaler, RobustScaler, StandardScaler\n",
    "from sklearn.model_selection import train_test_split\n",
    "from ta.momentum import RSIIndicator\n",
    "from ta.volatility import BollingerBands\n",
    "from ta.trend import MACD\n",
    "import optuna\n",
    "import xgboost as xgb\n",
    "import matplotlib.pyplot as plt\n",
    "import seaborn as sns"
   ]
  },
  {
   "cell_type": "code",
   "execution_count": 279,
   "id": "80b1e854",
   "metadata": {},
   "outputs": [],
   "source": [
    "pd.set_option('display.max_rows', 6)\n",
    "pd.set_option('display.max_columns', 350)"
   ]
  },
  {
   "cell_type": "code",
   "execution_count": null,
   "id": "83b48ea9",
   "metadata": {},
   "outputs": [
    {
     "name": "stdout",
     "output_type": "stream",
     "text": [
      "d:\\workspace\\hit_ml_dl\n",
      "['.git', '.gitignore', 'actual_vs_predicted_returns.png', 'course', 'crypto01 copy.ipynb', 'crypto01.ipynb', 'crypto01.py', 'crypto_features.csv', 'data', 'energy', 'feature_correlation_heatmap.png', 'feature_correlation_heatmap_2.png', 'feature_correlation_heatmap_3.png', 'output.png', 'output_2.png', 'practice', 'quiz_01', 'README.md', 'resized_128.png', 'santander_analysis.png', 'santander_submission.csv', 'top_10_features.png', 'venv', 'ydata-profiling']\n"
     ]
    }
   ],
   "source": [
    "print(os.getcwd())\n",
    "print(os.listdir())\n",
    "BASE_DIR = os.getcwd()\n",
    "DATA_DIR = BASE_DIR + \"/data/g-research-crypto-forecasting/\""
   ]
  },
  {
   "cell_type": "markdown",
   "id": "26816683",
   "metadata": {},
   "source": [
    "### test_df 분석\n",
    "test_df는 실제로 예측을 수행해야 하는 데이터셋으로 이에 대한 구조를 파악해야\n",
    "어떤 피처가 들어오는지, 어떤 전처리가 필요한지, 어떤 식으로 예측 결과를 채워야 하는지 판단할 수 있음\n",
    "\n",
    "예측 후 결과를 sample_prediction_df['Target']에 채워 env.predict()로 제출해야 하므로\n",
    "test_df -> sample_prediction_df -> predict() 흐름을 이해하는 것이 우선됨"
   ]
  },
  {
   "cell_type": "code",
   "execution_count": null,
   "id": "662f1a49",
   "metadata": {},
   "outputs": [
    {
     "data": {
      "text/html": [
       "<div>\n",
       "<style scoped>\n",
       "    .dataframe tbody tr th:only-of-type {\n",
       "        vertical-align: middle;\n",
       "    }\n",
       "\n",
       "    .dataframe tbody tr th {\n",
       "        vertical-align: top;\n",
       "    }\n",
       "\n",
       "    .dataframe thead th {\n",
       "        text-align: right;\n",
       "    }\n",
       "</style>\n",
       "<table border=\"1\" class=\"dataframe\">\n",
       "  <thead>\n",
       "    <tr style=\"text-align: right;\">\n",
       "      <th></th>\n",
       "      <th>timestamp</th>\n",
       "      <th>Asset_ID</th>\n",
       "      <th>Count</th>\n",
       "      <th>Open</th>\n",
       "      <th>High</th>\n",
       "      <th>Low</th>\n",
       "      <th>Close</th>\n",
       "      <th>Volume</th>\n",
       "      <th>VWAP</th>\n",
       "      <th>group_num</th>\n",
       "      <th>row_id</th>\n",
       "    </tr>\n",
       "  </thead>\n",
       "  <tbody>\n",
       "    <tr>\n",
       "      <th>0</th>\n",
       "      <td>1623542400</td>\n",
       "      <td>3</td>\n",
       "      <td>1201.0</td>\n",
       "      <td>1.478556</td>\n",
       "      <td>1.48603</td>\n",
       "      <td>1.47800</td>\n",
       "      <td>1.483681</td>\n",
       "      <td>654799.561103</td>\n",
       "      <td>1.481439</td>\n",
       "      <td>0</td>\n",
       "      <td>0</td>\n",
       "    </tr>\n",
       "    <tr>\n",
       "      <th>1</th>\n",
       "      <td>1623542400</td>\n",
       "      <td>2</td>\n",
       "      <td>1020.0</td>\n",
       "      <td>580.306667</td>\n",
       "      <td>583.89000</td>\n",
       "      <td>579.91000</td>\n",
       "      <td>582.276667</td>\n",
       "      <td>1227.988328</td>\n",
       "      <td>581.697038</td>\n",
       "      <td>0</td>\n",
       "      <td>1</td>\n",
       "    </tr>\n",
       "    <tr>\n",
       "      <th>2</th>\n",
       "      <td>1623542400</td>\n",
       "      <td>0</td>\n",
       "      <td>626.0</td>\n",
       "      <td>343.789500</td>\n",
       "      <td>345.10800</td>\n",
       "      <td>343.64000</td>\n",
       "      <td>344.598000</td>\n",
       "      <td>1718.832569</td>\n",
       "      <td>344.441729</td>\n",
       "      <td>0</td>\n",
       "      <td>2</td>\n",
       "    </tr>\n",
       "    <tr>\n",
       "      <th>3</th>\n",
       "      <td>1623542400</td>\n",
       "      <td>1</td>\n",
       "      <td>2888.0</td>\n",
       "      <td>35554.289632</td>\n",
       "      <td>35652.46465</td>\n",
       "      <td>35502.67000</td>\n",
       "      <td>35602.004286</td>\n",
       "      <td>163.811537</td>\n",
       "      <td>35583.469303</td>\n",
       "      <td>0</td>\n",
       "      <td>3</td>\n",
       "    </tr>\n",
       "    <tr>\n",
       "      <th>4</th>\n",
       "      <td>1623542400</td>\n",
       "      <td>4</td>\n",
       "      <td>433.0</td>\n",
       "      <td>0.312167</td>\n",
       "      <td>0.31260</td>\n",
       "      <td>0.31192</td>\n",
       "      <td>0.312208</td>\n",
       "      <td>585577.410442</td>\n",
       "      <td>0.312154</td>\n",
       "      <td>0</td>\n",
       "      <td>4</td>\n",
       "    </tr>\n",
       "  </tbody>\n",
       "</table>\n",
       "</div>"
      ],
      "text/plain": [
       "    timestamp  Asset_ID   Count          Open         High          Low  \\\n",
       "0  1623542400         3  1201.0      1.478556      1.48603      1.47800   \n",
       "1  1623542400         2  1020.0    580.306667    583.89000    579.91000   \n",
       "2  1623542400         0   626.0    343.789500    345.10800    343.64000   \n",
       "3  1623542400         1  2888.0  35554.289632  35652.46465  35502.67000   \n",
       "4  1623542400         4   433.0      0.312167      0.31260      0.31192   \n",
       "\n",
       "          Close         Volume          VWAP  group_num  row_id  \n",
       "0      1.483681  654799.561103      1.481439          0       0  \n",
       "1    582.276667    1227.988328    581.697038          0       1  \n",
       "2    344.598000    1718.832569    344.441729          0       2  \n",
       "3  35602.004286     163.811537  35583.469303          0       3  \n",
       "4      0.312208  585577.410442      0.312154          0       4  "
      ]
     },
     "execution_count": 283,
     "metadata": {},
     "output_type": "execute_result"
    }
   ],
   "source": [
    "# 한 시점에 대한 자산(56개) 데이터 예시 제공용\n",
    "test_df = pd.read_csv(DATA_DIR + 'example_test.csv', encoding='utf-8')\n",
    "test_df.head()"
   ]
  },
  {
   "cell_type": "code",
   "execution_count": 286,
   "id": "042cfcdf",
   "metadata": {},
   "outputs": [
    {
     "name": "stdout",
     "output_type": "stream",
     "text": [
      "[ 2 16 30 44 17 31 45  3 29 43  1 15 42 14 28  0  4 18 46 32 33 47 19  5\n",
      " 21  7 49 35 34 48  6 20 36 50  8 22 23  9 51 37 52 38 10 24 27 13 41 55\n",
      " 54 40 12 26 25 11 39 53]\n",
      "56\n"
     ]
    }
   ],
   "source": [
    "# numpy array 변환\n",
    "timestamp,Asset_ID,Count,O,H,L,C,Volume,VWAP,row_id = (\n",
    "    test_df[col].values for col in ['timestamp','Asset_ID','Count','Open','High','Low','Close','Volume','VWAP','row_id']\n",
    ")\n",
    "\n",
    "# Asset_ID 기준 정렬 인덱스 생성 (오름차순)\n",
    "order = np.argsort(Asset_ID)                                \n",
    "print(order)\n",
    "print(len(order))"
   ]
  },
  {
   "cell_type": "code",
   "execution_count": null,
   "id": "cb6d6683",
   "metadata": {},
   "outputs": [
    {
     "name": "stdout",
     "output_type": "stream",
     "text": [
      "[ 0  1  2  3  4  5  6  7  8  9 10 11 12 13 14 15 16 17 18 19 20 21 22 23\n",
      " 24 25 26 27 28 29 30 31 32 33 34 35 36 37 38 39 40 41 42 43 44 45 46 47\n",
      " 48 49 50 51 52 53 54 55]\n"
     ]
    }
   ],
   "source": [
    "# 특정 시점에 누락된 자산(Asset_ID)이 있을 때\n",
    "# 결측된 자산들의 데이터를 NaN 값으로 채워 넣어 전체 자산 개수를 유지하려는 의도\n",
    "\n",
    "# 항상 다뤄야 할 자산 ID (0~55)\n",
    "EXPECTED_ASSET_IDS = list(range(56))\n",
    "\n",
    "# 실제 들어온 자산 ID\n",
    "existing_ids = test_df[\"Asset_ID\"].unique()\n",
    "print(existing_ids)\n",
    "\n",
    "# 누락된 자산 찾기\n",
    "missing_ids = [i for i in EXPECTED_ASSET_IDS if i not in existing_ids]\n",
    "if missing_ids:\n",
    "    print(f\"누락된 자산 ID: {missing_ids}\")\n",
    "else:\n",
    "    print(\"누락된 자산이 없습니다.\")"
   ]
  },
  {
   "cell_type": "code",
   "execution_count": null,
   "id": "b5eea903",
   "metadata": {},
   "outputs": [
    {
     "name": "stdout",
     "output_type": "stream",
     "text": [
      "[4.30406509 6.77992191 2.39789527 4.40671925 3.55534806 1.38629436\n",
      " 5.89440283 2.07944154 1.09861229 2.39789527 1.09861229 1.60943791\n",
      " 2.07944154 1.79175947        nan        nan        nan        nan\n",
      "        nan        nan        nan        nan        nan        nan\n",
      "        nan        nan        nan        nan        nan        nan\n",
      "        nan        nan        nan        nan        nan        nan\n",
      "        nan        nan        nan        nan        nan        nan\n",
      "        nan        nan        nan        nan        nan        nan\n",
      "        nan        nan        nan        nan        nan        nan\n",
      "        nan        nan]\n"
     ]
    }
   ],
   "source": [
    "# Base Feature Engineering\n",
    "asset_details = pd.read_csv(DATA_DIR + 'asset_details.csv', encoding='utf-8')\n",
    "\n",
    "# dict로 변환\n",
    "dict_weights = dict(zip(asset_details['Asset_ID'], asset_details['Weight']))\n",
    "\n",
    "# 전체 자산 ID 리스트 (0~55)\n",
    "EXPECTED_ASSET_IDS = list(range(56))\n",
    "\n",
    "# 56개 자산에 대한 weight 벡터 생성\n",
    "# 누락된 Asset_ID NaN으로 넣고 추후 제거\n",
    "weights = np.array([dict_weights.get(i, np.nan) for i in EXPECTED_ASSET_IDS])\n",
    "print(weights)"
   ]
  },
  {
   "cell_type": "code",
   "execution_count": 307,
   "id": "37693632",
   "metadata": {},
   "outputs": [],
   "source": [
    "# VWAP 값 중 무한대가 포함된 경우 Close와 Open의 평균값으로 대체하려는 처리\n",
    "VWAP = np.where(np.isinf(VWAP),(C+O)/2,VWAP)"
   ]
  },
  {
   "cell_type": "code",
   "execution_count": 308,
   "id": "0282ad13",
   "metadata": {},
   "outputs": [],
   "source": [
    "# 불필요하게 큰 데이터 타입을 줄여 메모리와 연산 최적화\n",
    "# Count, row_id 이후 데이터 타입 변경(float32 -> int32)\n",
    "dtype={'Asset_ID': 'int8', 'Count': 'float32', 'row_id': 'float32',\n",
    "       'Open': 'float32', 'High': 'float32', 'Low': 'float32', 'Close': 'float32',\n",
    "       'Volume': 'float32', 'VWAP': 'float32'}\n",
    "test_df = test_df.astype(dtype)\n",
    "\n",
    "# 왜 inf 처리하는가?\n",
    "# VWAP(거래량 가중 평균 가격)은 계산 과정에서 Volume=0이면 0으로 나누기로 인해 inf 발생 가능\n",
    "# inf가 모델 입력에 포함되면 훈련 불안정 / NaN 확산 등의 문제가 생김\n",
    "# 따라서 **무한대 값을 의미 있는 수치(예: 중간가격)**으로 대체하여 안정성 확보"
   ]
  },
  {
   "cell_type": "code",
   "execution_count": 309,
   "id": "3bb08583",
   "metadata": {},
   "outputs": [],
   "source": [
    "# Standardising Features\n",
    "base = C\n",
    "O = O/base\n",
    "H = H/base\n",
    "L = L/base\n",
    "C = C/base\n",
    "VWAP = VWAP/base\n",
    "Price = base\n",
    "\n",
    "# Using dollars \n",
    "Dollars = Volume * Price\n",
    "Volume_per_trade = Volume/Count\n",
    "Dollars_per_trade = Dollars/Count\n",
    "\n",
    "# log returns and volatility estimators\n",
    "log_ret = np.log(C/O)\n",
    "GK_vol = (1 / 2 * np.log(H/L) ** 2 - (2 * np.log(2) - 1) * np.log(C / O) ** 2)\n",
    "RS_vol = np.log(H/C)*np.log(H/O) + np.log(L/C)*np.log(L/O)"
   ]
  },
  {
   "cell_type": "markdown",
   "id": "60b955f0",
   "metadata": {},
   "source": [
    "### Market Features"
   ]
  },
  {
   "cell_type": "code",
   "execution_count": 310,
   "id": "d7abb4a9",
   "metadata": {},
   "outputs": [],
   "source": [
    "#get back missing values in weights \n",
    "weights = np.where(np.isnan(O),O,weights)\n",
    "Market_Features = np.nansum(np.array([Count,O,H,L,C,Price,Volume,VWAP,Dollars,Volume_per_trade,Dollars_per_trade,log_ret,GK_vol,RS_vol])*weights/np.nansum(weights),axis=1)"
   ]
  },
  {
   "cell_type": "markdown",
   "id": "7783ce70",
   "metadata": {},
   "source": [
    "### Time Features"
   ]
  },
  {
   "cell_type": "code",
   "execution_count": 312,
   "id": "11c70c14",
   "metadata": {},
   "outputs": [
    {
     "data": {
      "text/plain": [
       "array([ 1.22464680e-16, -1.00000000e+00,  4.85301963e-01, -8.74346616e-01,\n",
       "        7.07106781e-01, -7.07106781e-01,  0.00000000e+00,  1.00000000e+00])"
      ]
     },
     "execution_count": 312,
     "metadata": {},
     "output_type": "execute_result"
    }
   ],
   "source": [
    "def timestamp_to_date(timestamp):\n",
    "    return(datetime.fromtimestamp(timestamp))\n",
    "\n",
    "timestamp = timestamp_to_date(timestamp[0])\n",
    "\n",
    "sin_month = (np.sin(2 * np.pi * timestamp.month/12))\n",
    "cos_month = (np.cos(2 * np.pi * timestamp.month/12))\n",
    "sin_day = (np.sin(2 * np.pi * timestamp.day/31))\n",
    "cos_day = (np.cos(2 * np.pi * timestamp.day/31))\n",
    "sin_hour = (np.sin(2 * np.pi * timestamp.hour/24))\n",
    "cos_hour = (np.cos(2 * np.pi * timestamp.hour/24))\n",
    "sin_minute = (np.sin(2 * np.pi * timestamp.minute/60))\n",
    "cos_minute = (np.cos(2 * np.pi * timestamp.minute/60))\n",
    "\n",
    "time_features = np.array((sin_month,cos_month,sin_day,cos_day,sin_hour,cos_hour,sin_minute,cos_minute))\n",
    "time_features"
   ]
  },
  {
   "cell_type": "markdown",
   "id": "a4c42ea8",
   "metadata": {},
   "source": [
    "### Running Moving Average"
   ]
  },
  {
   "cell_type": "code",
   "execution_count": null,
   "id": "64e048aa",
   "metadata": {},
   "outputs": [],
   "source": [
    "# Standard pandas moving average implementation would look like this:\n",
    "# rw = 10000\n",
    "# train_data_rolled = train_data.rolling(window=rw).mean()\n",
    "# But that wouldn't be practical. One idea is to get values in memory, then perform the mean. This would be rather inefficient too. \n",
    "# A better approach is to keep track of the cumulated sum. Only adding the last instance / removing the further one in time at each time step."
   ]
  },
  {
   "cell_type": "code",
   "execution_count": 314,
   "id": "1d980a96",
   "metadata": {},
   "outputs": [],
   "source": [
    "import collections\n",
    "from collections import deque\n",
    "\n",
    "class RunningMean:\n",
    "    def __init__(self, WIN_SIZE=20, n_size = 1):\n",
    "        self.n = 0\n",
    "        self.mean = np.zeros(n_size)\n",
    "        self.cum_sum = 0\n",
    "        self.past_value = 0\n",
    "        self.WIN_SIZE = WIN_SIZE\n",
    "        self.windows = collections.deque(maxlen=WIN_SIZE+1)\n",
    "        \n",
    "    def clear(self):\n",
    "        self.n = 0\n",
    "        self.windows.clear()\n",
    "\n",
    "    def push(self, x):\n",
    "        #currently fillna with past value, might want to change that\n",
    "        x = fillna_npwhere(x, self.past_value)\n",
    "        self.past_value = x\n",
    "        \n",
    "        self.windows.append(x)\n",
    "        self.cum_sum += x\n",
    "        \n",
    "        if self.n < self.WIN_SIZE:\n",
    "            self.n += 1\n",
    "            self.mean = self.cum_sum / float(self.n)\n",
    "            \n",
    "        else:\n",
    "            self.cum_sum -= self.windows.popleft()\n",
    "            self.mean = self.cum_sum / float(self.WIN_SIZE)\n",
    "\n",
    "    def get_mean(self):\n",
    "        return self.mean if self.n else np.zeros(n_size)\n",
    "\n",
    "    def __str__(self):\n",
    "        return \"Current window values: {}\".format(list(self.windows))\n",
    "\n",
    "# Temporary removing njit as it cause many bugs down the line\n",
    "# Problems mainly due to data types, I have to find where I need to constraint types so as not to make njit angry\n",
    "#@njit\n",
    "def fillna_npwhere(array, values):\n",
    "    if np.isnan(array.sum()):\n",
    "        array = np.where(np.isnan(array), values, array)\n",
    "    return array"
   ]
  },
  {
   "cell_type": "markdown",
   "id": "ad1aca87",
   "metadata": {},
   "source": [
    "### Moving Average Feature"
   ]
  },
  {
   "cell_type": "code",
   "execution_count": 315,
   "id": "7abfed96",
   "metadata": {},
   "outputs": [
    {
     "name": "stderr",
     "output_type": "stream",
     "text": [
      "100%|██████████| 10000/10000 [00:01<00:00, 5904.03it/s]"
     ]
    },
    {
     "name": "stdout",
     "output_type": "stream",
     "text": [
      "CPU times: total: 1.69 s\n",
      "Wall time: 1.7 s\n"
     ]
    },
    {
     "name": "stderr",
     "output_type": "stream",
     "text": [
      "\n"
     ]
    }
   ],
   "source": [
    "%%time \n",
    "\n",
    "MA_lags = [2,5,15,30,60,120,300,1800,3750,10*24*60,30*24*60]\n",
    "\n",
    "\n",
    "Features = np.transpose(np.array([Count,O,H,L,C,Price,Volume,VWAP,Dollars,Volume_per_trade,Dollars_per_trade,log_ret,GK_vol,RS_vol]))\n",
    "\n",
    "#instantiation Moving average features dict\n",
    "dict_RM = {}\n",
    "dict_RM_M = {}\n",
    "for lag in MA_lags:\n",
    "    dict_RM[lag] = RunningMean(lag)\n",
    "    dict_RM_M[lag] = RunningMean(lag)\n",
    "\n",
    "for i in tqdm(range(10000)):\n",
    "    \n",
    "    MA_Features = []\n",
    "    MA_Features_M  = [] \n",
    "    \n",
    "    for lag in MA_lags:\n",
    "        dict_RM[lag].push(Features)\n",
    "        dict_RM_M[lag].push(Market_Features)\n",
    "        \n",
    "        MA_Features.append(dict_RM[lag].get_mean())\n",
    "        MA_Features_M.append(dict_RM_M[lag].get_mean())\n",
    "        \n",
    "    MA_Features = np.concatenate(MA_Features,axis=1)\n",
    "    MA_Features_M = np.concatenate(MA_Features_M)"
   ]
  },
  {
   "cell_type": "markdown",
   "id": "90476b63",
   "metadata": {},
   "source": [
    "### Betas\n",
    "For a lack of a better implementation I started with just two memories."
   ]
  },
  {
   "cell_type": "code",
   "execution_count": 316,
   "id": "d90f00a5",
   "metadata": {},
   "outputs": [
    {
     "name": "stderr",
     "output_type": "stream",
     "text": [
      "100%|██████████| 10000/10000 [00:01<00:00, 5974.44it/s]"
     ]
    },
    {
     "name": "stdout",
     "output_type": "stream",
     "text": [
      "CPU times: total: 1.67 s\n",
      "Wall time: 1.68 s\n"
     ]
    },
    {
     "name": "stderr",
     "output_type": "stream",
     "text": [
      "\n"
     ]
    }
   ],
   "source": [
    "%%time \n",
    "\n",
    "beta_lags = [30,60,120,300,600,1800,3750,10*24*60,30*24*60]\n",
    "\n",
    "#instantiation dict betas\n",
    "dict_MM = {}\n",
    "dict_Mr = {}\n",
    "for lag in beta_lags:\n",
    "    dict_MM[lag] = RunningMean(lag)\n",
    "    dict_Mr[lag] = RunningMean(lag)\n",
    "\n",
    "for i in tqdm(range(10000)):\n",
    "    \n",
    "    betas = []\n",
    "    \n",
    "    for lag in beta_lags:\n",
    "        dict_MM[lag].push(Market_Features[11]**2)\n",
    "        dict_Mr[lag].push(Market_Features[11]*Features[11])\n",
    "        betas.append(np.expand_dims(dict_Mr[lag].get_mean()/dict_MM[lag].get_mean(),axis=1))\n",
    "        \n",
    "    betas = np.concatenate(betas,axis=1)"
   ]
  },
  {
   "cell_type": "markdown",
   "id": "1de4139f",
   "metadata": {},
   "source": [
    "### Putting it all together - cleaning and testing"
   ]
  },
  {
   "cell_type": "code",
   "execution_count": 318,
   "id": "cc6ca7ce",
   "metadata": {},
   "outputs": [
    {
     "name": "stderr",
     "output_type": "stream",
     "text": [
      "  0%|          | 0/10000 [00:00<?, ?it/s]"
     ]
    },
    {
     "name": "stdout",
     "output_type": "stream",
     "text": [
      "CPU times: total: 15.6 ms\n",
      "Wall time: 10.4 ms\n"
     ]
    },
    {
     "name": "stderr",
     "output_type": "stream",
     "text": [
      "\n"
     ]
    },
    {
     "ename": "ValueError",
     "evalue": "too many values to unpack (expected 10)",
     "output_type": "error",
     "traceback": [
      "\u001b[31m---------------------------------------------------------------------------\u001b[39m",
      "\u001b[31mValueError\u001b[39m                                Traceback (most recent call last)",
      "\u001b[36mCell\u001b[39m\u001b[36m \u001b[39m\u001b[32mIn[318]\u001b[39m\u001b[32m, line 1\u001b[39m\n\u001b[32m----> \u001b[39m\u001b[32m1\u001b[39m \u001b[43mget_ipython\u001b[49m\u001b[43m(\u001b[49m\u001b[43m)\u001b[49m\u001b[43m.\u001b[49m\u001b[43mrun_cell_magic\u001b[49m\u001b[43m(\u001b[49m\u001b[33;43m'\u001b[39;49m\u001b[33;43mtime\u001b[39;49m\u001b[33;43m'\u001b[39;49m\u001b[43m,\u001b[49m\u001b[43m \u001b[49m\u001b[33;43m'\u001b[39;49m\u001b[33;43m'\u001b[39;49m\u001b[43m,\u001b[49m\u001b[43m \u001b[49m\u001b[33;43m\"\u001b[39;49m\u001b[38;5;130;43;01m\\n\u001b[39;49;00m\u001b[33;43m# not building the weights each loops\u001b[39;49m\u001b[38;5;130;43;01m\\n\u001b[39;49;00m\u001b[33;43masset_details = pd.read_csv(DATA_DIR + \u001b[39;49m\u001b[33;43m'\u001b[39;49m\u001b[33;43masset_details.csv\u001b[39;49m\u001b[33;43m'\u001b[39;49m\u001b[33;43m, encoding=\u001b[39;49m\u001b[33;43m'\u001b[39;49m\u001b[33;43mutf-8\u001b[39;49m\u001b[33;43m'\u001b[39;49m\u001b[33;43m)\u001b[39;49m\u001b[38;5;130;43;01m\\n\u001b[39;49;00m\u001b[38;5;130;43;01m\\n\u001b[39;49;00m\u001b[33;43mdict_weights = \u001b[39;49m\u001b[38;5;132;43;01m{}\u001b[39;49;00m\u001b[38;5;130;43;01m\\n\u001b[39;49;00m\u001b[33;43mfor i in range(asset_details.shape[0]):\u001b[39;49m\u001b[38;5;130;43;01m\\n\u001b[39;49;00m\u001b[33;43m    dict_weights[asset_details.iloc[i,0]] = asset_details.iloc[i,1]\u001b[39;49m\u001b[38;5;130;43;01m\\n\u001b[39;49;00m\u001b[33;43mweigths = np.array([dict_weights[i] for i in range(14)])\u001b[39;49m\u001b[38;5;130;43;01m\\n\u001b[39;49;00m\u001b[38;5;130;43;01m\\n\u001b[39;49;00m\u001b[33;43m# only needed when saving ?\u001b[39;49m\u001b[38;5;130;43;01m\\n\u001b[39;49;00m\u001b[33;43mdtype=\u001b[39;49m\u001b[33;43m{\u001b[39;49m\u001b[33;43m'\u001b[39;49m\u001b[33;43mAsset_ID\u001b[39;49m\u001b[33;43m'\u001b[39;49m\u001b[33;43m: \u001b[39;49m\u001b[33;43m'\u001b[39;49m\u001b[33;43mint8\u001b[39;49m\u001b[33;43m'\u001b[39;49m\u001b[33;43m, \u001b[39;49m\u001b[33;43m'\u001b[39;49m\u001b[33;43mCount\u001b[39;49m\u001b[33;43m'\u001b[39;49m\u001b[33;43m: \u001b[39;49m\u001b[33;43m'\u001b[39;49m\u001b[33;43mint32\u001b[39;49m\u001b[33;43m'\u001b[39;49m\u001b[33;43m, \u001b[39;49m\u001b[33;43m'\u001b[39;49m\u001b[33;43mrow_id\u001b[39;49m\u001b[33;43m'\u001b[39;49m\u001b[33;43m: \u001b[39;49m\u001b[33;43m'\u001b[39;49m\u001b[33;43mint32\u001b[39;49m\u001b[33;43m'\u001b[39;49m\u001b[33;43m, \u001b[39;49m\u001b[33;43m'\u001b[39;49m\u001b[33;43mCount\u001b[39;49m\u001b[33;43m'\u001b[39;49m\u001b[33;43m: \u001b[39;49m\u001b[33;43m'\u001b[39;49m\u001b[33;43mint32\u001b[39;49m\u001b[33;43m'\u001b[39;49m\u001b[33;43m,\u001b[39;49m\u001b[38;5;130;43;01m\\n\u001b[39;49;00m\u001b[33;43m       \u001b[39;49m\u001b[33;43m'\u001b[39;49m\u001b[33;43mOpen\u001b[39;49m\u001b[33;43m'\u001b[39;49m\u001b[33;43m: \u001b[39;49m\u001b[33;43m'\u001b[39;49m\u001b[33;43mfloat32\u001b[39;49m\u001b[33;43m'\u001b[39;49m\u001b[33;43m, \u001b[39;49m\u001b[33;43m'\u001b[39;49m\u001b[33;43mHigh\u001b[39;49m\u001b[33;43m'\u001b[39;49m\u001b[33;43m: \u001b[39;49m\u001b[33;43m'\u001b[39;49m\u001b[33;43mfloat32\u001b[39;49m\u001b[33;43m'\u001b[39;49m\u001b[33;43m, \u001b[39;49m\u001b[33;43m'\u001b[39;49m\u001b[33;43mLow\u001b[39;49m\u001b[33;43m'\u001b[39;49m\u001b[33;43m: \u001b[39;49m\u001b[33;43m'\u001b[39;49m\u001b[33;43mfloat32\u001b[39;49m\u001b[33;43m'\u001b[39;49m\u001b[33;43m, \u001b[39;49m\u001b[33;43m'\u001b[39;49m\u001b[33;43mClose\u001b[39;49m\u001b[33;43m'\u001b[39;49m\u001b[33;43m: \u001b[39;49m\u001b[33;43m'\u001b[39;49m\u001b[33;43mfloat32\u001b[39;49m\u001b[33;43m'\u001b[39;49m\u001b[33;43m,\u001b[39;49m\u001b[38;5;130;43;01m\\n\u001b[39;49;00m\u001b[33;43m       \u001b[39;49m\u001b[33;43m'\u001b[39;49m\u001b[33;43mVolume\u001b[39;49m\u001b[33;43m'\u001b[39;49m\u001b[33;43m: \u001b[39;49m\u001b[33;43m'\u001b[39;49m\u001b[33;43mfloat32\u001b[39;49m\u001b[33;43m'\u001b[39;49m\u001b[33;43m, \u001b[39;49m\u001b[33;43m'\u001b[39;49m\u001b[33;43mVWAP\u001b[39;49m\u001b[33;43m'\u001b[39;49m\u001b[33;43m: \u001b[39;49m\u001b[33;43m'\u001b[39;49m\u001b[33;43mfloat32\u001b[39;49m\u001b[33;43m'\u001b[39;49m\u001b[33;43m}\u001b[39;49m\u001b[38;5;130;43;01m\\n\u001b[39;49;00m\u001b[33;43m#test_df = test_df.astype(dtype)\u001b[39;49m\u001b[38;5;130;43;01m\\n\u001b[39;49;00m\u001b[38;5;130;43;01m\\n\u001b[39;49;00m\u001b[33;43m#refactoring functions:\u001b[39;49m\u001b[38;5;130;43;01m\\n\u001b[39;49;00m\u001b[38;5;130;43;01m\\n\u001b[39;49;00m\u001b[33;43mdef Clean_df(x):\u001b[39;49m\u001b[38;5;130;43;01m\\n\u001b[39;49;00m\u001b[33;43m    Asset_ID = x[:,1]\u001b[39;49m\u001b[38;5;130;43;01m\\n\u001b[39;49;00m\u001b[33;43m    timestamp = x[0,0]\u001b[39;49m\u001b[38;5;130;43;01m\\n\u001b[39;49;00m\u001b[33;43m    if len(Asset_ID)<14:\u001b[39;49m\u001b[38;5;130;43;01m\\n\u001b[39;49;00m\u001b[33;43m        missing_ID = [i for i in range(14) if i not in Asset_ID]\u001b[39;49m\u001b[38;5;130;43;01m\\n\u001b[39;49;00m\u001b[33;43m        for i in missing_ID:\u001b[39;49m\u001b[38;5;130;43;01m\\n\u001b[39;49;00m\u001b[33;43m            row = np.array((timestamp,i,np.nan,np.nan,np.nan,np.nan,np.nan,np.nan,np.nan,np.nan))\u001b[39;49m\u001b[38;5;130;43;01m\\n\u001b[39;49;00m\u001b[33;43m            x = np.concatenate((x,np.expand_dims(row,axis=0)))\u001b[39;49m\u001b[38;5;130;43;01m\\n\u001b[39;49;00m\u001b[33;43m    x = x[np.argsort(x[:,1])]\u001b[39;49m\u001b[38;5;130;43;01m\\n\u001b[39;49;00m\u001b[33;43m    return (x[:,i] for i in range(x.shape[1]))\u001b[39;49m\u001b[38;5;130;43;01m\\n\u001b[39;49;00m\u001b[38;5;130;43;01m\\n\u001b[39;49;00m\u001b[33;43mdef Base_Feature_fn(timestamp,Asset_ID,Count,O,H,L,C,Volume,VWAP):\u001b[39;49m\u001b[38;5;130;43;01m\\n\u001b[39;49;00m\u001b[33;43m    VWAP = np.where(np.isinf(VWAP),(C+O)/2,VWAP)\u001b[39;49m\u001b[38;5;130;43;01m\\n\u001b[39;49;00m\u001b[33;43m    base = C\u001b[39;49m\u001b[38;5;130;43;01m\\n\u001b[39;49;00m\u001b[33;43m    O = O/base\u001b[39;49m\u001b[38;5;130;43;01m\\n\u001b[39;49;00m\u001b[33;43m    H = H/base\u001b[39;49m\u001b[38;5;130;43;01m\\n\u001b[39;49;00m\u001b[33;43m    L = L/base\u001b[39;49m\u001b[38;5;130;43;01m\\n\u001b[39;49;00m\u001b[33;43m    C = C/base\u001b[39;49m\u001b[38;5;130;43;01m\\n\u001b[39;49;00m\u001b[33;43m    VWAP = VWAP/base\u001b[39;49m\u001b[38;5;130;43;01m\\n\u001b[39;49;00m\u001b[33;43m    Price = base\u001b[39;49m\u001b[38;5;130;43;01m\\n\u001b[39;49;00m\u001b[38;5;130;43;01m\\n\u001b[39;49;00m\u001b[33;43m    Dollars = Volume * Price\u001b[39;49m\u001b[38;5;130;43;01m\\n\u001b[39;49;00m\u001b[33;43m    Volume_per_trade = Volume/Count\u001b[39;49m\u001b[38;5;130;43;01m\\n\u001b[39;49;00m\u001b[33;43m    Dollars_per_trade = Dollars/Count\u001b[39;49m\u001b[38;5;130;43;01m\\n\u001b[39;49;00m\u001b[38;5;130;43;01m\\n\u001b[39;49;00m\u001b[33;43m    log_ret = np.log(C/O)\u001b[39;49m\u001b[38;5;130;43;01m\\n\u001b[39;49;00m\u001b[33;43m    log_ret_H = np.log(H/C)\u001b[39;49m\u001b[38;5;130;43;01m\\n\u001b[39;49;00m\u001b[33;43m    log_ret_L = np.log(C/L)\u001b[39;49m\u001b[38;5;130;43;01m\\n\u001b[39;49;00m\u001b[33;43m    log_ret_VWAP = np.log(C/VWAP)\u001b[39;49m\u001b[38;5;130;43;01m\\n\u001b[39;49;00m\u001b[38;5;130;43;01m\\n\u001b[39;49;00m\u001b[33;43m    GK_vol = (1 / 2 * np.log(H/L) ** 2 - (2 * np.log(2) - 1) * np.log(C/O) ** 2)\u001b[39;49m\u001b[38;5;130;43;01m\\n\u001b[39;49;00m\u001b[33;43m    RS_vol = np.log(H/C)*np.log(H/O) + np.log(L/C)*np.log(L/O)\u001b[39;49m\u001b[38;5;130;43;01m\\n\u001b[39;49;00m\u001b[38;5;130;43;01m\\n\u001b[39;49;00m\u001b[33;43m    #return(np.transpose(np.array([Count,O,H,L,C,Price,Volume,VWAP,Dollars,Volume_per_trade,Dollars_per_trade,log_ret,GK_vol,RS_vol])))\u001b[39;49m\u001b[38;5;130;43;01m\\n\u001b[39;49;00m\u001b[38;5;130;43;01m\\n\u001b[39;49;00m\u001b[33;43m    log_Count,log_Volume,log_Dollars,log_Volume_per_trade,log_Dollars_per_trade = np.log([Count,Volume,Dollars,Volume_per_trade,Dollars_per_trade])\u001b[39;49m\u001b[38;5;130;43;01m\\n\u001b[39;49;00m\u001b[38;5;130;43;01m\\n\u001b[39;49;00m\u001b[33;43m    return(np.transpose(np.array([log_ret,log_ret_H,log_ret_L,log_ret_VWAP,GK_vol,RS_vol,log_Count,log_Volume,log_Dollars,log_Volume_per_trade,log_Dollars_per_trade])))\u001b[39;49m\u001b[38;5;130;43;01m\\n\u001b[39;49;00m\u001b[38;5;130;43;01m\\n\u001b[39;49;00m\u001b[33;43mdef Time_Feature_fn(timestamp):\u001b[39;49m\u001b[38;5;130;43;01m\\n\u001b[39;49;00m\u001b[38;5;130;43;01m\\n\u001b[39;49;00m\u001b[33;43m    sin_month = (np.sin(2 * np.pi * timestamp.month/12))\u001b[39;49m\u001b[38;5;130;43;01m\\n\u001b[39;49;00m\u001b[33;43m    cos_month = (np.cos(2 * np.pi * timestamp.month/12))\u001b[39;49m\u001b[38;5;130;43;01m\\n\u001b[39;49;00m\u001b[33;43m    sin_day = (np.sin(2 * np.pi * timestamp.day/31))\u001b[39;49m\u001b[38;5;130;43;01m\\n\u001b[39;49;00m\u001b[33;43m    cos_day = (np.cos(2 * np.pi * timestamp.day/31))\u001b[39;49m\u001b[38;5;130;43;01m\\n\u001b[39;49;00m\u001b[33;43m    sin_hour = (np.sin(2 * np.pi * timestamp.hour/24))\u001b[39;49m\u001b[38;5;130;43;01m\\n\u001b[39;49;00m\u001b[33;43m    cos_hour = (np.cos(2 * np.pi * timestamp.hour/24))\u001b[39;49m\u001b[38;5;130;43;01m\\n\u001b[39;49;00m\u001b[33;43m    sin_minute = (np.sin(2 * np.pi * timestamp.minute/60))\u001b[39;49m\u001b[38;5;130;43;01m\\n\u001b[39;49;00m\u001b[33;43m    cos_minute = (np.cos(2 * np.pi * timestamp.minute/60))\u001b[39;49m\u001b[38;5;130;43;01m\\n\u001b[39;49;00m\u001b[38;5;130;43;01m\\n\u001b[39;49;00m\u001b[33;43m    return(np.array((sin_month,cos_month,sin_day,cos_day,sin_hour,cos_hour,sin_minute,cos_minute)))\u001b[39;49m\u001b[38;5;130;43;01m\\n\u001b[39;49;00m\u001b[38;5;130;43;01m\\n\u001b[39;49;00m\u001b[33;43mMA_lags = [2,5,15,30,60,120,300,1800,3750,10*24*60,30*24*60]\u001b[39;49m\u001b[38;5;130;43;01m\\n\u001b[39;49;00m\u001b[38;5;130;43;01m\\n\u001b[39;49;00m\u001b[33;43m#instantiation Moving average features dict\u001b[39;49m\u001b[38;5;130;43;01m\\n\u001b[39;49;00m\u001b[33;43mdict_RM = \u001b[39;49m\u001b[38;5;132;43;01m{}\u001b[39;49;00m\u001b[38;5;130;43;01m\\n\u001b[39;49;00m\u001b[33;43mdict_RM_M = \u001b[39;49m\u001b[38;5;132;43;01m{}\u001b[39;49;00m\u001b[38;5;130;43;01m\\n\u001b[39;49;00m\u001b[38;5;130;43;01m\\n\u001b[39;49;00m\u001b[33;43mfor lag in MA_lags:\u001b[39;49m\u001b[38;5;130;43;01m\\n\u001b[39;49;00m\u001b[33;43m    dict_RM[lag] = RunningMean(lag)\u001b[39;49m\u001b[38;5;130;43;01m\\n\u001b[39;49;00m\u001b[33;43m    dict_RM_M[lag] = RunningMean(lag)\u001b[39;49m\u001b[38;5;130;43;01m\\n\u001b[39;49;00m\u001b[38;5;130;43;01m\\n\u001b[39;49;00m\u001b[33;43mbeta_lags = [60,300,1800,3750,10*24*60,30*24*60]\u001b[39;49m\u001b[38;5;130;43;01m\\n\u001b[39;49;00m\u001b[38;5;130;43;01m\\n\u001b[39;49;00m\u001b[33;43m#instantiation dict betas\u001b[39;49m\u001b[38;5;130;43;01m\\n\u001b[39;49;00m\u001b[33;43mdict_MM = \u001b[39;49m\u001b[38;5;132;43;01m{}\u001b[39;49;00m\u001b[38;5;130;43;01m\\n\u001b[39;49;00m\u001b[33;43mdict_Mr = \u001b[39;49m\u001b[38;5;132;43;01m{}\u001b[39;49;00m\u001b[38;5;130;43;01m\\n\u001b[39;49;00m\u001b[33;43mfor lag in beta_lags:\u001b[39;49m\u001b[38;5;130;43;01m\\n\u001b[39;49;00m\u001b[33;43m    dict_MM[lag] = RunningMean(lag)\u001b[39;49m\u001b[38;5;130;43;01m\\n\u001b[39;49;00m\u001b[33;43m    dict_Mr[lag] = RunningMean(lag)\u001b[39;49m\u001b[38;5;130;43;01m\\n\u001b[39;49;00m\u001b[38;5;130;43;01m\\n\u001b[39;49;00m\u001b[33;43mfor i in tqdm(range(10000)):\u001b[39;49m\u001b[38;5;130;43;01m\\n\u001b[39;49;00m\u001b[38;5;130;43;01m\\n\u001b[39;49;00m\u001b[33;43m    timestamp,Asset_ID,Count,O,H,L,C,Volume,VWAP,row_id = Clean_df(test_df.values)\u001b[39;49m\u001b[38;5;130;43;01m\\n\u001b[39;49;00m\u001b[38;5;130;43;01m\\n\u001b[39;49;00m\u001b[33;43m    # np.array([Count,O,H,L,C,Price,Volume,VWAP,Dollars,Volume_per_trade,Dollars_per_trade,log_ret,GK_vol,RS_vol])\u001b[39;49m\u001b[38;5;130;43;01m\\n\u001b[39;49;00m\u001b[33;43m    Features = Base_Feature_fn(timestamp,Asset_ID,Count,O,H,L,C,Volume,VWAP)\u001b[39;49m\u001b[38;5;130;43;01m\\n\u001b[39;49;00m\u001b[38;5;130;43;01m\\n\u001b[39;49;00m\u001b[33;43m    #removing wieghts when data is missing so that they don\u001b[39;49m\u001b[33;43m'\u001b[39;49m\u001b[33;43mt appears in market\u001b[39;49m\u001b[38;5;130;43;01m\\n\u001b[39;49;00m\u001b[33;43m    weigths = np.where(np.isnan(O),O,weigths)\u001b[39;49m\u001b[38;5;130;43;01m\\n\u001b[39;49;00m\u001b[33;43m    Market_Features = np.nansum(Features*np.expand_dims(weigths,axis=1)/np.nansum(weigths),axis=0)\u001b[39;49m\u001b[38;5;130;43;01m\\n\u001b[39;49;00m\u001b[33;43m    #Market_Features = np.tile(Market_Features,(14,1))\u001b[39;49m\u001b[38;5;130;43;01m\\n\u001b[39;49;00m\u001b[38;5;130;43;01m\\n\u001b[39;49;00m\u001b[33;43m    #np.array((sin_month,cos_month,sin_day,cos_day,sin_hour,cos_hour,sin_minute,cos_minute))\u001b[39;49m\u001b[38;5;130;43;01m\\n\u001b[39;49;00m\u001b[33;43m    timestamp = timestamp_to_date(timestamp[0])\u001b[39;49m\u001b[38;5;130;43;01m\\n\u001b[39;49;00m\u001b[33;43m    Time_Features = Time_Feature_fn(timestamp)\u001b[39;49m\u001b[38;5;130;43;01m\\n\u001b[39;49;00m\u001b[33;43m    #Time_Features = np.tile(Time_Features,(14,1))\u001b[39;49m\u001b[38;5;130;43;01m\\n\u001b[39;49;00m\u001b[38;5;130;43;01m\\n\u001b[39;49;00m\u001b[33;43m    MA_Features = []\u001b[39;49m\u001b[38;5;130;43;01m\\n\u001b[39;49;00m\u001b[33;43m    MA_Features_M  = [] \u001b[39;49m\u001b[38;5;130;43;01m\\n\u001b[39;49;00m\u001b[38;5;130;43;01m\\n\u001b[39;49;00m\u001b[33;43m    for lag in MA_lags:\u001b[39;49m\u001b[38;5;130;43;01m\\n\u001b[39;49;00m\u001b[33;43m        dict_RM[lag].push(Features)\u001b[39;49m\u001b[38;5;130;43;01m\\n\u001b[39;49;00m\u001b[33;43m        dict_RM_M[lag].push(Market_Features)\u001b[39;49m\u001b[38;5;130;43;01m\\n\u001b[39;49;00m\u001b[38;5;130;43;01m\\n\u001b[39;49;00m\u001b[33;43m        MA_Features.append(dict_RM[lag].get_mean())\u001b[39;49m\u001b[38;5;130;43;01m\\n\u001b[39;49;00m\u001b[33;43m        MA_Features_M.append(dict_RM_M[lag].get_mean())\u001b[39;49m\u001b[38;5;130;43;01m\\n\u001b[39;49;00m\u001b[38;5;130;43;01m\\n\u001b[39;49;00m\u001b[33;43m    MA_Features = np.concatenate(MA_Features,axis=1)\u001b[39;49m\u001b[38;5;130;43;01m\\n\u001b[39;49;00m\u001b[33;43m    MA_Features_M = np.concatenate(MA_Features_M)\u001b[39;49m\u001b[38;5;130;43;01m\\n\u001b[39;49;00m\u001b[33;43m    #MA_Features_M = np.tile(MA_Features_M,(14,1))\u001b[39;49m\u001b[38;5;130;43;01m\\n\u001b[39;49;00m\u001b[38;5;130;43;01m\\n\u001b[39;49;00m\u001b[33;43m    betas = []\u001b[39;49m\u001b[38;5;130;43;01m\\n\u001b[39;49;00m\u001b[38;5;130;43;01m\\n\u001b[39;49;00m\u001b[33;43m    for lag in beta_lags:\u001b[39;49m\u001b[38;5;130;43;01m\\n\u001b[39;49;00m\u001b[33;43m        dict_MM[lag].push(Market_Features[0]**2)\u001b[39;49m\u001b[38;5;130;43;01m\\n\u001b[39;49;00m\u001b[33;43m        dict_Mr[lag].push(Market_Features[0]*Features[:,0])\u001b[39;49m\u001b[38;5;130;43;01m\\n\u001b[39;49;00m\u001b[33;43m        betas.append(np.expand_dims(dict_Mr[lag].get_mean()/dict_MM[lag].get_mean(),axis=1))\u001b[39;49m\u001b[38;5;130;43;01m\\n\u001b[39;49;00m\u001b[38;5;130;43;01m\\n\u001b[39;49;00m\u001b[33;43m    betas = np.concatenate(betas,axis=1)\u001b[39;49m\u001b[38;5;130;43;01m\\n\u001b[39;49;00m\u001b[38;5;130;43;01m\\n\u001b[39;49;00m\u001b[33;43m    #print(values)\u001b[39;49m\u001b[38;5;130;43;01m\\n\u001b[39;49;00m\u001b[33;43m    #for data in [Features,np.tile(Market_Features,(14,1)),np.tile(Time_Features,(14,1)),MA_Features,np.tile(MA_Features_M,(14,1)),betas]:\u001b[39;49m\u001b[38;5;130;43;01m\\n\u001b[39;49;00m\u001b[33;43m        #print(data.shape)\u001b[39;49m\u001b[38;5;130;43;01m\\n\u001b[39;49;00m\u001b[38;5;130;43;01m\\n\u001b[39;49;00m\u001b[33;43m    values = np.concatenate((Features,np.tile(Market_Features,(14,1)),np.tile(Time_Features,(14,1)),MA_Features,np.tile(MA_Features_M,(14,1)),betas),axis=1)\u001b[39;49m\u001b[38;5;130;43;01m\\n\u001b[39;49;00m\u001b[33;43m\"\u001b[39;49m\u001b[43m)\u001b[49m\n",
      "\u001b[36mFile \u001b[39m\u001b[32md:\\workspace\\hit_ml_dl\\venv\\Lib\\site-packages\\IPython\\core\\interactiveshell.py:2565\u001b[39m, in \u001b[36mInteractiveShell.run_cell_magic\u001b[39m\u001b[34m(self, magic_name, line, cell)\u001b[39m\n\u001b[32m   2563\u001b[39m \u001b[38;5;28;01mwith\u001b[39;00m \u001b[38;5;28mself\u001b[39m.builtin_trap:\n\u001b[32m   2564\u001b[39m     args = (magic_arg_s, cell)\n\u001b[32m-> \u001b[39m\u001b[32m2565\u001b[39m     result = \u001b[43mfn\u001b[49m\u001b[43m(\u001b[49m\u001b[43m*\u001b[49m\u001b[43margs\u001b[49m\u001b[43m,\u001b[49m\u001b[43m \u001b[49m\u001b[43m*\u001b[49m\u001b[43m*\u001b[49m\u001b[43mkwargs\u001b[49m\u001b[43m)\u001b[49m\n\u001b[32m   2567\u001b[39m \u001b[38;5;66;03m# The code below prevents the output from being displayed\u001b[39;00m\n\u001b[32m   2568\u001b[39m \u001b[38;5;66;03m# when using magics with decorator @output_can_be_silenced\u001b[39;00m\n\u001b[32m   2569\u001b[39m \u001b[38;5;66;03m# when the last Python token in the expression is a ';'.\u001b[39;00m\n\u001b[32m   2570\u001b[39m \u001b[38;5;28;01mif\u001b[39;00m \u001b[38;5;28mgetattr\u001b[39m(fn, magic.MAGIC_OUTPUT_CAN_BE_SILENCED, \u001b[38;5;28;01mFalse\u001b[39;00m):\n",
      "\u001b[36mFile \u001b[39m\u001b[32md:\\workspace\\hit_ml_dl\\venv\\Lib\\site-packages\\IPython\\core\\magics\\execution.py:1470\u001b[39m, in \u001b[36mExecutionMagics.time\u001b[39m\u001b[34m(self, line, cell, local_ns)\u001b[39m\n\u001b[32m   1468\u001b[39m \u001b[38;5;28;01mif\u001b[39;00m interrupt_occured:\n\u001b[32m   1469\u001b[39m     \u001b[38;5;28;01mif\u001b[39;00m exit_on_interrupt \u001b[38;5;129;01mand\u001b[39;00m captured_exception:\n\u001b[32m-> \u001b[39m\u001b[32m1470\u001b[39m         \u001b[38;5;28;01mraise\u001b[39;00m captured_exception\n\u001b[32m   1471\u001b[39m     \u001b[38;5;28;01mreturn\u001b[39;00m\n\u001b[32m   1472\u001b[39m \u001b[38;5;28;01mreturn\u001b[39;00m out\n",
      "\u001b[36mFile \u001b[39m\u001b[32md:\\workspace\\hit_ml_dl\\venv\\Lib\\site-packages\\IPython\\core\\magics\\execution.py:1434\u001b[39m, in \u001b[36mExecutionMagics.time\u001b[39m\u001b[34m(self, line, cell, local_ns)\u001b[39m\n\u001b[32m   1432\u001b[39m st = clock2()\n\u001b[32m   1433\u001b[39m \u001b[38;5;28;01mtry\u001b[39;00m:\n\u001b[32m-> \u001b[39m\u001b[32m1434\u001b[39m     \u001b[43mexec\u001b[49m\u001b[43m(\u001b[49m\u001b[43mcode\u001b[49m\u001b[43m,\u001b[49m\u001b[43m \u001b[49m\u001b[43mglob\u001b[49m\u001b[43m,\u001b[49m\u001b[43m \u001b[49m\u001b[43mlocal_ns\u001b[49m\u001b[43m)\u001b[49m\n\u001b[32m   1435\u001b[39m     out = \u001b[38;5;28;01mNone\u001b[39;00m\n\u001b[32m   1436\u001b[39m     \u001b[38;5;66;03m# multi-line %%time case\u001b[39;00m\n",
      "\u001b[36mFile \u001b[39m\u001b[32m<timed exec>:90\u001b[39m\n",
      "\u001b[31mValueError\u001b[39m: too many values to unpack (expected 10)"
     ]
    }
   ],
   "source": [
    "%%time\n",
    "\n",
    "# not building the weights each loops\n",
    "asset_details = pd.read_csv(DATA_DIR + 'asset_details.csv', encoding='utf-8')\n",
    "\n",
    "dict_weights = {}\n",
    "for i in range(asset_details.shape[0]):\n",
    "    dict_weights[asset_details.iloc[i,0]] = asset_details.iloc[i,1]\n",
    "weigths = np.array([dict_weights[i] for i in range(14)])\n",
    "\n",
    "# only needed when saving ?\n",
    "dtype={'Asset_ID': 'int8', 'Count': 'int32', 'row_id': 'int32', 'Count': 'int32',\n",
    "       'Open': 'float32', 'High': 'float32', 'Low': 'float32', 'Close': 'float32',\n",
    "       'Volume': 'float32', 'VWAP': 'float32'}\n",
    "#test_df = test_df.astype(dtype)\n",
    "\n",
    "#refactoring functions:\n",
    "\n",
    "def Clean_df(x):\n",
    "    Asset_ID = x[:,1]\n",
    "    timestamp = x[0,0]\n",
    "    if len(Asset_ID)<14:\n",
    "        missing_ID = [i for i in range(14) if i not in Asset_ID]\n",
    "        for i in missing_ID:\n",
    "            row = np.array((timestamp,i,np.nan,np.nan,np.nan,np.nan,np.nan,np.nan,np.nan,np.nan))\n",
    "            x = np.concatenate((x,np.expand_dims(row,axis=0)))\n",
    "    x = x[np.argsort(x[:,1])]\n",
    "    return (x[:,i] for i in range(x.shape[1]))\n",
    "\n",
    "def Base_Feature_fn(timestamp,Asset_ID,Count,O,H,L,C,Volume,VWAP):\n",
    "    VWAP = np.where(np.isinf(VWAP),(C+O)/2,VWAP)\n",
    "    base = C\n",
    "    O = O/base\n",
    "    H = H/base\n",
    "    L = L/base\n",
    "    C = C/base\n",
    "    VWAP = VWAP/base\n",
    "    Price = base\n",
    "\n",
    "    Dollars = Volume * Price\n",
    "    Volume_per_trade = Volume/Count\n",
    "    Dollars_per_trade = Dollars/Count\n",
    "\n",
    "    log_ret = np.log(C/O)\n",
    "    log_ret_H = np.log(H/C)\n",
    "    log_ret_L = np.log(C/L)\n",
    "    log_ret_VWAP = np.log(C/VWAP)\n",
    "    \n",
    "    GK_vol = (1 / 2 * np.log(H/L) ** 2 - (2 * np.log(2) - 1) * np.log(C/O) ** 2)\n",
    "    RS_vol = np.log(H/C)*np.log(H/O) + np.log(L/C)*np.log(L/O)\n",
    "\n",
    "    #return(np.transpose(np.array([Count,O,H,L,C,Price,Volume,VWAP,Dollars,Volume_per_trade,Dollars_per_trade,log_ret,GK_vol,RS_vol])))\n",
    "    \n",
    "    log_Count,log_Volume,log_Dollars,log_Volume_per_trade,log_Dollars_per_trade = np.log([Count,Volume,Dollars,Volume_per_trade,Dollars_per_trade])\n",
    "\n",
    "    return(np.transpose(np.array([log_ret,log_ret_H,log_ret_L,log_ret_VWAP,GK_vol,RS_vol,log_Count,log_Volume,log_Dollars,log_Volume_per_trade,log_Dollars_per_trade])))\n",
    "\n",
    "def Time_Feature_fn(timestamp):\n",
    "    \n",
    "    sin_month = (np.sin(2 * np.pi * timestamp.month/12))\n",
    "    cos_month = (np.cos(2 * np.pi * timestamp.month/12))\n",
    "    sin_day = (np.sin(2 * np.pi * timestamp.day/31))\n",
    "    cos_day = (np.cos(2 * np.pi * timestamp.day/31))\n",
    "    sin_hour = (np.sin(2 * np.pi * timestamp.hour/24))\n",
    "    cos_hour = (np.cos(2 * np.pi * timestamp.hour/24))\n",
    "    sin_minute = (np.sin(2 * np.pi * timestamp.minute/60))\n",
    "    cos_minute = (np.cos(2 * np.pi * timestamp.minute/60))\n",
    "\n",
    "    return(np.array((sin_month,cos_month,sin_day,cos_day,sin_hour,cos_hour,sin_minute,cos_minute)))\n",
    "\n",
    "MA_lags = [2,5,15,30,60,120,300,1800,3750,10*24*60,30*24*60]\n",
    "\n",
    "#instantiation Moving average features dict\n",
    "dict_RM = {}\n",
    "dict_RM_M = {}\n",
    "\n",
    "for lag in MA_lags:\n",
    "    dict_RM[lag] = RunningMean(lag)\n",
    "    dict_RM_M[lag] = RunningMean(lag)\n",
    "    \n",
    "beta_lags = [60,300,1800,3750,10*24*60,30*24*60]\n",
    "\n",
    "#instantiation dict betas\n",
    "dict_MM = {}\n",
    "dict_Mr = {}\n",
    "for lag in beta_lags:\n",
    "    dict_MM[lag] = RunningMean(lag)\n",
    "    dict_Mr[lag] = RunningMean(lag)\n",
    "\n",
    "for i in tqdm(range(10000)):\n",
    "    \n",
    "    timestamp,Asset_ID,Count,O,H,L,C,Volume,VWAP,row_id = Clean_df(test_df.values)\n",
    "    \n",
    "    # np.array([Count,O,H,L,C,Price,Volume,VWAP,Dollars,Volume_per_trade,Dollars_per_trade,log_ret,GK_vol,RS_vol])\n",
    "    Features = Base_Feature_fn(timestamp,Asset_ID,Count,O,H,L,C,Volume,VWAP)\n",
    "    \n",
    "    #removing wieghts when data is missing so that they don't appears in market\n",
    "    weigths = np.where(np.isnan(O),O,weigths)\n",
    "    Market_Features = np.nansum(Features*np.expand_dims(weigths,axis=1)/np.nansum(weigths),axis=0)\n",
    "    #Market_Features = np.tile(Market_Features,(14,1))\n",
    "    \n",
    "    #np.array((sin_month,cos_month,sin_day,cos_day,sin_hour,cos_hour,sin_minute,cos_minute))\n",
    "    timestamp = timestamp_to_date(timestamp[0])\n",
    "    Time_Features = Time_Feature_fn(timestamp)\n",
    "    #Time_Features = np.tile(Time_Features,(14,1))\n",
    "    \n",
    "    MA_Features = []\n",
    "    MA_Features_M  = [] \n",
    "    \n",
    "    for lag in MA_lags:\n",
    "        dict_RM[lag].push(Features)\n",
    "        dict_RM_M[lag].push(Market_Features)\n",
    "        \n",
    "        MA_Features.append(dict_RM[lag].get_mean())\n",
    "        MA_Features_M.append(dict_RM_M[lag].get_mean())\n",
    "        \n",
    "    MA_Features = np.concatenate(MA_Features,axis=1)\n",
    "    MA_Features_M = np.concatenate(MA_Features_M)\n",
    "    #MA_Features_M = np.tile(MA_Features_M,(14,1))\n",
    "    \n",
    "    betas = []\n",
    "    \n",
    "    for lag in beta_lags:\n",
    "        dict_MM[lag].push(Market_Features[0]**2)\n",
    "        dict_Mr[lag].push(Market_Features[0]*Features[:,0])\n",
    "        betas.append(np.expand_dims(dict_Mr[lag].get_mean()/dict_MM[lag].get_mean(),axis=1))\n",
    "        \n",
    "    betas = np.concatenate(betas,axis=1)\n",
    "    \n",
    "    #print(values)\n",
    "    #for data in [Features,np.tile(Market_Features,(14,1)),np.tile(Time_Features,(14,1)),MA_Features,np.tile(MA_Features_M,(14,1)),betas]:\n",
    "        #print(data.shape)\n",
    "    \n",
    "    values = np.concatenate((Features,np.tile(Market_Features,(14,1)),np.tile(Time_Features,(14,1)),MA_Features,np.tile(MA_Features_M,(14,1)),betas),axis=1)"
   ]
  },
  {
   "cell_type": "code",
   "execution_count": null,
   "id": "a8d469a2",
   "metadata": {},
   "outputs": [],
   "source": [
    "Features_names = ['log_ret','log_ret_H','log_ret_L','log_ret_VWAP','GK_vol','RS_vol','log_Count','log_Volume','log_Dollars','log_Volume_per_trade','log_Dollars_per_trade']\n",
    "Market_Features_names = [s+'_M' for s in Features_names]\n",
    "Time_Features_names = ['sin_month','cos_month','sin_day','cos_day','sin_hour','cos_hour','sin_minute','cos_minute']\n",
    "MA_Features_names = [s+'_'+str(lag) for lag in MA_lags for s in Features_names ]\n",
    "MA_Features_M_names = [s+'_'+str(lag) for lag in MA_lags for s in Market_Features_names]\n",
    "betas_names = ['betas_'+str(lag) for lag in beta_lags]\n",
    "\n",
    "All_names = Features_names + Market_Features_names + Time_Features_names + MA_Features_names + MA_Features_M_names + betas_names\n",
    "df_values = pd.DataFrame(values, columns = All_names)"
   ]
  },
  {
   "cell_type": "markdown",
   "id": "dbe0f637",
   "metadata": {},
   "source": [
    "### Creating Training Folds\n",
    "For the design of the folds, see discussion here: https://www.kaggle.com/c/g-research-crypto-forecasting/discussion/288555"
   ]
  },
  {
   "cell_type": "code",
   "execution_count": null,
   "id": "88d51986",
   "metadata": {},
   "outputs": [],
   "source": [
    "DEBUG  = False\n",
    "nrows = 100000 if DEBUG else None\n",
    "\n",
    "dtype={'Asset_ID': 'int8', 'Count': 'int32', 'row_id': 'int32', 'Count': 'int32',\n",
    "       'Open': 'float32', 'High': 'float32', 'Low': 'float32', 'Close': 'float32',\n",
    "       'Volume': 'float32', 'VWAP': 'float32'}\n",
    "\n",
    "train_df = pd.read_csv('../input/g-research-crypto-forecasting/train.csv', low_memory=False, dtype=dtype, nrows=nrows)\n",
    "asset_details = pd.read_csv('../input/g-research-crypto-forecasting/asset_details.csv')\n",
    "\n",
    "#filter to avoid time leakage with the data \n",
    "filter_leakage = pd.to_datetime(train_df['timestamp'], unit='s') < '2021-06-13 00:00:00'\n",
    "train_df = train_df[filter_leakage]"
   ]
  },
  {
   "cell_type": "code",
   "execution_count": null,
   "id": "ce409498",
   "metadata": {},
   "outputs": [],
   "source": [
    "# Generate the class/group data\n",
    "\n",
    "import os\n",
    "time_ids = train_df.timestamp.unique()\n",
    "\n",
    "n_fold = 5\n",
    "splits = 0.6\n",
    "ntimes = len(time_ids)\n",
    "\n",
    "embargo_train_test = 100 if DEBUG else 60*24*30\n",
    "embargo_fold = 100 if DEBUG else 60*24*30\n",
    "\n",
    "time_per_fold = (ntimes - 5*embargo_train_test - 5*embargo_fold)/5\n",
    "train_len = splits*time_per_fold \n",
    "test_len = (1-splits)*time_per_fold\n",
    "\n",
    "fold_start = [np.int(i*(len(time_ids)+1)/5) for i in range(6)]\n",
    "\n",
    "for i in range(n_fold):\n",
    "    time_folds = time_ids[fold_start[i]:fold_start[i+1]-1]\n",
    "    df_fold = train_df[train_df.timestamp.isin(time_folds)]\n",
    "    df_fold.to_parquet('df_fold_'+str(i)+'.parquet')\n",
    "    \n",
    "del train_df\n",
    "\n",
    "dict_fold = {}\n",
    "\n",
    "for fold in range(n_fold):\n",
    "    print('fold:'+str(fold))\n",
    "    \n",
    "    df_fold = pd.read_parquet('df_fold_'+str(fold)+'.parquet')\n",
    "    time_ids = df_fold.timestamp.unique()\n",
    "    \n",
    "    test_train_len = len(time_ids) - embargo_train_test - embargo_fold\n",
    "    \n",
    "    train_start = embargo_fold + 1\n",
    "    train_end = embargo_fold + np.int(test_train_len*0.6) + 1\n",
    "    test_start = embargo_fold + np.int(test_train_len*0.6) + embargo_train_test + 1\n",
    "    test_end = len(df_fold.timestamp.unique())\n",
    "    \n",
    "    dict_fold['train_fold_'+str(fold)] = time_ids[train_start:train_end]\n",
    "    dict_fold['test_fold_'+str(fold)] = time_ids[test_start:test_end]\n",
    "\n",
    "del df_fold"
   ]
  },
  {
   "cell_type": "code",
   "execution_count": 319,
   "id": "fdc287d0",
   "metadata": {},
   "outputs": [
    {
     "name": "stdout",
     "output_type": "stream",
     "text": [
      "CPU times: total: 0 ns\n",
      "Wall time: 29 ms\n"
     ]
    },
    {
     "ename": "FileNotFoundError",
     "evalue": "[Errno 2] No such file or directory: 'df_fold_0.parquet'",
     "output_type": "error",
     "traceback": [
      "\u001b[31m---------------------------------------------------------------------------\u001b[39m",
      "\u001b[31mFileNotFoundError\u001b[39m                         Traceback (most recent call last)",
      "\u001b[36mCell\u001b[39m\u001b[36m \u001b[39m\u001b[32mIn[319]\u001b[39m\u001b[32m, line 1\u001b[39m\n\u001b[32m----> \u001b[39m\u001b[32m1\u001b[39m \u001b[43mget_ipython\u001b[49m\u001b[43m(\u001b[49m\u001b[43m)\u001b[49m\u001b[43m.\u001b[49m\u001b[43mrun_cell_magic\u001b[49m\u001b[43m(\u001b[49m\u001b[33;43m'\u001b[39;49m\u001b[33;43mtime\u001b[39;49m\u001b[33;43m'\u001b[39;49m\u001b[43m,\u001b[49m\u001b[43m \u001b[49m\u001b[33;43m'\u001b[39;49m\u001b[33;43m'\u001b[39;49m\u001b[43m,\u001b[49m\u001b[43m \u001b[49m\u001b[33;43m'\u001b[39;49m\u001b[38;5;130;43;01m\\n\u001b[39;49;00m\u001b[33;43mimport os\u001b[39;49m\u001b[38;5;130;43;01m\\n\u001b[39;49;00m\u001b[33;43mfrom random import random\u001b[39;49m\u001b[38;5;130;43;01m\\n\u001b[39;49;00m\u001b[38;5;130;43;01m\\n\u001b[39;49;00m\u001b[33;43msampling = 0.05\u001b[39;49m\u001b[38;5;130;43;01m\\n\u001b[39;49;00m\u001b[38;5;130;43;01m\\n\u001b[39;49;00m\u001b[33;43mMA_lags = [2,5,15,30,60,120,300,1800,3750,2*3750,7*24*60]\u001b[39;49m\u001b[38;5;130;43;01m\\n\u001b[39;49;00m\u001b[33;43mbeta_lags = [15,30,60,120,300,600,1800,3750,2*3750,7*24*60]\u001b[39;49m\u001b[38;5;130;43;01m\\n\u001b[39;49;00m\u001b[38;5;130;43;01m\\n\u001b[39;49;00m\u001b[33;43mFeatures_names = [\u001b[39;49m\u001b[38;5;130;43;01m\\'\u001b[39;49;00m\u001b[33;43mlog_ret\u001b[39;49m\u001b[38;5;130;43;01m\\'\u001b[39;49;00m\u001b[33;43m,\u001b[39;49m\u001b[38;5;130;43;01m\\'\u001b[39;49;00m\u001b[33;43mlog_ret_H\u001b[39;49m\u001b[38;5;130;43;01m\\'\u001b[39;49;00m\u001b[33;43m,\u001b[39;49m\u001b[38;5;130;43;01m\\'\u001b[39;49;00m\u001b[33;43mlog_ret_L\u001b[39;49m\u001b[38;5;130;43;01m\\'\u001b[39;49;00m\u001b[33;43m,\u001b[39;49m\u001b[38;5;130;43;01m\\'\u001b[39;49;00m\u001b[33;43mlog_ret_VWAP\u001b[39;49m\u001b[38;5;130;43;01m\\'\u001b[39;49;00m\u001b[33;43m,\u001b[39;49m\u001b[38;5;130;43;01m\\'\u001b[39;49;00m\u001b[33;43mGK_vol\u001b[39;49m\u001b[38;5;130;43;01m\\'\u001b[39;49;00m\u001b[33;43m,\u001b[39;49m\u001b[38;5;130;43;01m\\'\u001b[39;49;00m\u001b[33;43mRS_vol\u001b[39;49m\u001b[38;5;130;43;01m\\'\u001b[39;49;00m\u001b[33;43m,\u001b[39;49m\u001b[38;5;130;43;01m\\'\u001b[39;49;00m\u001b[33;43mlog_Count\u001b[39;49m\u001b[38;5;130;43;01m\\'\u001b[39;49;00m\u001b[33;43m,\u001b[39;49m\u001b[38;5;130;43;01m\\'\u001b[39;49;00m\u001b[33;43mlog_Volume\u001b[39;49m\u001b[38;5;130;43;01m\\'\u001b[39;49;00m\u001b[33;43m,\u001b[39;49m\u001b[38;5;130;43;01m\\'\u001b[39;49;00m\u001b[33;43mlog_Dollars\u001b[39;49m\u001b[38;5;130;43;01m\\'\u001b[39;49;00m\u001b[33;43m,\u001b[39;49m\u001b[38;5;130;43;01m\\'\u001b[39;49;00m\u001b[33;43mlog_Volume_per_trade\u001b[39;49m\u001b[38;5;130;43;01m\\'\u001b[39;49;00m\u001b[33;43m,\u001b[39;49m\u001b[38;5;130;43;01m\\'\u001b[39;49;00m\u001b[33;43mlog_Dollars_per_trade\u001b[39;49m\u001b[38;5;130;43;01m\\'\u001b[39;49;00m\u001b[33;43m]\u001b[39;49m\u001b[38;5;130;43;01m\\n\u001b[39;49;00m\u001b[33;43mMarket_Features_names = [s+\u001b[39;49m\u001b[38;5;130;43;01m\\'\u001b[39;49;00m\u001b[33;43m_M\u001b[39;49m\u001b[38;5;130;43;01m\\'\u001b[39;49;00m\u001b[33;43m for s in Features_names]\u001b[39;49m\u001b[38;5;130;43;01m\\n\u001b[39;49;00m\u001b[33;43mTime_Features_names = [\u001b[39;49m\u001b[38;5;130;43;01m\\'\u001b[39;49;00m\u001b[33;43msin_month\u001b[39;49m\u001b[38;5;130;43;01m\\'\u001b[39;49;00m\u001b[33;43m,\u001b[39;49m\u001b[38;5;130;43;01m\\'\u001b[39;49;00m\u001b[33;43mcos_month\u001b[39;49m\u001b[38;5;130;43;01m\\'\u001b[39;49;00m\u001b[33;43m,\u001b[39;49m\u001b[38;5;130;43;01m\\'\u001b[39;49;00m\u001b[33;43msin_day\u001b[39;49m\u001b[38;5;130;43;01m\\'\u001b[39;49;00m\u001b[33;43m,\u001b[39;49m\u001b[38;5;130;43;01m\\'\u001b[39;49;00m\u001b[33;43mcos_day\u001b[39;49m\u001b[38;5;130;43;01m\\'\u001b[39;49;00m\u001b[33;43m,\u001b[39;49m\u001b[38;5;130;43;01m\\'\u001b[39;49;00m\u001b[33;43msin_hour\u001b[39;49m\u001b[38;5;130;43;01m\\'\u001b[39;49;00m\u001b[33;43m,\u001b[39;49m\u001b[38;5;130;43;01m\\'\u001b[39;49;00m\u001b[33;43mcos_hour\u001b[39;49m\u001b[38;5;130;43;01m\\'\u001b[39;49;00m\u001b[33;43m,\u001b[39;49m\u001b[38;5;130;43;01m\\'\u001b[39;49;00m\u001b[33;43msin_minute\u001b[39;49m\u001b[38;5;130;43;01m\\'\u001b[39;49;00m\u001b[33;43m,\u001b[39;49m\u001b[38;5;130;43;01m\\'\u001b[39;49;00m\u001b[33;43mcos_minute\u001b[39;49m\u001b[38;5;130;43;01m\\'\u001b[39;49;00m\u001b[33;43m]\u001b[39;49m\u001b[38;5;130;43;01m\\n\u001b[39;49;00m\u001b[33;43mMA_Features_names = [s+\u001b[39;49m\u001b[38;5;130;43;01m\\'\u001b[39;49;00m\u001b[33;43m_\u001b[39;49m\u001b[38;5;130;43;01m\\'\u001b[39;49;00m\u001b[33;43m+str(lag) for lag in MA_lags for s in Features_names ]\u001b[39;49m\u001b[38;5;130;43;01m\\n\u001b[39;49;00m\u001b[33;43mMA_Features_M_names = [s+\u001b[39;49m\u001b[38;5;130;43;01m\\'\u001b[39;49;00m\u001b[33;43m_\u001b[39;49m\u001b[38;5;130;43;01m\\'\u001b[39;49;00m\u001b[33;43m+str(lag) for lag in MA_lags for s in Market_Features_names]\u001b[39;49m\u001b[38;5;130;43;01m\\n\u001b[39;49;00m\u001b[33;43mbetas_names = [\u001b[39;49m\u001b[38;5;130;43;01m\\'\u001b[39;49;00m\u001b[33;43mbetas_\u001b[39;49m\u001b[38;5;130;43;01m\\'\u001b[39;49;00m\u001b[33;43m+str(lag) for lag in beta_lags]\u001b[39;49m\u001b[38;5;130;43;01m\\n\u001b[39;49;00m\u001b[38;5;130;43;01m\\n\u001b[39;49;00m\u001b[33;43mAll_names = Features_names + Market_Features_names + Time_Features_names + MA_Features_names + MA_Features_M_names + betas_names\u001b[39;49m\u001b[38;5;130;43;01m\\n\u001b[39;49;00m\u001b[33;43m#df_values = pd.DataFrame(values, columns = All_names)\u001b[39;49m\u001b[38;5;130;43;01m\\n\u001b[39;49;00m\u001b[38;5;130;43;01m\\n\u001b[39;49;00m\u001b[33;43mfor fold in range(n_fold):\u001b[39;49m\u001b[38;5;130;43;01m\\n\u001b[39;49;00m\u001b[38;5;130;43;01m\\n\u001b[39;49;00m\u001b[33;43m    df_train_fold = pd.DataFrame()\u001b[39;49m\u001b[38;5;130;43;01m\\n\u001b[39;49;00m\u001b[33;43m    df_test_fold = pd.DataFrame()\u001b[39;49m\u001b[38;5;130;43;01m\\n\u001b[39;49;00m\u001b[38;5;130;43;01m\\n\u001b[39;49;00m\u001b[33;43m    df_read = pd.read_parquet(\u001b[39;49m\u001b[33;43m\"\u001b[39;49m\u001b[33;43mdf_fold_\u001b[39;49m\u001b[33;43m\"\u001b[39;49m\u001b[33;43m+str(fold)+\u001b[39;49m\u001b[38;5;130;43;01m\\'\u001b[39;49;00m\u001b[33;43m.parquet\u001b[39;49m\u001b[38;5;130;43;01m\\'\u001b[39;49;00m\u001b[33;43m)\u001b[39;49m\u001b[38;5;130;43;01m\\n\u001b[39;49;00m\u001b[38;5;130;43;01m\\n\u001b[39;49;00m\u001b[33;43m    #instantiation Moving average features dict\u001b[39;49m\u001b[38;5;130;43;01m\\n\u001b[39;49;00m\u001b[33;43m    dict_RM = \u001b[39;49m\u001b[38;5;132;43;01m{}\u001b[39;49;00m\u001b[38;5;130;43;01m\\n\u001b[39;49;00m\u001b[33;43m    dict_RM_M = \u001b[39;49m\u001b[38;5;132;43;01m{}\u001b[39;49;00m\u001b[38;5;130;43;01m\\n\u001b[39;49;00m\u001b[38;5;130;43;01m\\n\u001b[39;49;00m\u001b[33;43m    for lag in MA_lags:\u001b[39;49m\u001b[38;5;130;43;01m\\n\u001b[39;49;00m\u001b[33;43m        dict_RM[lag] = RunningMean(lag)\u001b[39;49m\u001b[38;5;130;43;01m\\n\u001b[39;49;00m\u001b[33;43m        dict_RM_M[lag] = RunningMean(lag)\u001b[39;49m\u001b[38;5;130;43;01m\\n\u001b[39;49;00m\u001b[38;5;130;43;01m\\n\u001b[39;49;00m\u001b[33;43m    #instantiation dict betas\u001b[39;49m\u001b[38;5;130;43;01m\\n\u001b[39;49;00m\u001b[33;43m    dict_MM = \u001b[39;49m\u001b[38;5;132;43;01m{}\u001b[39;49;00m\u001b[38;5;130;43;01m\\n\u001b[39;49;00m\u001b[33;43m    dict_Mr = \u001b[39;49m\u001b[38;5;132;43;01m{}\u001b[39;49;00m\u001b[38;5;130;43;01m\\n\u001b[39;49;00m\u001b[33;43m    for lag in beta_lags:\u001b[39;49m\u001b[38;5;130;43;01m\\n\u001b[39;49;00m\u001b[33;43m        dict_MM[lag] = RunningMean(lag)\u001b[39;49m\u001b[38;5;130;43;01m\\n\u001b[39;49;00m\u001b[33;43m        dict_Mr[lag] = RunningMean(lag)\u001b[39;49m\u001b[38;5;130;43;01m\\n\u001b[39;49;00m\u001b[38;5;130;43;01m\\n\u001b[39;49;00m\u001b[33;43m    f = [\u001b[39;49m\u001b[38;5;130;43;01m\\'\u001b[39;49;00m\u001b[33;43mtimestamp\u001b[39;49m\u001b[38;5;130;43;01m\\'\u001b[39;49;00m\u001b[33;43m,\u001b[39;49m\u001b[38;5;130;43;01m\\'\u001b[39;49;00m\u001b[33;43mAsset_ID\u001b[39;49m\u001b[38;5;130;43;01m\\'\u001b[39;49;00m\u001b[33;43m,\u001b[39;49m\u001b[38;5;130;43;01m\\'\u001b[39;49;00m\u001b[33;43mCount\u001b[39;49m\u001b[38;5;130;43;01m\\'\u001b[39;49;00m\u001b[33;43m,\u001b[39;49m\u001b[38;5;130;43;01m\\'\u001b[39;49;00m\u001b[33;43mOpen\u001b[39;49m\u001b[38;5;130;43;01m\\'\u001b[39;49;00m\u001b[33;43m,\u001b[39;49m\u001b[38;5;130;43;01m\\'\u001b[39;49;00m\u001b[33;43mHigh\u001b[39;49m\u001b[38;5;130;43;01m\\'\u001b[39;49;00m\u001b[33;43m,\u001b[39;49m\u001b[38;5;130;43;01m\\'\u001b[39;49;00m\u001b[33;43mLow\u001b[39;49m\u001b[38;5;130;43;01m\\'\u001b[39;49;00m\u001b[33;43m,\u001b[39;49m\u001b[38;5;130;43;01m\\'\u001b[39;49;00m\u001b[33;43mClose\u001b[39;49m\u001b[38;5;130;43;01m\\'\u001b[39;49;00m\u001b[33;43m,\u001b[39;49m\u001b[38;5;130;43;01m\\'\u001b[39;49;00m\u001b[33;43mVolume\u001b[39;49m\u001b[38;5;130;43;01m\\'\u001b[39;49;00m\u001b[33;43m,\u001b[39;49m\u001b[38;5;130;43;01m\\'\u001b[39;49;00m\u001b[33;43mVWAP\u001b[39;49m\u001b[38;5;130;43;01m\\'\u001b[39;49;00m\u001b[33;43m,\u001b[39;49m\u001b[38;5;130;43;01m\\'\u001b[39;49;00m\u001b[33;43mTarget\u001b[39;49m\u001b[38;5;130;43;01m\\'\u001b[39;49;00m\u001b[33;43m]\u001b[39;49m\u001b[38;5;130;43;01m\\n\u001b[39;49;00m\u001b[33;43m    t = df_read[\u001b[39;49m\u001b[38;5;130;43;01m\\'\u001b[39;49;00m\u001b[33;43mtimestamp\u001b[39;49m\u001b[38;5;130;43;01m\\'\u001b[39;49;00m\u001b[33;43m].values\u001b[39;49m\u001b[38;5;130;43;01m\\n\u001b[39;49;00m\u001b[33;43m    ids, index = np.unique(t, return_index=True)\u001b[39;49m\u001b[38;5;130;43;01m\\n\u001b[39;49;00m\u001b[38;5;130;43;01m\\n\u001b[39;49;00m\u001b[33;43m    Values = df_read[f].values\u001b[39;49m\u001b[38;5;130;43;01m\\n\u001b[39;49;00m\u001b[33;43m    splits = np.split(Values, index[1:])\u001b[39;49m\u001b[38;5;130;43;01m\\n\u001b[39;49;00m\u001b[33;43m    out = []\u001b[39;49m\u001b[38;5;130;43;01m\\n\u001b[39;49;00m\u001b[38;5;130;43;01m\\n\u001b[39;49;00m\u001b[33;43m    for time_id, x in tqdm(zip(ids.tolist(), splits)):\u001b[39;49m\u001b[38;5;130;43;01m\\n\u001b[39;49;00m\u001b[33;43m        #df = Clean_df(pd.DataFrame(x,columns=f))\u001b[39;49m\u001b[38;5;130;43;01m\\n\u001b[39;49;00m\u001b[38;5;130;43;01m\\n\u001b[39;49;00m\u001b[33;43m        #timestamp,Asset_ID,Count,O,H,L,C,Volume,VWAP,row_id = (test_df[col].values for col in [\u001b[39;49m\u001b[38;5;130;43;01m\\'\u001b[39;49;00m\u001b[33;43mtimestamp\u001b[39;49m\u001b[38;5;130;43;01m\\'\u001b[39;49;00m\u001b[33;43m,\u001b[39;49m\u001b[38;5;130;43;01m\\'\u001b[39;49;00m\u001b[33;43mAsset_ID\u001b[39;49m\u001b[38;5;130;43;01m\\'\u001b[39;49;00m\u001b[33;43m,\u001b[39;49m\u001b[38;5;130;43;01m\\'\u001b[39;49;00m\u001b[33;43mCount\u001b[39;49m\u001b[38;5;130;43;01m\\'\u001b[39;49;00m\u001b[33;43m,\u001b[39;49m\u001b[38;5;130;43;01m\\'\u001b[39;49;00m\u001b[33;43mOpen\u001b[39;49m\u001b[38;5;130;43;01m\\'\u001b[39;49;00m\u001b[33;43m,\u001b[39;49m\u001b[38;5;130;43;01m\\'\u001b[39;49;00m\u001b[33;43mHigh\u001b[39;49m\u001b[38;5;130;43;01m\\'\u001b[39;49;00m\u001b[33;43m,\u001b[39;49m\u001b[38;5;130;43;01m\\'\u001b[39;49;00m\u001b[33;43mLow\u001b[39;49m\u001b[38;5;130;43;01m\\'\u001b[39;49;00m\u001b[33;43m,\u001b[39;49m\u001b[38;5;130;43;01m\\'\u001b[39;49;00m\u001b[33;43mClose\u001b[39;49m\u001b[38;5;130;43;01m\\'\u001b[39;49;00m\u001b[33;43m,\u001b[39;49m\u001b[38;5;130;43;01m\\'\u001b[39;49;00m\u001b[33;43mVolume\u001b[39;49m\u001b[38;5;130;43;01m\\'\u001b[39;49;00m\u001b[33;43m,\u001b[39;49m\u001b[38;5;130;43;01m\\'\u001b[39;49;00m\u001b[33;43mVWAP\u001b[39;49m\u001b[38;5;130;43;01m\\'\u001b[39;49;00m\u001b[33;43m,\u001b[39;49m\u001b[38;5;130;43;01m\\'\u001b[39;49;00m\u001b[33;43mrow_id\u001b[39;49m\u001b[38;5;130;43;01m\\'\u001b[39;49;00m\u001b[33;43m])\u001b[39;49m\u001b[38;5;130;43;01m\\n\u001b[39;49;00m\u001b[33;43m        timestamp,Asset_ID,Count,O,H,L,C,Volume, VWAP,Target = Clean_df(x)\u001b[39;49m\u001b[38;5;130;43;01m\\n\u001b[39;49;00m\u001b[38;5;130;43;01m\\n\u001b[39;49;00m\u001b[33;43m        # np.array([Count,O,H,L,C,Price,Volume,VWAP,Dollars,Volume_per_trade,Dollars_per_trade,log_ret,GK_vol,RS_vol])\u001b[39;49m\u001b[38;5;130;43;01m\\n\u001b[39;49;00m\u001b[33;43m        Features = Base_Feature_fn(timestamp,Asset_ID,Count,O,H,L,C,Volume,VWAP)\u001b[39;49m\u001b[38;5;130;43;01m\\n\u001b[39;49;00m\u001b[38;5;130;43;01m\\n\u001b[39;49;00m\u001b[33;43m        #removing wieghts when data is missing so that they don\u001b[39;49m\u001b[38;5;130;43;01m\\'\u001b[39;49;00m\u001b[33;43mt appears in market\u001b[39;49m\u001b[38;5;130;43;01m\\n\u001b[39;49;00m\u001b[33;43m        weigths_curr = np.where(np.isnan(O),O,weigths)\u001b[39;49m\u001b[38;5;130;43;01m\\n\u001b[39;49;00m\u001b[33;43m        Market_Features = np.nansum(Features*np.expand_dims(weigths_curr,axis=1)/np.nansum(weigths_curr),axis=0)\u001b[39;49m\u001b[38;5;130;43;01m\\n\u001b[39;49;00m\u001b[33;43m        #Market_Features = np.tile(Market_Features,(14,1))\u001b[39;49m\u001b[38;5;130;43;01m\\n\u001b[39;49;00m\u001b[38;5;130;43;01m\\n\u001b[39;49;00m\u001b[33;43m        #np.array((sin_month,cos_month,sin_day,cos_day,sin_hour,cos_hour,sin_minute,cos_minute))\u001b[39;49m\u001b[38;5;130;43;01m\\n\u001b[39;49;00m\u001b[33;43m        time = timestamp_to_date(timestamp[0])\u001b[39;49m\u001b[38;5;130;43;01m\\n\u001b[39;49;00m\u001b[33;43m        Time_Features = Time_Feature_fn(time)\u001b[39;49m\u001b[38;5;130;43;01m\\n\u001b[39;49;00m\u001b[33;43m        #Time_Features = np.tile(Time_Features,(14,1))\u001b[39;49m\u001b[38;5;130;43;01m\\n\u001b[39;49;00m\u001b[38;5;130;43;01m\\n\u001b[39;49;00m\u001b[33;43m        MA_Features = []\u001b[39;49m\u001b[38;5;130;43;01m\\n\u001b[39;49;00m\u001b[33;43m        MA_Features_M  = [] \u001b[39;49m\u001b[38;5;130;43;01m\\n\u001b[39;49;00m\u001b[38;5;130;43;01m\\n\u001b[39;49;00m\u001b[33;43m        for lag in MA_lags:\u001b[39;49m\u001b[38;5;130;43;01m\\n\u001b[39;49;00m\u001b[33;43m            dict_RM[lag].push(Features.copy())\u001b[39;49m\u001b[38;5;130;43;01m\\n\u001b[39;49;00m\u001b[33;43m            dict_RM_M[lag].push(Market_Features.copy())\u001b[39;49m\u001b[38;5;130;43;01m\\n\u001b[39;49;00m\u001b[38;5;130;43;01m\\n\u001b[39;49;00m\u001b[33;43m            MA_Features.append(dict_RM[lag].get_mean())\u001b[39;49m\u001b[38;5;130;43;01m\\n\u001b[39;49;00m\u001b[33;43m            MA_Features_M.append(dict_RM_M[lag].get_mean())\u001b[39;49m\u001b[38;5;130;43;01m\\n\u001b[39;49;00m\u001b[38;5;130;43;01m\\n\u001b[39;49;00m\u001b[33;43m        #standardise w/ 3750 lag\u001b[39;49m\u001b[38;5;130;43;01m\\n\u001b[39;49;00m\u001b[33;43m        ref = 3750\u001b[39;49m\u001b[38;5;130;43;01m\\n\u001b[39;49;00m\u001b[38;5;130;43;01m\\n\u001b[39;49;00m\u001b[33;43m        for i in range(len(MA_lags)):\u001b[39;49m\u001b[38;5;130;43;01m\\n\u001b[39;49;00m\u001b[33;43m            if MA_lags[i] == ref:\u001b[39;49m\u001b[38;5;130;43;01m\\n\u001b[39;49;00m\u001b[33;43m                MA_ref = dict_RM[MA_lags[i]].get_mean().copy()\u001b[39;49m\u001b[38;5;130;43;01m\\n\u001b[39;49;00m\u001b[33;43m                MA_M_ref = dict_RM_M[MA_lags[i]].get_mean().copy()\u001b[39;49m\u001b[38;5;130;43;01m\\n\u001b[39;49;00m\u001b[38;5;130;43;01m\\n\u001b[39;49;00m\u001b[38;5;130;43;01m\\n\u001b[39;49;00m\u001b[38;5;130;43;01m\\n\u001b[39;49;00m\u001b[38;5;130;43;01m\\n\u001b[39;49;00m\u001b[33;43m        Features[:,-6:] = (Features[:,-6:] - MA_ref[:,-6:]).copy()\u001b[39;49m\u001b[38;5;130;43;01m\\n\u001b[39;49;00m\u001b[33;43m        Market_Features[-6:] = (Market_Features[-6:] - MA_M_ref[-6:]).copy()\u001b[39;49m\u001b[38;5;130;43;01m\\n\u001b[39;49;00m\u001b[38;5;130;43;01m\\n\u001b[39;49;00m\u001b[33;43m        for i in range(len(MA_lags)):\u001b[39;49m\u001b[38;5;130;43;01m\\n\u001b[39;49;00m\u001b[33;43m            MA_Features[i][:,-6:] = (MA_Features[i][:,-6:] - MA_ref[:,-6:]).copy()\u001b[39;49m\u001b[38;5;130;43;01m\\n\u001b[39;49;00m\u001b[33;43m            MA_Features_M[i][-6:] = (MA_Features_M[i][-6:] - MA_M_ref[-6:]).copy()\u001b[39;49m\u001b[38;5;130;43;01m\\n\u001b[39;49;00m\u001b[38;5;130;43;01m\\n\u001b[39;49;00m\u001b[33;43m        MA_Features_agg = np.concatenate(MA_Features,axis=1)\u001b[39;49m\u001b[38;5;130;43;01m\\n\u001b[39;49;00m\u001b[33;43m        MA_Features_M_agg = np.concatenate(MA_Features_M)\u001b[39;49m\u001b[38;5;130;43;01m\\n\u001b[39;49;00m\u001b[38;5;130;43;01m\\n\u001b[39;49;00m\u001b[33;43m        betas = []\u001b[39;49m\u001b[38;5;130;43;01m\\n\u001b[39;49;00m\u001b[38;5;130;43;01m\\n\u001b[39;49;00m\u001b[33;43m        for lag in beta_lags:\u001b[39;49m\u001b[38;5;130;43;01m\\n\u001b[39;49;00m\u001b[33;43m            dict_MM[lag].push(Market_Features[0]**2)\u001b[39;49m\u001b[38;5;130;43;01m\\n\u001b[39;49;00m\u001b[33;43m            dict_Mr[lag].push(Market_Features[0]*Features[:,0])\u001b[39;49m\u001b[38;5;130;43;01m\\n\u001b[39;49;00m\u001b[33;43m            betas.append(np.expand_dims(dict_Mr[lag].get_mean()/dict_MM[lag].get_mean(),axis=1))\u001b[39;49m\u001b[38;5;130;43;01m\\n\u001b[39;49;00m\u001b[38;5;130;43;01m\\n\u001b[39;49;00m\u001b[33;43m        betas = np.concatenate(betas,axis=1)\u001b[39;49m\u001b[38;5;130;43;01m\\n\u001b[39;49;00m\u001b[33;43m        betas = np.nan_to_num(betas, nan=0., posinf=0., neginf=0.) \u001b[39;49m\u001b[38;5;130;43;01m\\n\u001b[39;49;00m\u001b[38;5;130;43;01m\\n\u001b[39;49;00m\u001b[33;43m        values = np.concatenate((Features,np.tile(Market_Features,(14,1)),np.tile(Time_Features,(14,1)),MA_Features_agg,np.tile(MA_Features_M_agg,(14,1)),betas, np.expand_dims(Target,axis=1)),axis=1)\u001b[39;49m\u001b[38;5;130;43;01m\\n\u001b[39;49;00m\u001b[38;5;130;43;01m\\n\u001b[39;49;00m\u001b[33;43m        if random() < sampling:\u001b[39;49m\u001b[38;5;130;43;01m\\n\u001b[39;49;00m\u001b[33;43m            out.append(np.concatenate((np.expand_dims(timestamp,axis=1),np.expand_dims(Asset_ID,axis=1),np.float32(values)),axis=1))\u001b[39;49m\u001b[38;5;130;43;01m\\n\u001b[39;49;00m\u001b[38;5;130;43;01m\\n\u001b[39;49;00m\u001b[33;43m    df_out = pd.DataFrame(np.concatenate(out), columns = [\u001b[39;49m\u001b[38;5;130;43;01m\\'\u001b[39;49;00m\u001b[33;43mtimestamp\u001b[39;49m\u001b[38;5;130;43;01m\\'\u001b[39;49;00m\u001b[33;43m,\u001b[39;49m\u001b[38;5;130;43;01m\\'\u001b[39;49;00m\u001b[33;43mAsset_ID\u001b[39;49m\u001b[38;5;130;43;01m\\'\u001b[39;49;00m\u001b[33;43m] + All_names + [\u001b[39;49m\u001b[38;5;130;43;01m\\'\u001b[39;49;00m\u001b[33;43mTarget\u001b[39;49m\u001b[38;5;130;43;01m\\'\u001b[39;49;00m\u001b[33;43m]).astype(\u001b[39;49m\u001b[33;43m{\u001b[39;49m\u001b[38;5;130;43;01m\\'\u001b[39;49;00m\u001b[33;43mtimestamp\u001b[39;49m\u001b[38;5;130;43;01m\\'\u001b[39;49;00m\u001b[33;43m: \u001b[39;49m\u001b[38;5;130;43;01m\\'\u001b[39;49;00m\u001b[33;43mint64\u001b[39;49m\u001b[38;5;130;43;01m\\'\u001b[39;49;00m\u001b[33;43m,\u001b[39;49m\u001b[38;5;130;43;01m\\'\u001b[39;49;00m\u001b[33;43mAsset_ID\u001b[39;49m\u001b[38;5;130;43;01m\\'\u001b[39;49;00m\u001b[33;43m: \u001b[39;49m\u001b[38;5;130;43;01m\\'\u001b[39;49;00m\u001b[33;43mint64\u001b[39;49m\u001b[38;5;130;43;01m\\'\u001b[39;49;00m\u001b[33;43m})\u001b[39;49m\u001b[38;5;130;43;01m\\n\u001b[39;49;00m\u001b[38;5;130;43;01m\\n\u001b[39;49;00m\u001b[33;43m    df_out = df_out[~np.isnan(df_out.Target)]\u001b[39;49m\u001b[38;5;130;43;01m\\n\u001b[39;49;00m\u001b[38;5;130;43;01m\\n\u001b[39;49;00m\u001b[33;43m    ind_train = df_out.timestamp.isin(dict_fold[\u001b[39;49m\u001b[38;5;130;43;01m\\'\u001b[39;49;00m\u001b[33;43mtrain_fold_\u001b[39;49m\u001b[38;5;130;43;01m\\'\u001b[39;49;00m\u001b[33;43m+str(fold)])\u001b[39;49m\u001b[38;5;130;43;01m\\n\u001b[39;49;00m\u001b[33;43m    ind_test = df_out.timestamp.isin(dict_fold[\u001b[39;49m\u001b[38;5;130;43;01m\\'\u001b[39;49;00m\u001b[33;43mtest_fold_\u001b[39;49m\u001b[38;5;130;43;01m\\'\u001b[39;49;00m\u001b[33;43m+str(fold)])\u001b[39;49m\u001b[38;5;130;43;01m\\n\u001b[39;49;00m\u001b[38;5;130;43;01m\\n\u001b[39;49;00m\u001b[33;43m    df_train_fold = df_out[ind_train]\u001b[39;49m\u001b[38;5;130;43;01m\\n\u001b[39;49;00m\u001b[33;43m    df_test_fold = df_out[ind_test]\u001b[39;49m\u001b[38;5;130;43;01m\\n\u001b[39;49;00m\u001b[38;5;130;43;01m\\n\u001b[39;49;00m\u001b[33;43m    df_train_fold.to_parquet(\u001b[39;49m\u001b[38;5;130;43;01m\\'\u001b[39;49;00m\u001b[33;43mtrain_fold_\u001b[39;49m\u001b[38;5;130;43;01m\\'\u001b[39;49;00m\u001b[33;43m+str(fold)+\u001b[39;49m\u001b[38;5;130;43;01m\\'\u001b[39;49;00m\u001b[33;43m.parquet\u001b[39;49m\u001b[38;5;130;43;01m\\'\u001b[39;49;00m\u001b[33;43m)\u001b[39;49m\u001b[38;5;130;43;01m\\n\u001b[39;49;00m\u001b[33;43m    df_test_fold.to_parquet(\u001b[39;49m\u001b[38;5;130;43;01m\\'\u001b[39;49;00m\u001b[33;43mtest_fold_\u001b[39;49m\u001b[38;5;130;43;01m\\'\u001b[39;49;00m\u001b[33;43m+str(fold)+\u001b[39;49m\u001b[38;5;130;43;01m\\'\u001b[39;49;00m\u001b[33;43m.parquet\u001b[39;49m\u001b[38;5;130;43;01m\\'\u001b[39;49;00m\u001b[33;43m)\u001b[39;49m\u001b[38;5;130;43;01m\\n\u001b[39;49;00m\u001b[38;5;130;43;01m\\n\u001b[39;49;00m\u001b[33;43m    pd.DataFrame(df_train_fold.mean(),columns=[\u001b[39;49m\u001b[38;5;130;43;01m\\'\u001b[39;49;00m\u001b[33;43mmean\u001b[39;49m\u001b[38;5;130;43;01m\\'\u001b[39;49;00m\u001b[33;43m]).to_parquet(\u001b[39;49m\u001b[38;5;130;43;01m\\'\u001b[39;49;00m\u001b[33;43mmean_fold_\u001b[39;49m\u001b[38;5;130;43;01m\\'\u001b[39;49;00m\u001b[33;43m+str(fold)+\u001b[39;49m\u001b[38;5;130;43;01m\\'\u001b[39;49;00m\u001b[33;43m.parquet\u001b[39;49m\u001b[38;5;130;43;01m\\'\u001b[39;49;00m\u001b[33;43m)\u001b[39;49m\u001b[38;5;130;43;01m\\n\u001b[39;49;00m\u001b[33;43m    pd.DataFrame(df_train_fold.std(),columns=[\u001b[39;49m\u001b[38;5;130;43;01m\\'\u001b[39;49;00m\u001b[33;43mstd\u001b[39;49m\u001b[38;5;130;43;01m\\'\u001b[39;49;00m\u001b[33;43m]).to_parquet(\u001b[39;49m\u001b[38;5;130;43;01m\\'\u001b[39;49;00m\u001b[33;43mstd_fold_\u001b[39;49m\u001b[38;5;130;43;01m\\'\u001b[39;49;00m\u001b[33;43m+str(fold)+\u001b[39;49m\u001b[38;5;130;43;01m\\'\u001b[39;49;00m\u001b[33;43m.parquet\u001b[39;49m\u001b[38;5;130;43;01m\\'\u001b[39;49;00m\u001b[33;43m)\u001b[39;49m\u001b[38;5;130;43;01m\\n\u001b[39;49;00m\u001b[33;43m'\u001b[39;49m\u001b[43m)\u001b[49m\n",
      "\u001b[36mFile \u001b[39m\u001b[32md:\\workspace\\hit_ml_dl\\venv\\Lib\\site-packages\\IPython\\core\\interactiveshell.py:2565\u001b[39m, in \u001b[36mInteractiveShell.run_cell_magic\u001b[39m\u001b[34m(self, magic_name, line, cell)\u001b[39m\n\u001b[32m   2563\u001b[39m \u001b[38;5;28;01mwith\u001b[39;00m \u001b[38;5;28mself\u001b[39m.builtin_trap:\n\u001b[32m   2564\u001b[39m     args = (magic_arg_s, cell)\n\u001b[32m-> \u001b[39m\u001b[32m2565\u001b[39m     result = \u001b[43mfn\u001b[49m\u001b[43m(\u001b[49m\u001b[43m*\u001b[49m\u001b[43margs\u001b[49m\u001b[43m,\u001b[49m\u001b[43m \u001b[49m\u001b[43m*\u001b[49m\u001b[43m*\u001b[49m\u001b[43mkwargs\u001b[49m\u001b[43m)\u001b[49m\n\u001b[32m   2567\u001b[39m \u001b[38;5;66;03m# The code below prevents the output from being displayed\u001b[39;00m\n\u001b[32m   2568\u001b[39m \u001b[38;5;66;03m# when using magics with decorator @output_can_be_silenced\u001b[39;00m\n\u001b[32m   2569\u001b[39m \u001b[38;5;66;03m# when the last Python token in the expression is a ';'.\u001b[39;00m\n\u001b[32m   2570\u001b[39m \u001b[38;5;28;01mif\u001b[39;00m \u001b[38;5;28mgetattr\u001b[39m(fn, magic.MAGIC_OUTPUT_CAN_BE_SILENCED, \u001b[38;5;28;01mFalse\u001b[39;00m):\n",
      "\u001b[36mFile \u001b[39m\u001b[32md:\\workspace\\hit_ml_dl\\venv\\Lib\\site-packages\\IPython\\core\\magics\\execution.py:1470\u001b[39m, in \u001b[36mExecutionMagics.time\u001b[39m\u001b[34m(self, line, cell, local_ns)\u001b[39m\n\u001b[32m   1468\u001b[39m \u001b[38;5;28;01mif\u001b[39;00m interrupt_occured:\n\u001b[32m   1469\u001b[39m     \u001b[38;5;28;01mif\u001b[39;00m exit_on_interrupt \u001b[38;5;129;01mand\u001b[39;00m captured_exception:\n\u001b[32m-> \u001b[39m\u001b[32m1470\u001b[39m         \u001b[38;5;28;01mraise\u001b[39;00m captured_exception\n\u001b[32m   1471\u001b[39m     \u001b[38;5;28;01mreturn\u001b[39;00m\n\u001b[32m   1472\u001b[39m \u001b[38;5;28;01mreturn\u001b[39;00m out\n",
      "\u001b[36mFile \u001b[39m\u001b[32md:\\workspace\\hit_ml_dl\\venv\\Lib\\site-packages\\IPython\\core\\magics\\execution.py:1434\u001b[39m, in \u001b[36mExecutionMagics.time\u001b[39m\u001b[34m(self, line, cell, local_ns)\u001b[39m\n\u001b[32m   1432\u001b[39m st = clock2()\n\u001b[32m   1433\u001b[39m \u001b[38;5;28;01mtry\u001b[39;00m:\n\u001b[32m-> \u001b[39m\u001b[32m1434\u001b[39m     \u001b[43mexec\u001b[49m\u001b[43m(\u001b[49m\u001b[43mcode\u001b[49m\u001b[43m,\u001b[49m\u001b[43m \u001b[49m\u001b[43mglob\u001b[49m\u001b[43m,\u001b[49m\u001b[43m \u001b[49m\u001b[43mlocal_ns\u001b[49m\u001b[43m)\u001b[49m\n\u001b[32m   1435\u001b[39m     out = \u001b[38;5;28;01mNone\u001b[39;00m\n\u001b[32m   1436\u001b[39m     \u001b[38;5;66;03m# multi-line %%time case\u001b[39;00m\n",
      "\u001b[36mFile \u001b[39m\u001b[32m<timed exec>:24\u001b[39m\n",
      "\u001b[36mFile \u001b[39m\u001b[32md:\\workspace\\hit_ml_dl\\venv\\Lib\\site-packages\\pandas\\io\\parquet.py:669\u001b[39m, in \u001b[36mread_parquet\u001b[39m\u001b[34m(path, engine, columns, storage_options, use_nullable_dtypes, dtype_backend, filesystem, filters, **kwargs)\u001b[39m\n\u001b[32m    666\u001b[39m     use_nullable_dtypes = \u001b[38;5;28;01mFalse\u001b[39;00m\n\u001b[32m    667\u001b[39m check_dtype_backend(dtype_backend)\n\u001b[32m--> \u001b[39m\u001b[32m669\u001b[39m \u001b[38;5;28;01mreturn\u001b[39;00m \u001b[43mimpl\u001b[49m\u001b[43m.\u001b[49m\u001b[43mread\u001b[49m\u001b[43m(\u001b[49m\n\u001b[32m    670\u001b[39m \u001b[43m    \u001b[49m\u001b[43mpath\u001b[49m\u001b[43m,\u001b[49m\n\u001b[32m    671\u001b[39m \u001b[43m    \u001b[49m\u001b[43mcolumns\u001b[49m\u001b[43m=\u001b[49m\u001b[43mcolumns\u001b[49m\u001b[43m,\u001b[49m\n\u001b[32m    672\u001b[39m \u001b[43m    \u001b[49m\u001b[43mfilters\u001b[49m\u001b[43m=\u001b[49m\u001b[43mfilters\u001b[49m\u001b[43m,\u001b[49m\n\u001b[32m    673\u001b[39m \u001b[43m    \u001b[49m\u001b[43mstorage_options\u001b[49m\u001b[43m=\u001b[49m\u001b[43mstorage_options\u001b[49m\u001b[43m,\u001b[49m\n\u001b[32m    674\u001b[39m \u001b[43m    \u001b[49m\u001b[43muse_nullable_dtypes\u001b[49m\u001b[43m=\u001b[49m\u001b[43muse_nullable_dtypes\u001b[49m\u001b[43m,\u001b[49m\n\u001b[32m    675\u001b[39m \u001b[43m    \u001b[49m\u001b[43mdtype_backend\u001b[49m\u001b[43m=\u001b[49m\u001b[43mdtype_backend\u001b[49m\u001b[43m,\u001b[49m\n\u001b[32m    676\u001b[39m \u001b[43m    \u001b[49m\u001b[43mfilesystem\u001b[49m\u001b[43m=\u001b[49m\u001b[43mfilesystem\u001b[49m\u001b[43m,\u001b[49m\n\u001b[32m    677\u001b[39m \u001b[43m    \u001b[49m\u001b[43m*\u001b[49m\u001b[43m*\u001b[49m\u001b[43mkwargs\u001b[49m\u001b[43m,\u001b[49m\n\u001b[32m    678\u001b[39m \u001b[43m\u001b[49m\u001b[43m)\u001b[49m\n",
      "\u001b[36mFile \u001b[39m\u001b[32md:\\workspace\\hit_ml_dl\\venv\\Lib\\site-packages\\pandas\\io\\parquet.py:258\u001b[39m, in \u001b[36mPyArrowImpl.read\u001b[39m\u001b[34m(self, path, columns, filters, use_nullable_dtypes, dtype_backend, storage_options, filesystem, **kwargs)\u001b[39m\n\u001b[32m    256\u001b[39m \u001b[38;5;28;01mif\u001b[39;00m manager == \u001b[33m\"\u001b[39m\u001b[33marray\u001b[39m\u001b[33m\"\u001b[39m:\n\u001b[32m    257\u001b[39m     to_pandas_kwargs[\u001b[33m\"\u001b[39m\u001b[33msplit_blocks\u001b[39m\u001b[33m\"\u001b[39m] = \u001b[38;5;28;01mTrue\u001b[39;00m\n\u001b[32m--> \u001b[39m\u001b[32m258\u001b[39m path_or_handle, handles, filesystem = \u001b[43m_get_path_or_handle\u001b[49m\u001b[43m(\u001b[49m\n\u001b[32m    259\u001b[39m \u001b[43m    \u001b[49m\u001b[43mpath\u001b[49m\u001b[43m,\u001b[49m\n\u001b[32m    260\u001b[39m \u001b[43m    \u001b[49m\u001b[43mfilesystem\u001b[49m\u001b[43m,\u001b[49m\n\u001b[32m    261\u001b[39m \u001b[43m    \u001b[49m\u001b[43mstorage_options\u001b[49m\u001b[43m=\u001b[49m\u001b[43mstorage_options\u001b[49m\u001b[43m,\u001b[49m\n\u001b[32m    262\u001b[39m \u001b[43m    \u001b[49m\u001b[43mmode\u001b[49m\u001b[43m=\u001b[49m\u001b[33;43m\"\u001b[39;49m\u001b[33;43mrb\u001b[39;49m\u001b[33;43m\"\u001b[39;49m\u001b[43m,\u001b[49m\n\u001b[32m    263\u001b[39m \u001b[43m\u001b[49m\u001b[43m)\u001b[49m\n\u001b[32m    264\u001b[39m \u001b[38;5;28;01mtry\u001b[39;00m:\n\u001b[32m    265\u001b[39m     pa_table = \u001b[38;5;28mself\u001b[39m.api.parquet.read_table(\n\u001b[32m    266\u001b[39m         path_or_handle,\n\u001b[32m    267\u001b[39m         columns=columns,\n\u001b[32m   (...)\u001b[39m\u001b[32m    270\u001b[39m         **kwargs,\n\u001b[32m    271\u001b[39m     )\n",
      "\u001b[36mFile \u001b[39m\u001b[32md:\\workspace\\hit_ml_dl\\venv\\Lib\\site-packages\\pandas\\io\\parquet.py:141\u001b[39m, in \u001b[36m_get_path_or_handle\u001b[39m\u001b[34m(path, fs, storage_options, mode, is_dir)\u001b[39m\n\u001b[32m    131\u001b[39m handles = \u001b[38;5;28;01mNone\u001b[39;00m\n\u001b[32m    132\u001b[39m \u001b[38;5;28;01mif\u001b[39;00m (\n\u001b[32m    133\u001b[39m     \u001b[38;5;129;01mnot\u001b[39;00m fs\n\u001b[32m    134\u001b[39m     \u001b[38;5;129;01mand\u001b[39;00m \u001b[38;5;129;01mnot\u001b[39;00m is_dir\n\u001b[32m   (...)\u001b[39m\u001b[32m    139\u001b[39m     \u001b[38;5;66;03m# fsspec resources can also point to directories\u001b[39;00m\n\u001b[32m    140\u001b[39m     \u001b[38;5;66;03m# this branch is used for example when reading from non-fsspec URLs\u001b[39;00m\n\u001b[32m--> \u001b[39m\u001b[32m141\u001b[39m     handles = \u001b[43mget_handle\u001b[49m\u001b[43m(\u001b[49m\n\u001b[32m    142\u001b[39m \u001b[43m        \u001b[49m\u001b[43mpath_or_handle\u001b[49m\u001b[43m,\u001b[49m\u001b[43m \u001b[49m\u001b[43mmode\u001b[49m\u001b[43m,\u001b[49m\u001b[43m \u001b[49m\u001b[43mis_text\u001b[49m\u001b[43m=\u001b[49m\u001b[38;5;28;43;01mFalse\u001b[39;49;00m\u001b[43m,\u001b[49m\u001b[43m \u001b[49m\u001b[43mstorage_options\u001b[49m\u001b[43m=\u001b[49m\u001b[43mstorage_options\u001b[49m\n\u001b[32m    143\u001b[39m \u001b[43m    \u001b[49m\u001b[43m)\u001b[49m\n\u001b[32m    144\u001b[39m     fs = \u001b[38;5;28;01mNone\u001b[39;00m\n\u001b[32m    145\u001b[39m     path_or_handle = handles.handle\n",
      "\u001b[36mFile \u001b[39m\u001b[32md:\\workspace\\hit_ml_dl\\venv\\Lib\\site-packages\\pandas\\io\\common.py:882\u001b[39m, in \u001b[36mget_handle\u001b[39m\u001b[34m(path_or_buf, mode, encoding, compression, memory_map, is_text, errors, storage_options)\u001b[39m\n\u001b[32m    873\u001b[39m         handle = \u001b[38;5;28mopen\u001b[39m(\n\u001b[32m    874\u001b[39m             handle,\n\u001b[32m    875\u001b[39m             ioargs.mode,\n\u001b[32m   (...)\u001b[39m\u001b[32m    878\u001b[39m             newline=\u001b[33m\"\u001b[39m\u001b[33m\"\u001b[39m,\n\u001b[32m    879\u001b[39m         )\n\u001b[32m    880\u001b[39m     \u001b[38;5;28;01melse\u001b[39;00m:\n\u001b[32m    881\u001b[39m         \u001b[38;5;66;03m# Binary mode\u001b[39;00m\n\u001b[32m--> \u001b[39m\u001b[32m882\u001b[39m         handle = \u001b[38;5;28;43mopen\u001b[39;49m\u001b[43m(\u001b[49m\u001b[43mhandle\u001b[49m\u001b[43m,\u001b[49m\u001b[43m \u001b[49m\u001b[43mioargs\u001b[49m\u001b[43m.\u001b[49m\u001b[43mmode\u001b[49m\u001b[43m)\u001b[49m\n\u001b[32m    883\u001b[39m     handles.append(handle)\n\u001b[32m    885\u001b[39m \u001b[38;5;66;03m# Convert BytesIO or file objects passed with an encoding\u001b[39;00m\n",
      "\u001b[31mFileNotFoundError\u001b[39m: [Errno 2] No such file or directory: 'df_fold_0.parquet'"
     ]
    }
   ],
   "source": [
    "%%time\n",
    "\n",
    "import os\n",
    "from random import random\n",
    "\n",
    "sampling = 0.05\n",
    "\n",
    "MA_lags = [2,5,15,30,60,120,300,1800,3750,2*3750,7*24*60]\n",
    "beta_lags = [15,30,60,120,300,600,1800,3750,2*3750,7*24*60]\n",
    "\n",
    "Features_names = ['log_ret','log_ret_H','log_ret_L','log_ret_VWAP','GK_vol','RS_vol','log_Count','log_Volume','log_Dollars','log_Volume_per_trade','log_Dollars_per_trade']\n",
    "Market_Features_names = [s+'_M' for s in Features_names]\n",
    "Time_Features_names = ['sin_month','cos_month','sin_day','cos_day','sin_hour','cos_hour','sin_minute','cos_minute']\n",
    "MA_Features_names = [s+'_'+str(lag) for lag in MA_lags for s in Features_names ]\n",
    "MA_Features_M_names = [s+'_'+str(lag) for lag in MA_lags for s in Market_Features_names]\n",
    "betas_names = ['betas_'+str(lag) for lag in beta_lags]\n",
    "\n",
    "All_names = Features_names + Market_Features_names + Time_Features_names + MA_Features_names + MA_Features_M_names + betas_names\n",
    "#df_values = pd.DataFrame(values, columns = All_names)\n",
    "\n",
    "for fold in range(n_fold):\n",
    "    \n",
    "    df_train_fold = pd.DataFrame()\n",
    "    df_test_fold = pd.DataFrame()\n",
    "    \n",
    "    df_read = pd.read_parquet(\"df_fold_\"+str(fold)+'.parquet')\n",
    "    \n",
    "    #instantiation Moving average features dict\n",
    "    dict_RM = {}\n",
    "    dict_RM_M = {}\n",
    "\n",
    "    for lag in MA_lags:\n",
    "        dict_RM[lag] = RunningMean(lag)\n",
    "        dict_RM_M[lag] = RunningMean(lag)\n",
    "\n",
    "    #instantiation dict betas\n",
    "    dict_MM = {}\n",
    "    dict_Mr = {}\n",
    "    for lag in beta_lags:\n",
    "        dict_MM[lag] = RunningMean(lag)\n",
    "        dict_Mr[lag] = RunningMean(lag)\n",
    "\n",
    "    f = ['timestamp','Asset_ID','Count','Open','High','Low','Close','Volume','VWAP','Target']\n",
    "    t = df_read['timestamp'].values\n",
    "    ids, index = np.unique(t, return_index=True)\n",
    "\n",
    "    Values = df_read[f].values\n",
    "    splits = np.split(Values, index[1:])\n",
    "    out = []\n",
    "\n",
    "    for time_id, x in tqdm(zip(ids.tolist(), splits)):\n",
    "        #df = Clean_df(pd.DataFrame(x,columns=f))\n",
    "\n",
    "        #timestamp,Asset_ID,Count,O,H,L,C,Volume,VWAP,row_id = (test_df[col].values for col in ['timestamp','Asset_ID','Count','Open','High','Low','Close','Volume','VWAP','row_id'])\n",
    "        timestamp,Asset_ID,Count,O,H,L,C,Volume, VWAP,Target = Clean_df(x)\n",
    "\n",
    "        # np.array([Count,O,H,L,C,Price,Volume,VWAP,Dollars,Volume_per_trade,Dollars_per_trade,log_ret,GK_vol,RS_vol])\n",
    "        Features = Base_Feature_fn(timestamp,Asset_ID,Count,O,H,L,C,Volume,VWAP)\n",
    "\n",
    "        #removing wieghts when data is missing so that they don't appears in market\n",
    "        weigths_curr = np.where(np.isnan(O),O,weigths)\n",
    "        Market_Features = np.nansum(Features*np.expand_dims(weigths_curr,axis=1)/np.nansum(weigths_curr),axis=0)\n",
    "        #Market_Features = np.tile(Market_Features,(14,1))\n",
    "\n",
    "        #np.array((sin_month,cos_month,sin_day,cos_day,sin_hour,cos_hour,sin_minute,cos_minute))\n",
    "        time = timestamp_to_date(timestamp[0])\n",
    "        Time_Features = Time_Feature_fn(time)\n",
    "        #Time_Features = np.tile(Time_Features,(14,1))\n",
    "\n",
    "        MA_Features = []\n",
    "        MA_Features_M  = [] \n",
    "\n",
    "        for lag in MA_lags:\n",
    "            dict_RM[lag].push(Features.copy())\n",
    "            dict_RM_M[lag].push(Market_Features.copy())\n",
    "\n",
    "            MA_Features.append(dict_RM[lag].get_mean())\n",
    "            MA_Features_M.append(dict_RM_M[lag].get_mean())\n",
    "        \n",
    "        #standardise w/ 3750 lag\n",
    "        ref = 3750\n",
    "        \n",
    "        for i in range(len(MA_lags)):\n",
    "            if MA_lags[i] == ref:\n",
    "                MA_ref = dict_RM[MA_lags[i]].get_mean().copy()\n",
    "                MA_M_ref = dict_RM_M[MA_lags[i]].get_mean().copy()\n",
    "        \n",
    "        \n",
    "                \n",
    "                \n",
    "        Features[:,-6:] = (Features[:,-6:] - MA_ref[:,-6:]).copy()\n",
    "        Market_Features[-6:] = (Market_Features[-6:] - MA_M_ref[-6:]).copy()\n",
    "                \n",
    "        for i in range(len(MA_lags)):\n",
    "            MA_Features[i][:,-6:] = (MA_Features[i][:,-6:] - MA_ref[:,-6:]).copy()\n",
    "            MA_Features_M[i][-6:] = (MA_Features_M[i][-6:] - MA_M_ref[-6:]).copy()\n",
    "\n",
    "        MA_Features_agg = np.concatenate(MA_Features,axis=1)\n",
    "        MA_Features_M_agg = np.concatenate(MA_Features_M)\n",
    "\n",
    "        betas = []\n",
    "\n",
    "        for lag in beta_lags:\n",
    "            dict_MM[lag].push(Market_Features[0]**2)\n",
    "            dict_Mr[lag].push(Market_Features[0]*Features[:,0])\n",
    "            betas.append(np.expand_dims(dict_Mr[lag].get_mean()/dict_MM[lag].get_mean(),axis=1))\n",
    "\n",
    "        betas = np.concatenate(betas,axis=1)\n",
    "        betas = np.nan_to_num(betas, nan=0., posinf=0., neginf=0.) \n",
    "\n",
    "        values = np.concatenate((Features,np.tile(Market_Features,(14,1)),np.tile(Time_Features,(14,1)),MA_Features_agg,np.tile(MA_Features_M_agg,(14,1)),betas, np.expand_dims(Target,axis=1)),axis=1)\n",
    "        \n",
    "        if random() < sampling:\n",
    "            out.append(np.concatenate((np.expand_dims(timestamp,axis=1),np.expand_dims(Asset_ID,axis=1),np.float32(values)),axis=1))\n",
    "    \n",
    "    df_out = pd.DataFrame(np.concatenate(out), columns = ['timestamp','Asset_ID'] + All_names + ['Target']).astype({'timestamp': 'int64','Asset_ID': 'int64'})\n",
    "    \n",
    "    df_out = df_out[~np.isnan(df_out.Target)]\n",
    "\n",
    "    ind_train = df_out.timestamp.isin(dict_fold['train_fold_'+str(fold)])\n",
    "    ind_test = df_out.timestamp.isin(dict_fold['test_fold_'+str(fold)])\n",
    "    \n",
    "    df_train_fold = df_out[ind_train]\n",
    "    df_test_fold = df_out[ind_test]\n",
    "    \n",
    "    df_train_fold.to_parquet('train_fold_'+str(fold)+'.parquet')\n",
    "    df_test_fold.to_parquet('test_fold_'+str(fold)+'.parquet')\n",
    "    \n",
    "    pd.DataFrame(df_train_fold.mean(),columns=['mean']).to_parquet('mean_fold_'+str(fold)+'.parquet')\n",
    "    pd.DataFrame(df_train_fold.std(),columns=['std']).to_parquet('std_fold_'+str(fold)+'.parquet')"
   ]
  },
  {
   "cell_type": "code",
   "execution_count": null,
   "id": "8b317b94",
   "metadata": {},
   "outputs": [],
   "source": []
  },
  {
   "cell_type": "code",
   "execution_count": null,
   "id": "d3f76aa9",
   "metadata": {},
   "outputs": [],
   "source": [
    "# 대용량 CSV read 작업 중 메모리 오류 발생\n",
    "# 로드 과정을 더 빠르게 할 수는 없을까?\n",
    "\n",
    "# 훈련 데이터 로드\n",
    "train_df = pd.read_csv(DATA_DIR + 'train.csv', encoding='utf-8') # nrows=400000\n",
    "train_df.head()"
   ]
  },
  {
   "cell_type": "code",
   "execution_count": null,
   "id": "7cbbf4b3",
   "metadata": {},
   "outputs": [],
   "source": [
    "supplemental_df = pd.read_csv(DATA_DIR + 'supplemental_train.csv', encoding='utf-8')\n",
    "\n",
    "\n",
    "# 훈련 데이터 결합\n",
    "train_df = pd.concat([train_df, supplemental_df], ignore_index=True)\n",
    "\n",
    "# 중복 제거, 정렬 (인덱스 상태는 무관)\n",
    "train_df = train_df.drop_duplicates().sort_values(by=['Asset_ID', 'timestamp'])\n",
    "\n",
    "# 정렬 후 인덱스 초기화\n",
    "train_df = train_df.reset_index(drop=True)\n"
   ]
  },
  {
   "cell_type": "code",
   "execution_count": 277,
   "id": "d00c2ef3",
   "metadata": {},
   "outputs": [
    {
     "data": {
      "text/plain": [
       "array([ 2, 16, 30, 44, 17, 31, 45,  3, 29, 43,  1, 15, 42, 14, 28,  0,  4,\n",
       "       18, 46, 32, 33, 47, 19,  5, 21,  7, 49, 35, 34, 48,  6, 20, 36, 50,\n",
       "        8, 22, 23,  9, 51, 37, 52, 38, 10, 24, 27, 13, 41, 55, 54, 40, 12,\n",
       "       26, 25, 11, 39, 53])"
      ]
     },
     "execution_count": 277,
     "metadata": {},
     "output_type": "execute_result"
    }
   ],
   "source": [
    "# Get Data\n",
    "timestamp,Asset_ID,Count,O,H,L,C,Volume,VWAP,row_id = (test_df[col].values for col in ['timestamp','Asset_ID','Count','Open','High','Low','Close','Volume','VWAP','row_id'])\n",
    "\n",
    "# 데이터 재정렬\n",
    "order = np.argsort(Asset_ID)\n",
    "order"
   ]
  },
  {
   "cell_type": "code",
   "execution_count": null,
   "id": "8450c7d6",
   "metadata": {},
   "outputs": [
    {
     "name": "stdout",
     "output_type": "stream",
     "text": [
      "timestamp         0\n",
      "Asset_ID          0\n",
      "Count             0\n",
      "Open              0\n",
      "High              0\n",
      "Low               0\n",
      "Close             0\n",
      "Volume            0\n",
      "VWAP              9\n",
      "Target       753261\n"
     ]
    }
   ],
   "source": [
    "# 발생한 이슈\n",
    "# Dask GroupBy 제한: GroupBy 객체는 Pandas와 달리 fillna를 직접 지원하지 않음\n",
    "# fillna는 DataFrame 수준에서 적용되어야 함\n",
    "\n",
    "# 결측치 제거\n",
    "print(train_df.isna().sum().to_string()) # .isna == .isnull"
   ]
  },
  {
   "cell_type": "code",
   "execution_count": null,
   "id": "54d0cd82",
   "metadata": {},
   "outputs": [
    {
     "name": "stdout",
     "output_type": "stream",
     "text": [
      "Index(['timestamp', 'Asset_ID', 'Count', 'Open', 'High', 'Low', 'Close',\n",
      "       'Volume', 'VWAP', 'Target'],\n",
      "      dtype='object')\n"
     ]
    }
   ],
   "source": [
    "print(train_df.columns)\n",
    "train_df = train_df.drop(columns=['Target'])"
   ]
  },
  {
   "cell_type": "code",
   "execution_count": 253,
   "id": "30feba15",
   "metadata": {},
   "outputs": [
    {
     "name": "stderr",
     "output_type": "stream",
     "text": [
      "C:\\Users\\wsm\\AppData\\Local\\Temp\\ipykernel_24884\\3078661307.py:8: FutureWarning: DataFrameGroupBy.apply operated on the grouping columns. This behavior is deprecated, and in a future version of pandas the grouping columns will be excluded from the operation. Either pass `include_groups=False` to exclude the groupings or explicitly select the grouping columns after groupby to silence this warning.\n",
      "  train_df = train_df.groupby('Asset_ID').apply(lambda x: x.interpolate(method='linear'))\n"
     ]
    },
    {
     "name": "stdout",
     "output_type": "stream",
     "text": [
      "    timestamp  Asset_ID  Count    Open    High     Low   Close   Volume  \\\n",
      "0  1514764860         0    5.0  8.5300  8.5300  8.5300  8.5300    78.38   \n",
      "1  1514764920         0    7.0  8.5300  8.5300  8.5145  8.5145    71.39   \n",
      "2  1514764980         0   45.0  8.5065  8.5299  8.4848  8.4848  1546.82   \n",
      "3  1514765040         0   14.0  8.5009  8.5066  8.4744  8.5009   125.80   \n",
      "4  1514765100         0    5.0  8.5007  8.5007  8.4560  8.4560   125.01   \n",
      "\n",
      "       VWAP  \n",
      "0  8.530000  \n",
      "1  8.520215  \n",
      "2  8.501394  \n",
      "3  8.479810  \n",
      "4  8.458435  \n",
      "(after) 결측치 수:\n",
      " timestamp    0\n",
      "Asset_ID     0\n",
      "Count        0\n",
      "Open         0\n",
      "High         0\n",
      "Low          0\n",
      "Close        0\n",
      "Volume       0\n",
      "VWAP         0\n"
     ]
    }
   ],
   "source": [
    "# 정렬 전 인덱스 제거\n",
    "train_df = train_df.reset_index(drop=True)\n",
    "\n",
    "# 정렬\n",
    "train_df = train_df.sort_values(['Asset_ID', 'timestamp'])\n",
    "\n",
    "# groupby 후 선형 보간\n",
    "train_df = train_df.groupby('Asset_ID').apply(lambda x: x.interpolate(method='linear'))\n",
    "\n",
    "# 멀티 인덱스 제거\n",
    "train_df.reset_index(drop=True, inplace=True)\n",
    "\n",
    "# 결과 확인\n",
    "print(train_df.head())\n",
    "\n",
    "# 결측치 확인\n",
    "missing_counts_after = train_df.isna().sum()\n",
    "print(\"(after) 결측치 수:\\n\", missing_counts_after.to_string())"
   ]
  },
  {
   "cell_type": "code",
   "execution_count": null,
   "id": "f374ce96",
   "metadata": {},
   "outputs": [],
   "source": [
    "# 데이터 정렬\n",
    "train_df = train_df.sort_values(by=['Asset_ID', 'timestamp'])\n",
    "\n",
    "# 특성 공학 함수\n",
    "def compute_features(df):\n",
    "    \"\"\"\n",
    "    자산별로 특성 공학을 수행\n",
    "    Args: df - pandas DataFrame\n",
    "    Returns: 특성이 추가된 DataFrame\n",
    "    \"\"\"\n",
    "    print(f\"Before compute_features - Columns: {df.columns.tolist()}\")\n",
    "    if 'Close' not in df.columns:\n",
    "        raise KeyError(f\"Column 'Close' not found in DataFrame. Available columns: {df.columns.tolist()}\")\n",
    "\n",
    "    df = df.copy()\n",
    "\n",
    "    # 1. 지연 특성 (Lag Features)\n",
    "    df['lag_1_close'] = df['Close'].shift(1)\n",
    "    df['returns'] = df['Close'].pct_change()\n",
    "    df['log_returns'] = np.log1p(df['returns'])\n",
    "    df['lag_1_returns'] = df['returns'].shift(1)\n",
    "\n",
    "    # 2. 이동 평균 (Moving Averages)\n",
    "    df['sma_5'] = df['Close'].rolling(window=5, min_periods=1).mean()\n",
    "    df['ema_5'] = df['Close'].ewm(span=5, adjust=False).mean()\n",
    "\n",
    "    # 3. 변동성 지표 (Volatility Indicators)\n",
    "    df['volatility_15'] = df['returns'].rolling(window=15, min_periods=1).std()\n",
    "    df['high_low_spread'] = df['High'] - df['Low']\n",
    "    bb = BollingerBands(close=df['Close'], window=20, window_dev=2, fillna=True)\n",
    "    df['bb_high'] = bb.bollinger_hband()\n",
    "    df['bb_low'] = bb.bollinger_lband()\n",
    "\n",
    "    # 4. 기술적 지표 (Technical Indicators)\n",
    "    rsi = RSIIndicator(close=df['Close'], window=14, fillna=True)\n",
    "    df['rsi'] = rsi.rsi()\n",
    "    macd = MACD(close=df['Close'], window_slow=26, window_fast=12, window_sign=9, fillna=True)\n",
    "    df['macd'] = macd.macd()\n",
    "    df['macd_signal'] = macd.macd_signal()\n",
    "    df['macd_diff'] = macd.macd_diff()\n",
    "\n",
    "    # 5. 가격 스프레드 (Price Spreads)\n",
    "    df['close_open_spread'] = df['Close'] - df['Open']\n",
    "\n",
    "    # 6. 거래량 기반 특성 (Volume-based Features)\n",
    "    df['volume_log'] = np.log1p(df['Volume'])\n",
    "    df['volume_roll_mean_5'] = df['Volume'].rolling(window=5, min_periods=1).mean()\n",
    "\n",
    "    # 다중공선성 완화 (차등 학습)\n",
    "    df['close_lag1_diff'] = df['Close'] - df['lag_1_close']\n",
    "    df['close_sma5_ratio'] = df['Close'] / df['sma_5'] - 1\n",
    "\n",
    "    print(f\"After compute_features - Columns: {df.columns.tolist()}\")\n",
    "    return df"
   ]
  },
  {
   "cell_type": "code",
   "execution_count": null,
   "id": "20a3e921",
   "metadata": {},
   "outputs": [],
   "source": [
    "# 자산별 데이터 분리 및 특성 공학\n",
    "asset_dfs = {}\n",
    "for asset_id in train_df['Asset_ID'].unique():\n",
    "    asset_df = train_df[train_df['Asset_ID'] == asset_id].copy()\n",
    "    asset_df = compute_features(asset_df)\n",
    "    asset_df = asset_df.dropna()  # 결측치 제거\n",
    "    asset_dfs[asset_id] = asset_df"
   ]
  },
  {
   "cell_type": "code",
   "execution_count": null,
   "id": "374dc09b",
   "metadata": {},
   "outputs": [],
   "source": [
    "# 자산별 데이터 분할 (예: 70-20-10)\n",
    "split_results = {}\n",
    "for asset_id, df in asset_dfs.items():\n",
    "    total_len = len(df)\n",
    "    train_size = int(0.7 * total_len)\n",
    "    val_size = int(0.2 * total_len)\n",
    "    test_size = total_len - train_size - val_size\n",
    "\n",
    "    train_data = df.iloc[:train_size]\n",
    "    val_data = df.iloc[train_size:train_size + val_size]\n",
    "    test_data = df.iloc[train_size + val_size:]\n",
    "\n",
    "    # 스케일링 적용\n",
    "    scaler_price = MinMaxScaler()\n",
    "    scaler_volume = RobustScaler()\n",
    "    scaler_target = StandardScaler()\n",
    "\n",
    "    price_cols = ['Open', 'High', 'Low', 'Close', 'VWAP']\n",
    "    volume_cols = ['Volume', 'Count']\n",
    "\n",
    "    train_data[price_cols] = scaler_price.fit_transform(train_data[price_cols])\n",
    "    train_data[volume_cols] = scaler_volume.fit_transform(np.log1p(train_data[volume_cols]))\n",
    "    train_data['target'] = scaler_target.fit_transform(train_data[['target']])\n",
    "\n",
    "    val_data[price_cols] = scaler_price.transform(val_data[price_cols])\n",
    "    val_data[volume_cols] = scaler_volume.transform(np.log1p(val_data[volume_cols]))\n",
    "    val_data['target'] = scaler_target.transform(val_data[['target']])\n",
    "\n",
    "    test_data[price_cols] = scaler_price.transform(test_data[price_cols])\n",
    "    test_data[volume_cols] = scaler_volume.transform(np.log1p(test_data[volume_cols]))\n",
    "    test_data['target'] = scaler_target.transform(test_data[['target']])\n",
    "\n",
    "    split_results[asset_id] = {'train': train_data, 'val': val_data, 'test': test_data}\n",
    "\n",
    "    print(f\"Asset {asset_id} - Train: {len(train_data)}, Val: {len(val_data)}, Test: {len(test_data)}\")"
   ]
  },
  {
   "cell_type": "code",
   "execution_count": null,
   "id": "a968323b",
   "metadata": {},
   "outputs": [],
   "source": [
    "# 자산별 특성 공학 적용 (include_groups 제거)\n",
    "train_df = train_df.groupby('Asset_ID', group_keys=False).apply(compute_features)\n",
    "test_df = test_df.groupby('Asset_ID', group_keys=False).apply(compute_features)\n",
    "\n",
    "# 결측치 처리\n",
    "train_df = train_df.groupby('Asset_ID').apply(lambda x: x.interpolate(method='linear', limit_direction='both')).reset_index(drop=True)\n",
    "test_df = test_df.groupby('Asset_ID').apply(lambda x: x.interpolate(method='linear', limit_direction='both')).reset_index(drop=True)\n",
    "train_df = train_df.fillna(method='ffill').dropna()\n",
    "test_df = test_df.fillna(method='ffill').dropna()\n",
    "\n",
    "# 타겟 변수 생성 (훈련 데이터에만 적용)\n",
    "train_df['target'] = train_df['returns'].shift(-1)\n",
    "train_df = train_df.dropna()\n",
    "\n",
    "# 다중공선성 제거 (Close 제외)\n",
    "correlation_matrix = train_df.select_dtypes(include=[np.number]).corr().abs()\n",
    "upper_tri = correlation_matrix.where(np.triu(np.ones(correlation_matrix.shape), k=1).astype(bool))\n",
    "to_drop = [column for column in upper_tri.columns if any(upper_tri[column] > 0.85) and column != 'Close']\n",
    "train_df = train_df.drop(columns=to_drop)\n",
    "test_df = test_df.drop(columns=to_drop)\n",
    "\n",
    "# 특성 선택\n",
    "features = [col for col in train_df.columns if col not in ['timestamp', 'Asset_ID', 'Open', 'High', 'Low', 'Volume', 'VWAP', 'target']]"
   ]
  },
  {
   "cell_type": "code",
   "execution_count": 262,
   "id": "2b9747aa",
   "metadata": {},
   "outputs": [],
   "source": [
    "# 시간 기반 데이터 분할 (train_df에 적용)\n",
    "train_df['datetime'] = pd.to_datetime(train_df['timestamp'], unit='s')\n",
    "train_df = train_df.sort_values('timestamp')\n",
    "total_len = len(train_df)\n",
    "train_size = int(0.7 * total_len)\n",
    "val_size = int(0.2 * total_len)\n",
    "test_size = total_len - train_size - val_size\n",
    "\n",
    "train_data = train_df.iloc[:train_size]\n",
    "val_data = train_df.iloc[train_size:train_size + val_size]\n",
    "test_data = train_df.iloc[train_size + val_size:]"
   ]
  },
  {
   "cell_type": "code",
   "execution_count": null,
   "id": "7b7d109c",
   "metadata": {},
   "outputs": [],
   "source": [
    "# 스케일링 적용\n",
    "scaler_price = MinMaxScaler()\n",
    "scaler_volume = RobustScaler()\n",
    "scaler_target = StandardScaler()\n",
    "\n",
    "price_cols = ['Open', 'High', 'Low', 'Close', 'VWAP']\n",
    "volume_cols = ['Volume', 'Count']"
   ]
  },
  {
   "cell_type": "code",
   "execution_count": null,
   "id": "3cc7f82c",
   "metadata": {},
   "outputs": [],
   "source": [
    "# 훈련 데이터 피팅 및 변환\n",
    "train_data[price_cols] = scaler_price.fit_transform(train_data[price_cols])\n",
    "train_data[volume_cols] = scaler_volume.fit_transform(np.log1p(train_data[volume_cols]))\n",
    "train_data['target'] = scaler_target.fit_transform(train_data[['target']])\n",
    "\n",
    "# 검증/테스트 데이터 변환\n",
    "val_data[price_cols] = scaler_price.transform(val_data[price_cols])\n",
    "val_data[volume_cols] = scaler_volume.transform(np.log1p(val_data[volume_cols]))\n",
    "val_data['target'] = scaler_target.transform(val_data[['target']])\n",
    "\n",
    "test_data[price_cols] = scaler_price.transform(test_data[price_cols])\n",
    "test_data[volume_cols] = scaler_volume.transform(np.log1p(test_data[volume_cols]))\n",
    "test_data['target'] = scaler_target.transform(test_data[['target']])"
   ]
  },
  {
   "cell_type": "code",
   "execution_count": null,
   "id": "7f4e6732",
   "metadata": {},
   "outputs": [],
   "source": [
    "# 목적: 암호화폐 자산별 가격 상승여부 예측 → 분류(0/1) or 회귀 모두 가능\n",
    "# 아래 예시는 회귀 (target: 수익률 등)\n",
    "\n",
    "def objective(trial):\n",
    "    param = {\n",
    "        'tree_method': 'gpu_hist',          # GPU 연산 사용\n",
    "        'predictor': 'gpu_predictor',\n",
    "        'n_estimators': trial.suggest_int('n_estimators', 100, 1000),\n",
    "        'learning_rate': trial.suggest_float('learning_rate', 1e-3, 0.3, log=True),\n",
    "        'max_depth': trial.suggest_int('max_depth', 3, 15),\n",
    "        'min_child_weight': trial.suggest_int('min_child_weight', 1, 10),\n",
    "        'subsample': trial.suggest_float('subsample', 0.5, 1.0),\n",
    "        'colsample_bytree': trial.suggest_float('colsample_bytree', 0.5, 1.0),\n",
    "        'reg_alpha': trial.suggest_float('reg_alpha', 1e-3, 10.0, log=True),\n",
    "        'reg_lambda': trial.suggest_float('reg_lambda', 1e-3, 10.0, log=True),\n",
    "        'random_state': 42,\n",
    "        'objective': 'reg:squarederror',   # 회귀용. 분류일 경우 'binary:logistic'\n",
    "        'verbosity': 0\n",
    "    }\n",
    "\n",
    "    model = xgb.XGBRegressor(**param)\n",
    "    model.fit(\n",
    "        train_data[features], train_data['target'],\n",
    "        eval_set=[(val_data[features], val_data['target'])],\n",
    "        early_stopping_rounds=10,\n",
    "        verbose=False\n",
    "    )\n",
    "    pred = model.predict(val_data[features])\n",
    "    rmse = np.sqrt(mean_squared_error(val_data['target'], pred))\n",
    "    return rmse"
   ]
  },
  {
   "cell_type": "code",
   "execution_count": null,
   "id": "3d4ecc96",
   "metadata": {},
   "outputs": [],
   "source": [
    "study = optuna.create_study(direction='minimize')\n",
    "study.optimize(objective, n_trials=50)\n",
    "\n",
    "print(f\"Best parameters: {study.best_params}\")\n",
    "print(f\"Best RMSE: {study.best_value:.4f}\")"
   ]
  },
  {
   "cell_type": "code",
   "execution_count": null,
   "id": "783592cf",
   "metadata": {},
   "outputs": [],
   "source": [
    "best_params = study.best_params\n",
    "best_params['tree_method'] = 'gpu_hist'\n",
    "best_params['predictor'] = 'gpu_predictor'\n",
    "best_params['objective'] = 'reg:squarederror'  # or 'binary:logistic' for classification\n",
    "\n",
    "model = xgb.XGBRegressor(**best_params)\n",
    "model.fit(train_data[features], train_data['target'])"
   ]
  },
  {
   "cell_type": "code",
   "execution_count": null,
   "id": "908c5e0a",
   "metadata": {},
   "outputs": [],
   "source": [
    "from sklearn.model_selection import KFold\n",
    "\n",
    "# K-Fold 교차 검증\n",
    "kf = KFold(n_splits=5, shuffle=True, random_state=42)\n",
    "cv_scores = []\n",
    "for train_idx, val_idx in kf.split(train_data):\n",
    "    X_train, X_val = train_data.iloc[train_idx][features], train_data.iloc[val_idx][features]\n",
    "    y_train, y_val = train_data.iloc[train_idx]['target'], train_data.iloc[val_idx]['target']\n",
    "    model.fit(X_train, y_train)\n",
    "    val_pred = model.predict(X_val)\n",
    "    cv_scores.append(np.sqrt(mean_squared_error(y_val, val_pred)))\n",
    "\n",
    "print(f\"Cross-Validation RMSE: {np.mean(cv_scores):.4f} (±{np.std(cv_scores):.4f})\")"
   ]
  },
  {
   "cell_type": "code",
   "execution_count": null,
   "id": "1415459f",
   "metadata": {},
   "outputs": [
    {
     "name": "stdout",
     "output_type": "stream",
     "text": [
      "Train RMSE: 0.0030\n",
      "Validation RMSE: 0.0031\n",
      "Test RMSE: 0.0025\n"
     ]
    }
   ],
   "source": [
    "# 예측\n",
    "train_pred = model.predict(train_data[features])\n",
    "val_pred = model.predict(val_data[features])\n",
    "test_pred = model.predict(test_data[features])\n",
    "\n",
    "train_rmse = np.sqrt(mean_squared_error(train_data['target'], train_pred))\n",
    "val_rmse = np.sqrt(mean_squared_error(val_data['target'], val_pred))\n",
    "test_rmse = np.sqrt(mean_squared_error(test_data['target'], test_pred))\n",
    "print(f\"Train RMSE: {train_rmse:.4f}\")\n",
    "print(f\"Validation RMSE: {val_rmse:.4f}\")\n",
    "print(f\"Test RMSE: {test_rmse:.4f}\")"
   ]
  },
  {
   "cell_type": "code",
   "execution_count": null,
   "id": "3423805b",
   "metadata": {},
   "outputs": [
    {
     "name": "stdout",
     "output_type": "stream",
     "text": [
      "Available columns for visualization: ['timestamp', 'Asset_ID', 'Count', 'Open', 'Close', 'Volume', 'returns', 'lag_1_returns', 'volatility_15', 'high_low_spread', 'rsi', 'macd', 'macd_diff', 'close_open_spread', 'volume_log', 'close_sma5_ratio', 'target', 'datetime']\n",
      "Warning: 'Close', 'bb_high', or 'bb_low' columns are missing. Visualization skipped.\n"
     ]
    }
   ],
   "source": [
    "# 시각화 개선\n",
    "# 1. Bollinger Bands\n",
    "print(f\"Available columns for visualization: {train_df.columns.tolist()}\")  # 디버깅용\n",
    "if 'Close' in train_df.columns and 'bb_high' in train_df.columns and 'bb_low' in train_df.columns:\n",
    "    plt.figure(figsize=(14, 7))\n",
    "    plt.plot(train_df['datetime'], train_df['Close'], label='Close Price', color='green')\n",
    "    plt.plot(train_df['datetime'], train_df['bb_high'], label='Upper Band', color='blue', linestyle='--')\n",
    "    plt.plot(train_df['datetime'], train_df['bb_low'], label='Lower Band', color='red', linestyle='--')\n",
    "    plt.title('Bollinger Bands (2025-07-30 20:58 KST)')\n",
    "    plt.xlabel('Date')\n",
    "    plt.ylabel('Price')\n",
    "    plt.legend()\n",
    "    plt.xticks(rotation=45)\n",
    "    plt.tight_layout()\n",
    "    plt.show()\n",
    "else:\n",
    "    print(\"Warning: 'Close', 'bb_high', or 'bb_low' columns are missing. Visualization skipped.\")"
   ]
  },
  {
   "cell_type": "code",
   "execution_count": null,
   "id": "5f0f2014",
   "metadata": {},
   "outputs": [
    {
     "name": "stderr",
     "output_type": "stream",
     "text": [
      "C:\\Users\\wsm\\AppData\\Local\\Temp\\ipykernel_24884\\2967819601.py:11: UserWarning: Creating legend with loc=\"best\" can be slow with large amounts of data.\n",
      "  plt.tight_layout()\n",
      "d:\\workspace\\hit_ml_dl\\venv\\Lib\\site-packages\\IPython\\core\\pylabtools.py:170: UserWarning: Creating legend with loc=\"best\" can be slow with large amounts of data.\n",
      "  fig.canvas.print_figure(bytes_io, **kw)\n"
     ]
    },
    {
     "data": {
      "image/png": "[encoded data removed]",
      "text/plain": [
       "<Figure size 1400x700 with 1 Axes>"
      ]
     },
     "metadata": {},
     "output_type": "display_data"
    }
   ],
   "source": [
    "# 2. Actual vs Predicted Returns\n",
    "plt.figure(figsize=(14, 7))\n",
    "plt.plot(val_data['datetime'], val_data['target'], label='Actual Returns', color='blue')\n",
    "plt.plot(val_data['datetime'], val_pred, label='Predicted Returns', color='orange', alpha=0.7)\n",
    "plt.title('Actual vs Predicted Returns (Validation Set)')\n",
    "plt.xlabel('Date')\n",
    "plt.ylabel('Returns')\n",
    "plt.ylim(-0.1, 0.1)\n",
    "plt.legend()\n",
    "plt.xticks(rotation=45)\n",
    "plt.tight_layout()\n",
    "plt.show()"
   ]
  },
  {
   "cell_type": "code",
   "execution_count": null,
   "id": "237651e9",
   "metadata": {},
   "outputs": [
    {
     "data": {
      "image/png": "[encoded data removed]",
      "text/plain": [
       "<Figure size 1000x600 with 1 Axes>"
      ]
     },
     "metadata": {},
     "output_type": "display_data"
    }
   ],
   "source": [
    "# 3. Feature Importance\n",
    "feature_importance = pd.DataFrame({'feature': features, 'importance': model.feature_importances_})\n",
    "feature_importance = feature_importance.sort_values('importance', ascending=False)\n",
    "plt.figure(figsize=(10, 6))\n",
    "sns.barplot(x='importance', y='feature', data=feature_importance)\n",
    "plt.title('Feature Importance (LightGBM)')\n",
    "plt.xlabel('Importance')\n",
    "plt.ylabel('Features')\n",
    "plt.show()"
   ]
  },
  {
   "cell_type": "code",
   "execution_count": null,
   "id": "e73d891a",
   "metadata": {},
   "outputs": [],
   "source": []
  }
 ],
 "metadata": {
  "kernelspec": {
   "display_name": "venv",
   "language": "python",
   "name": "python3"
  },
  "language_info": {
   "codemirror_mode": {
    "name": "ipython",
    "version": 3
   },
   "file_extension": ".py",
   "mimetype": "text/x-python",
   "name": "python",
   "nbconvert_exporter": "python",
   "pygments_lexer": "ipython3",
   "version": "3.13.5"
  }
 },
 "nbformat": 4,
 "nbformat_minor": 5
}
