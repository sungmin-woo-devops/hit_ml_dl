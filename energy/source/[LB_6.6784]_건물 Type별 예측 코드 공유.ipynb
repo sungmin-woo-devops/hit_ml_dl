{
 "cells": [
  {
   "cell_type": "code",
   "execution_count": 12,
   "metadata": {
    "execution": {
     "iopub.execute_input": "2025-07-19T16:14:58.599025Z",
     "iopub.status.busy": "2025-07-19T16:14:58.598693Z",
     "iopub.status.idle": "2025-07-19T16:15:15.045664Z",
     "shell.execute_reply": "2025-07-19T16:15:15.044594Z",
     "shell.execute_reply.started": "2025-07-19T16:14:58.599001Z"
    },
    "trusted": true
   },
   "outputs": [
    {
     "name": "stdout",
     "output_type": "stream",
     "text": [
      "Collecting pandas==2.0.3\n",
      "  Using cached pandas-2.0.3-cp311-cp311-manylinux_2_17_x86_64.manylinux2014_x86_64.whl.metadata (18 kB)\n",
      "Collecting numpy==1.25.2\n",
      "  Using cached numpy-1.25.2-cp311-cp311-manylinux_2_17_x86_64.manylinux2014_x86_64.whl.metadata (5.6 kB)\n",
      "Collecting scikit-learn==1.3.0\n",
      "  Using cached scikit_learn-1.3.0-cp311-cp311-manylinux_2_17_x86_64.manylinux2014_x86_64.whl.metadata (11 kB)\n",
      "Collecting matplotlib==3.4.3\n",
      "  Using cached matplotlib-3.4.3-cp311-cp311-linux_x86_64.whl\n",
      "Collecting seaborn==0.11.2\n",
      "  Using cached seaborn-0.11.2-py3-none-any.whl.metadata (2.3 kB)\n",
      "Collecting xgboost==1.6.1\n",
      "  Using cached xgboost-1.6.1-py3-none-manylinux2014_x86_64.whl.metadata (1.8 kB)\n",
      "Requirement already satisfied: python-dateutil>=2.8.2 in /usr/local/lib/python3.11/dist-packages (from pandas==2.0.3) (2.9.0.post0)\n",
      "Requirement already satisfied: pytz>=2020.1 in /usr/local/lib/python3.11/dist-packages (from pandas==2.0.3) (2025.2)\n",
      "Requirement already satisfied: tzdata>=2022.1 in /usr/local/lib/python3.11/dist-packages (from pandas==2.0.3) (2025.2)\n",
      "Requirement already satisfied: scipy>=1.5.0 in /usr/local/lib/python3.11/dist-packages (from scikit-learn==1.3.0) (1.15.3)\n",
      "Requirement already satisfied: joblib>=1.1.1 in /usr/local/lib/python3.11/dist-packages (from scikit-learn==1.3.0) (1.5.1)\n",
      "Requirement already satisfied: threadpoolctl>=2.0.0 in /usr/local/lib/python3.11/dist-packages (from scikit-learn==1.3.0) (3.6.0)\n",
      "Requirement already satisfied: cycler>=0.10 in /usr/local/lib/python3.11/dist-packages (from matplotlib==3.4.3) (0.12.1)\n",
      "Requirement already satisfied: kiwisolver>=1.0.1 in /usr/local/lib/python3.11/dist-packages (from matplotlib==3.4.3) (1.4.8)\n",
      "Requirement already satisfied: pillow>=6.2.0 in /usr/local/lib/python3.11/dist-packages (from matplotlib==3.4.3) (11.2.1)\n",
      "Requirement already satisfied: pyparsing>=2.2.1 in /usr/local/lib/python3.11/dist-packages (from matplotlib==3.4.3) (3.0.9)\n",
      "Requirement already satisfied: six>=1.5 in /usr/local/lib/python3.11/dist-packages (from python-dateutil>=2.8.2->pandas==2.0.3) (1.17.0)\n",
      "Using cached pandas-2.0.3-cp311-cp311-manylinux_2_17_x86_64.manylinux2014_x86_64.whl (12.2 MB)\n",
      "Using cached numpy-1.25.2-cp311-cp311-manylinux_2_17_x86_64.manylinux2014_x86_64.whl (18.2 MB)\n",
      "Using cached scikit_learn-1.3.0-cp311-cp311-manylinux_2_17_x86_64.manylinux2014_x86_64.whl (10.9 MB)\n",
      "Using cached seaborn-0.11.2-py3-none-any.whl (292 kB)\n",
      "Using cached xgboost-1.6.1-py3-none-manylinux2014_x86_64.whl (192.9 MB)\n",
      "Installing collected packages: numpy, pandas, matplotlib, xgboost, seaborn, scikit-learn\n",
      "  Attempting uninstall: numpy\n",
      "    Found existing installation: numpy 1.26.4\n",
      "    Uninstalling numpy-1.26.4:\n",
      "      Successfully uninstalled numpy-1.26.4\n",
      "  Attempting uninstall: pandas\n",
      "    Found existing installation: pandas 2.2.3\n",
      "    Uninstalling pandas-2.2.3:\n",
      "      Successfully uninstalled pandas-2.2.3\n",
      "^C\n",
      "\u001b[31mERROR: Operation cancelled by user\u001b[0m\u001b[31m\n",
      "\u001b[0m"
     ]
    }
   ],
   "source": [
    "!pip install pandas==2.0.3 numpy==1.25.2 scikit-learn==1.3.0 matplotlib==3.4.3 seaborn==0.11.2 xgboost==1.6.1"
   ]
  },
  {
   "cell_type": "code",
   "execution_count": 13,
   "metadata": {
    "execution": {
     "iopub.execute_input": "2025-07-19T16:15:15.047836Z",
     "iopub.status.busy": "2025-07-19T16:15:15.047301Z",
     "iopub.status.idle": "2025-07-19T16:15:15.054775Z",
     "shell.execute_reply": "2025-07-19T16:15:15.053895Z",
     "shell.execute_reply.started": "2025-07-19T16:15:15.047790Z"
    },
    "trusted": true
   },
   "outputs": [],
   "source": [
    "import pandas as pd\n",
    "import seaborn as sns\n",
    "import numpy as np\n",
    "import matplotlib.pyplot as plt\n",
    "import matplotlib\n",
    "import sklearn\n",
    "import xgboost\n",
    "from xgboost import XGBRegressor\n",
    "from sklearn.model_selection import KFold\n",
    "import random as rn\n",
    "RANDOM_SEED = 2025\n",
    "np.random.seed(RANDOM_SEED)\n",
    "rn.seed(RANDOM_SEED)\n",
    "from datetime import datetime\n",
    "import warnings\n",
    "\n",
    "warnings.filterwarnings('ignore')\n",
    "pd.set_option('display.max_columns', None)"
   ]
  },
  {
   "cell_type": "code",
   "execution_count": 14,
   "metadata": {
    "execution": {
     "iopub.execute_input": "2025-07-19T16:15:15.056118Z",
     "iopub.status.busy": "2025-07-19T16:15:15.055812Z",
     "iopub.status.idle": "2025-07-19T16:15:15.565113Z",
     "shell.execute_reply": "2025-07-19T16:15:15.564227Z",
     "shell.execute_reply.started": "2025-07-19T16:15:15.056089Z"
    },
    "trusted": true
   },
   "outputs": [],
   "source": [
    "def smape(gt, preds):\n",
    "    gt= np.array(gt)\n",
    "    preds = np.array(preds)\n",
    "    v = 2 * abs(preds - gt) / (abs(preds) + abs(gt))\n",
    "    score = np.mean(v) * 100\n",
    "    return score\n",
    "    \n",
    "def weighted_mse(alpha = 1):\n",
    "    def weighted_mse_fixed(label, pred):\n",
    "        residual = (label - pred).astype(\"float\")\n",
    "        grad = np.where(residual>0, -2*alpha*residual, -2*residual)\n",
    "        hess = np.where(residual>0, 2*alpha, 2.0)\n",
    "        return grad, hess\n",
    "    return weighted_mse_fixed\n",
    "\n",
    "def custom_smape(preds, dtrain):\n",
    "    labels = dtrain.get_label()\n",
    "    return 'custom_smape', np.mean(2 * abs(preds - labels) / (abs(preds) + abs(labels))) * 100"
   ]
  },
  {
   "cell_type": "code",
   "execution_count": 15,
   "metadata": {
    "execution": {
     "iopub.execute_input": "2025-07-19T16:15:15.567554Z",
     "iopub.status.busy": "2025-07-19T16:15:15.567226Z",
     "iopub.status.idle": "2025-07-19T16:15:15.871841Z",
     "shell.execute_reply": "2025-07-19T16:15:15.870998Z",
     "shell.execute_reply.started": "2025-07-19T16:15:15.567533Z"
    },
    "trusted": true
   },
   "outputs": [],
   "source": [
    "train = pd.read_csv('/kaggle/input/dataset-ee/train.csv')\n",
    "test = pd.read_csv('/kaggle/input/dataset-ee/test.csv')\n",
    "building_info = pd.read_csv('/kaggle/input/dataset-ee/building_info.csv')"
   ]
  },
  {
   "cell_type": "code",
   "execution_count": 16,
   "metadata": {
    "execution": {
     "iopub.execute_input": "2025-07-19T16:15:15.873082Z",
     "iopub.status.busy": "2025-07-19T16:15:15.872814Z",
     "iopub.status.idle": "2025-07-19T16:15:15.970782Z",
     "shell.execute_reply": "2025-07-19T16:15:15.969888Z",
     "shell.execute_reply.started": "2025-07-19T16:15:15.873055Z"
    },
    "trusted": true
   },
   "outputs": [],
   "source": [
    "train = train.rename(columns={\n",
    "    '건물번호': 'building_number',\n",
    "    '일시': 'date_time',\n",
    "    '기온(°C)': 'temperature',\n",
    "    '강수량(mm)': 'rainfall',\n",
    "    '풍속(m/s)': 'windspeed',\n",
    "    '습도(%)': 'humidity',\n",
    "    '일조(hr)': 'sunshine',\n",
    "    '일사(MJ/m2)': 'solar_radiation',\n",
    "    '전력소비량(kWh)': 'power_consumption'\n",
    "})\n",
    "train.drop('num_date_time', axis = 1, inplace=True)\n",
    "\n",
    "test = test.rename(columns={\n",
    "    '건물번호': 'building_number',\n",
    "    '일시': 'date_time',\n",
    "    '기온(°C)': 'temperature',\n",
    "    '강수량(mm)': 'rainfall',\n",
    "    '풍속(m/s)': 'windspeed',\n",
    "    '습도(%)': 'humidity',\n",
    "    '일조(hr)': 'sunshine',\n",
    "    '일사(MJ/m2)': 'solar_radiation',\n",
    "    '전력소비량(kWh)': 'power_consumption'\n",
    "})\n",
    "test.drop('num_date_time', axis = 1, inplace=True)\n",
    "\n",
    "building_info = building_info.rename(columns={\n",
    "    '건물번호': 'building_number',\n",
    "    '건물유형': 'building_type',\n",
    "    '연면적(m2)': 'total_area',\n",
    "    '냉방면적(m2)': 'cooling_area',\n",
    "    '태양광용량(kW)': 'solar_power_capacity',\n",
    "    'ESS저장용량(kWh)': 'ess_capacity',\n",
    "    'PCS용량(kW)': 'pcs_capacity'\n",
    "})\n",
    "\n",
    "translation_dict = {\n",
    "    '건물기타': 'Other Buildings',\n",
    "    '공공': 'Public',\n",
    "    '학교': 'University',\n",
    "    '백화점': 'Department Store',\n",
    "    '병원': 'Hospital',\n",
    "    '상용': 'Commercial',\n",
    "    '아파트': 'Apartment',\n",
    "    '연구소': 'Research Institute',\n",
    "    'IDC(전화국)': 'IDC',\n",
    "    '호텔': 'Hotel'\n",
    "}\n",
    "\n",
    "building_info['building_type'] = building_info['building_type'].replace(translation_dict)\n",
    "\n",
    "building_info['solar_power_utility'] = np.where(building_info.solar_power_capacity !='-',1,0)\n",
    "building_info['ess_utility'] = np.where(building_info.ess_capacity !='-',1,0)\n",
    "\n",
    "train = pd.merge(train, building_info, on='building_number', how='left')\n",
    "test = pd.merge(test, building_info, on='building_number', how='left')"
   ]
  },
  {
   "cell_type": "code",
   "execution_count": 17,
   "metadata": {
    "execution": {
     "iopub.execute_input": "2025-07-19T16:15:15.972063Z",
     "iopub.status.busy": "2025-07-19T16:15:15.971739Z",
     "iopub.status.idle": "2025-07-19T16:15:16.048575Z",
     "shell.execute_reply": "2025-07-19T16:15:16.047667Z",
     "shell.execute_reply.started": "2025-07-19T16:15:15.972035Z"
    },
    "trusted": true
   },
   "outputs": [],
   "source": [
    "train['date_time'] = pd.to_datetime(train['date_time'], format='%Y%m%d %H')\n",
    "\n",
    "# date time feature 생성\n",
    "train['hour'] = train['date_time'].dt.hour\n",
    "train['day'] = train['date_time'].dt.day\n",
    "train['month'] = train['date_time'].dt.month\n",
    "train['day_of_week'] = train['date_time'].dt.dayofweek #요일\n",
    "\n",
    "\n",
    "test['date_time'] = pd.to_datetime(test['date_time'], format='%Y%m%d %H')\n",
    "\n",
    "# date time feature 생성\n",
    "test['hour'] = test['date_time'].dt.hour\n",
    "test['day'] = test['date_time'].dt.day\n",
    "test['month'] = test['date_time'].dt.month\n",
    "test['day_of_week'] = test['date_time'].dt.dayofweek #요일"
   ]
  },
  {
   "cell_type": "code",
   "execution_count": null,
   "metadata": {
    "execution": {
     "execution_failed": "2025-07-19T16:15:19.575Z",
     "iopub.execute_input": "2025-07-19T16:15:16.049757Z",
     "iopub.status.busy": "2025-07-19T16:15:16.049494Z"
    },
    "trusted": true
   },
   "outputs": [],
   "source": [
    "def calculate_day_values(dataframe, target_column, output_column, aggregation_func):\n",
    "    result_dict = {}\n",
    "\n",
    "    grouped_temp = dataframe.groupby(['building_number', 'month', 'day'])[target_column].agg(aggregation_func)\n",
    "\n",
    "    for (building, month, day), value in grouped_temp.items():\n",
    "        result_dict.setdefault(building, {}).setdefault(month, {})[day] = value\n",
    "\n",
    "    dataframe[output_column] = [\n",
    "        result_dict.get(row['building_number'], {}).get(row['month'], {}).get(row['day'], None)\n",
    "        for _, row in dataframe.iterrows()\n",
    "    ]\n",
    "\n",
    "    \n",
    "train['day_max_temperature'] = 0.0\n",
    "train['day_mean_temperature'] = 0.0\n",
    "\n",
    "calculate_day_values(train, 'temperature', 'day_max_temperature', 'max')\n",
    "calculate_day_values(train, 'temperature', 'day_mean_temperature', 'mean')\n",
    "calculate_day_values(train, 'temperature', 'day_min_temperature', 'min')\n",
    "\n",
    "train['day_temperature_range'] = train['day_max_temperature'] - train['day_min_temperature']\n",
    "\n",
    "calculate_day_values(test, 'temperature', 'day_max_temperature', 'max')\n",
    "calculate_day_values(test, 'temperature', 'day_mean_temperature', 'mean')\n",
    "calculate_day_values(test, 'temperature', 'day_min_temperature', 'min')\n",
    "\n",
    "test['day_temperature_range'] = test['day_max_temperature'] - test['day_min_temperature']"
   ]
  },
  {
   "cell_type": "code",
   "execution_count": null,
   "metadata": {
    "execution": {
     "execution_failed": "2025-07-19T16:15:19.575Z"
    },
    "trusted": true
   },
   "outputs": [],
   "source": [
    "outlier_idx = train.index[train['power_consumption'] == 0].tolist()\n",
    "print(\"제거할 행 개수:\", len(outlier_idx))\n",
    "print(\"인덱스 예시:\", outlier_idx[:10])\n",
    "\n",
    "# 2) 해당 인덱스들 드롭\n",
    "train.drop(index=outlier_idx, inplace=True)\n",
    "\n",
    "# 3) 드롭 후 확인\n",
    "print(\"남은 행 개수:\", train.shape[0])"
   ]
  },
  {
   "cell_type": "code",
   "execution_count": null,
   "metadata": {
    "execution": {
     "execution_failed": "2025-07-19T16:15:19.575Z"
    },
    "trusted": true
   },
   "outputs": [],
   "source": [
    "holi_weekday = ['2024-06-06', '2024-08-15']\n",
    "\n",
    "train['holiday'] = np.where((train.day_of_week >= 5) | (train.date_time.dt.strftime('%Y-%m-%d').isin(holi_weekday)), 1, 0)\n",
    "test['holiday'] = np.where((test.day_of_week >= 5) | (test.date_time.dt.strftime('%Y-%m-%d').isin(holi_weekday)), 1, 0)"
   ]
  },
  {
   "cell_type": "code",
   "execution_count": null,
   "metadata": {
    "execution": {
     "execution_failed": "2025-07-19T16:15:19.575Z"
    },
    "trusted": true
   },
   "outputs": [],
   "source": [
    "#시간\n",
    "train['sin_hour'] = np.sin(2 * np.pi * train['hour']/23.0)\n",
    "train['cos_hour'] = np.cos(2 * np.pi * train['hour']/23.0)\n",
    "test['sin_hour'] = np.sin(2 * np.pi * test['hour']/23.0)\n",
    "test['cos_hour'] = np.cos(2 * np.pi * test['hour']/23.0)\n",
    "\n",
    "#날짜\n",
    "train['sin_date'] = -np.sin(2 * np.pi * (train['month']+train['day']/31)/12)\n",
    "train['cos_date'] = -np.cos(2 * np.pi * (train['month']+train['day']/31)/12)\n",
    "test['sin_date'] = -np.sin(2 * np.pi * (test['month']+test['day']/31)/12)\n",
    "test['cos_date'] = -np.cos(2 * np.pi * (test['month']+test['day']/31)/12)\n",
    "\n",
    "#월\n",
    "train['sin_month'] = -np.sin(2 * np.pi * train['month']/12.0)\n",
    "train['cos_month'] = -np.cos(2 * np.pi * train['month']/12.0)\n",
    "test['sin_month'] = -np.sin(2 * np.pi * test['month']/12.0)\n",
    "test['cos_month'] = -np.cos(2 * np.pi * test['month']/12.0)\n",
    "\n",
    "#요일\n",
    "train['sin_dayofweek'] = -np.sin(2 * np.pi * (train['day_of_week']+1)/7.0)\n",
    "train['cos_dayofweek'] = -np.cos(2 * np.pi * (train['day_of_week']+1)/7.0)\n",
    "test['sin_dayofweek'] = -np.sin(2 * np.pi * (test['day_of_week']+1)/7.0)\n",
    "test['cos_dayofweek'] = -np.cos(2 * np.pi * (test['day_of_week']+1)/7.0)"
   ]
  },
  {
   "cell_type": "code",
   "execution_count": null,
   "metadata": {
    "execution": {
     "execution_failed": "2025-07-19T16:15:19.575Z"
    },
    "trusted": true
   },
   "outputs": [],
   "source": [
    "def CDH(xs):\n",
    "    cumsum = np.cumsum(xs - 26)\n",
    "    return np.concatenate((cumsum[:11], cumsum[11:] - cumsum[:-11]))\n",
    "\n",
    "def calculate_and_add_cdh(dataframe):\n",
    "    cdhs = []\n",
    "    for i in range(1, 101):\n",
    "        temp = dataframe[dataframe['building_number'] == i]['temperature'].values\n",
    "        cdh = CDH(temp)\n",
    "        cdhs.append(cdh)\n",
    "    return np.concatenate(cdhs)\n",
    "\n",
    "train['CDH'] = calculate_and_add_cdh(train)\n",
    "test['CDH'] = calculate_and_add_cdh(test)\n",
    "train['THI'] = 9/5*train['temperature'] - 0.55*(1-train['humidity']/100)*(9/5*train['humidity']-26)+32\n",
    "test['THI'] = 9/5*test['temperature'] - 0.55*(1-test['humidity']/100)*(9/5*test['humidity']-26)+32\n",
    "train['WCT'] = 13.12 + 0.6125*train['temperature'] - 11.37*(train['windspeed']**\n",
    "                                                            0.16) + 0.3965*(train['windspeed']**0.16)*train['temperature']\n",
    "test['WCT'] = 13.12 + 0.6125*test['temperature'] - 11.37*(test['windspeed']**\n",
    "                                                            0.16) + 0.3965*(test['windspeed']**0.16)*test['temperature']"
   ]
  },
  {
   "cell_type": "code",
   "execution_count": null,
   "metadata": {
    "execution": {
     "execution_failed": "2025-07-19T16:15:19.575Z"
    },
    "trusted": true
   },
   "outputs": [],
   "source": [
    "# Calculate 'day_hour_mean'\n",
    "power_mean = pd.pivot_table(train, values='power_consumption', index=['building_number', 'hour', 'day_of_week'], aggfunc=np.mean).reset_index()\n",
    "power_mean.columns = ['building_number', 'hour', 'day_of_week', 'day_hour_mean']\n",
    "\n",
    "# Calculate 'day_hour_std'\n",
    "power_std = pd.pivot_table(train, values='power_consumption', index=['building_number', 'hour', 'day_of_week'], aggfunc=np.std).reset_index()\n",
    "power_std.columns = ['building_number', 'hour', 'day_of_week', 'day_hour_std']\n",
    "\n",
    "# Calculate 'hour_mean'\n",
    "power_hour_mean = pd.pivot_table(train, values='power_consumption', index=['building_number', 'hour'], aggfunc=np.mean).reset_index()\n",
    "power_hour_mean.columns = ['building_number', 'hour', 'hour_mean']\n",
    "\n",
    "# Calculate 'hour_std'\n",
    "power_hour_std = pd.pivot_table(train, values='power_consumption', index=['building_number', 'hour'], aggfunc=np.std).reset_index()\n",
    "power_hour_std.columns = ['building_number', 'hour', 'hour_std']\n",
    "\n",
    "# Merge calculated features to 'train' and 'test' dataframes\n",
    "train = train.merge(power_mean, on=['building_number', 'hour', 'day_of_week'], how='left')\n",
    "test = test.merge(power_mean, on=['building_number', 'hour', 'day_of_week'], how='left')\n",
    "\n",
    "train = train.merge(power_std, on=['building_number', 'hour', 'day_of_week'], how='left')\n",
    "test = test.merge(power_std, on=['building_number', 'hour', 'day_of_week'], how='left')\n",
    "\n",
    "train = train.merge(power_hour_mean, on=['building_number', 'hour'], how='left')\n",
    "test = test.merge(power_hour_mean, on=['building_number', 'hour'], how='left')\n",
    "\n",
    "train = train.merge(power_hour_std, on=['building_number', 'hour'], how='left')\n",
    "test = test.merge(power_hour_std, on=['building_number', 'hour'], how='left')\n",
    "\n",
    "train = train.reset_index(drop=True)"
   ]
  },
  {
   "cell_type": "code",
   "execution_count": null,
   "metadata": {
    "execution": {
     "execution_failed": "2025-07-19T16:15:19.575Z"
    },
    "trusted": true
   },
   "outputs": [],
   "source": [
    "X = train.drop(['solar_power_capacity', 'ess_capacity', 'pcs_capacity',\n",
    "                'power_consumption','rainfall', 'sunshine', 'solar_radiation',\n",
    "                'hour','day','month','day_of_week','date_time'],axis =1 )\n",
    "\n",
    "Y = train[['building_type','power_consumption']]\n",
    "\n",
    "test_X = test.drop(['solar_power_capacity', 'ess_capacity', 'pcs_capacity','rainfall',\n",
    "                   'hour','month','day_of_week','day','date_time'], axis=1)"
   ]
  },
  {
   "cell_type": "code",
   "execution_count": null,
   "metadata": {
    "execution": {
     "execution_failed": "2025-07-19T16:15:19.575Z"
    },
    "trusted": true
   },
   "outputs": [],
   "source": [
    "type_list = []\n",
    "for value in train.building_type.values:\n",
    "    if value not in type_list:\n",
    "        type_list.append(value)"
   ]
  },
  {
   "cell_type": "code",
   "execution_count": null,
   "metadata": {
    "execution": {
     "execution_failed": "2025-07-19T16:15:19.575Z"
    },
    "trusted": true
   },
   "outputs": [],
   "source": [
    "RANDOM_SEED = 42\n",
    "KFOLD_SPLITS = 7\n",
    "\n",
    "\n",
    "\n",
    "type_list = X[\"building_type\"].unique()\n",
    "\n",
    "# 결과 담을 DF\n",
    "answer_df = pd.DataFrame(index=test_X.index, columns=[\"answer\"], dtype=float)\n",
    "pred_df   = pd.DataFrame(index=X.index,       columns=[\"pred\"],   dtype=float)\n",
    "\n",
    "kf = KFold(n_splits=KFOLD_SPLITS, shuffle=True, random_state=RANDOM_SEED)\n",
    "\n",
    "for btype in type_list:\n",
    "    x  = X  [X['building_type'] == btype].copy()\n",
    "    y  = Y  [Y['building_type'] == btype]['power_consumption'].copy()\n",
    "    xt = test_X[test_X['building_type'] == btype].copy()\n",
    "\n",
    "    x  = pd.get_dummies(x,  columns=[\"building_number\"], drop_first=False)\n",
    "    xt = pd.get_dummies(xt, columns=[\"building_number\"], drop_first=False)\n",
    "\n",
    "    xt = xt.reindex(columns=x.columns, fill_value=0)\n",
    "\n",
    "    drop_cols = [\"building_type\"]\n",
    "    x  = x .drop(columns=drop_cols)\n",
    "    xt = xt.drop(columns=drop_cols)\n",
    "\n",
    "    preds_valid = pd.Series(index=y.index, dtype=float)\n",
    "    preds_test  = []\n",
    "\n",
    "    x_values = x.values\n",
    "    y_values = y.values\n",
    "\n",
    "    fold_scores = []\n",
    "    for fold, (tr_idx, va_idx) in enumerate(kf.split(x_values), 1):\n",
    "        X_tr, X_va = x_values[tr_idx], x_values[va_idx]\n",
    "        y_tr, y_va = y_values[tr_idx], y_values[va_idx]\n",
    "\n",
    "        y_tr_log = np.log(y_tr)\n",
    "        y_va_log = np.log(y_va)\n",
    "\n",
    "        model = XGBRegressor(\n",
    "            learning_rate     = 0.05,\n",
    "            n_estimators      = 5000,\n",
    "            max_depth         = 10,\n",
    "            subsample         = 0.7,\n",
    "            colsample_bytree  = 0.5,\n",
    "            min_child_weight  = 3,\n",
    "            random_state      = RANDOM_SEED,\n",
    "            objective         = weighted_mse(3),\n",
    "            tree_method       = \"gpu_hist\",\n",
    "            gpu_id            = 0,\n",
    "            early_stopping_rounds = 100,\n",
    "        )\n",
    "\n",
    "        model.fit(\n",
    "            X_tr, y_tr_log,\n",
    "            eval_set=[(X_va, y_va_log)],\n",
    "            eval_metric=custom_smape,\n",
    "            verbose=False,\n",
    "        )\n",
    "\n",
    "        va_pred = np.exp(model.predict(X_va))\n",
    "        preds_valid.iloc[va_idx] = va_pred\n",
    "\n",
    "        fold_smape = smape(y_va, va_pred)\n",
    "        fold_scores.append(fold_smape)\n",
    "\n",
    "        # 테스트 예측\n",
    "        preds_test.append(np.exp(model.predict(xt.values)))\n",
    "\n",
    "        if fold == KFOLD_SPLITS:          # 마지막 fold 한 번만 시각화\n",
    "            sorted_idx = model.feature_importances_.argsort()\n",
    "            plt.figure(figsize=(8, 15))\n",
    "            plt.barh(x.columns[sorted_idx], model.feature_importances_[sorted_idx])\n",
    "            plt.xlabel(f\"{btype} XGB Feature Importance\")\n",
    "            plt.show()\n",
    "\n",
    "    # 검증 예측 저장\n",
    "    pred_df.loc[preds_valid.index, \"pred\"] = preds_valid\n",
    "\n",
    "    # 테스트 예측(앙상블 평균) 저장\n",
    "    answer_df.loc[xt.index, \"answer\"] = np.mean(preds_test, axis=0)\n",
    "\n",
    "    print(f\"Building type = {btype} : XGB SMAPE = {np.mean(fold_scores):.4f}\")\n",
    "\n",
    "total_smape = smape(\n",
    "    Y.sort_index()[\"power_consumption\"].values,\n",
    "    pred_df.sort_index()[\"pred\"].values\n",
    ")\n",
    "print(f\"Total SMAPE = {total_smape:.4f}\")"
   ]
  },
  {
   "cell_type": "code",
   "execution_count": null,
   "metadata": {
    "execution": {
     "execution_failed": "2025-07-19T16:15:19.576Z"
    },
    "trusted": true
   },
   "outputs": [],
   "source": [
    "submit = pd.read_csv(\"/kaggle/input/dataset-ee/sample_submission.csv\")\n",
    "submit[\"answer\"] = answer_df.loc[submit.index, \"answer\"]\n",
    "submit.to_csv(\"/kaggle/working/private_재현_3.csv\", index=False)\n",
    "print(\"Saved → private_재현_3.csv\")"
   ]
  }
 ],
 "metadata": {
  "kaggle": {
   "accelerator": "none",
   "dataSources": [
    {
     "datasetId": 7900655,
     "sourceId": 12516640,
     "sourceType": "datasetVersion"
    }
   ],
   "dockerImageVersionId": 31090,
   "isGpuEnabled": false,
   "isInternetEnabled": true,
   "language": "python",
   "sourceType": "notebook"
  },
  "kernelspec": {
   "display_name": "Python 3",
   "language": "python",
   "name": "python3"
  },
  "language_info": {
   "codemirror_mode": {
    "name": "ipython",
    "version": 3
   },
   "file_extension": ".py",
   "mimetype": "text/x-python",
   "name": "python",
   "nbconvert_exporter": "python",
   "pygments_lexer": "ipython3",
   "version": "3.11.13"
  }
 },
 "nbformat": 4,
 "nbformat_minor": 4
}
