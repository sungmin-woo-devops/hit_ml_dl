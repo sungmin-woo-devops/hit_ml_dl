{
 "cells": [
  {
   "cell_type": "code",
   "execution_count": 46,
   "id": "f897654a",
   "metadata": {},
   "outputs": [
    {
     "name": "stdout",
     "output_type": "stream",
     "text": [
      "d:\\workspace\\hit_ml_dl\\energy\n",
      "['data', 'sol01.ipynb', 'source']\n"
     ]
    }
   ],
   "source": [
    "import os\n",
    "print(os.getcwd())\n",
    "print(os.listdir())"
   ]
  },
  {
   "cell_type": "code",
   "execution_count": 47,
   "id": "28cdbff1",
   "metadata": {},
   "outputs": [],
   "source": [
    "import pandas as pd\n",
    "import numpy as np\n",
    "from xgboost import XGBRegressor\n",
    "from sklearn.model_selection import KFold\n",
    "from datetime import datetime\n",
    "import warnings"
   ]
  },
  {
   "cell_type": "code",
   "execution_count": 48,
   "id": "a3e26924",
   "metadata": {},
   "outputs": [],
   "source": [
    "warnings.filterwarnings('ignore')\n",
    "pd.set_option('display.max_columns', None)"
   ]
  },
  {
   "cell_type": "code",
   "execution_count": 49,
   "id": "509cf7d4",
   "metadata": {},
   "outputs": [],
   "source": [
    "# SMAPE 계산 함수\n",
    "def smape(gt, preds):\n",
    "    gt = np.array(gt)\n",
    "    preds = np.array(preds)\n",
    "    v = 2 * abs(preds - gt) / (abs(preds) + abs(gt))\n",
    "    score = np.mean(v) * 100\n",
    "    return score"
   ]
  },
  {
   "cell_type": "code",
   "execution_count": 50,
   "id": "b7505717",
   "metadata": {},
   "outputs": [],
   "source": [
    "# 커스텀 손실 함수\n",
    "def weighted_mse(alpha=1):\n",
    "    def weighted_mse_fixed(label, pred):\n",
    "        residual = (label - pred).astype(\"float64\")\n",
    "        grad = np.where(residual > 0, -2 * alpha * residual, -2 * residual)\n",
    "        hess = np.where(residual > 0, 2 * alpha, 2)\n",
    "        return grad, hess\n",
    "    return weighted_mse_fixed"
   ]
  },
  {
   "cell_type": "code",
   "execution_count": 51,
   "id": "8f163c6c",
   "metadata": {},
   "outputs": [],
   "source": [
    "# 데이터 로드\n",
    "train = pd.read_csv(\"./data/train.csv\", encoding='utf-8')\n",
    "test = pd.read_csv(\"./data/test.csv\", encoding='utf-8')\n",
    "building_info = pd.read_csv(\"./data/building_info.csv\", encoding='utf-8')\n",
    "sample_submission = pd.read_csv(\"./data/sample_submission.csv\", encoding='utf-8')"
   ]
  },
  {
   "cell_type": "code",
   "execution_count": 52,
   "id": "bdb31ed8",
   "metadata": {},
   "outputs": [],
   "source": [
    "# 열 이름 번역\n",
    "train = train.rename(columns={\n",
    "    '건물번호': 'building_number', '일시': 'date_time', '기온(°C)': 'temperature',\n",
    "    '강수량(mm)': 'rainfall', '풍속(m/s)': 'windspeed', '습도(%)': 'humidity',\n",
    "    '일조(hr)': 'sunshine', '일사(MJ/m2)': 'solar_radiation', '전력소비량(kWh)': 'power_consumption'\n",
    "})\n",
    "test = test.rename(columns={\n",
    "    '건물번호': 'building_number', '일시': 'date_time', '기온(°C)': 'temperature',\n",
    "    '강수량(mm)': 'rainfall', '풍속(m/s)': 'windspeed', '습도(%)': 'humidity'\n",
    "})\n",
    "building_info = building_info.rename(columns={\n",
    "    '건물번호': 'building_number', '건물유형': 'building_type', '연면적(m2)': 'total_area',\n",
    "    '냉방면적(m2)': 'cooling_area', '태양광용량(kW)': 'solar_power_capacity',\n",
    "    'ESS저장용량(kWh)': 'ess_capacity', 'PCS용량(kW)': 'pcs_capacity'\n",
    "})"
   ]
  },
  {
   "cell_type": "code",
   "execution_count": 53,
   "id": "28153d1f",
   "metadata": {},
   "outputs": [],
   "source": [
    "# 건물 유형 번역\n",
    "translation_dict = {\n",
    "    '건물기타': 'Other Buildings', '공공': 'Public', '학교': 'University', '백화점': 'Department Store',\n",
    "    '병원': 'Hospital', '상용': 'Commercial', '아파트': 'Apartment', '연구소': 'Research Institute',\n",
    "    'IDC(전화국)': 'IDC', '호텔': 'Hotel'\n",
    "}\n",
    "building_info['building_type'] = building_info['building_type'].replace(translation_dict)"
   ]
  },
  {
   "cell_type": "code",
   "execution_count": 54,
   "id": "056163f9",
   "metadata": {},
   "outputs": [],
   "source": [
    "# 데이터 병합\n",
    "train = pd.merge(train, building_info, on='building_number', how='left')\n",
    "test = pd.merge(test, building_info, on='building_number', how='left')"
   ]
  },
  {
   "cell_type": "code",
   "execution_count": 55,
   "id": "846141da",
   "metadata": {},
   "outputs": [],
   "source": [
    "# 날짜 및 시간 처리\n",
    "train['date_time'] = pd.to_datetime(train['date_time'], format='%Y%m%d %H')\n",
    "train['hour'] = train['date_time'].dt.hour\n",
    "train['day'] = train['date_time'].dt.day\n",
    "train['month'] = train['date_time'].dt.month\n",
    "train['day_of_week'] = train['date_time'].dt.dayofweek\n",
    "\n",
    "test['date_time'] = pd.to_datetime(test['date_time'], format='%Y%m%d %H')\n",
    "test['hour'] = test['date_time'].dt.hour\n",
    "test['day'] = test['date_time'].dt.day\n",
    "test['month'] = test['date_time'].dt.month\n",
    "test['day_of_week'] = test['date_time'].dt.dayofweek"
   ]
  },
  {
   "cell_type": "code",
   "execution_count": 56,
   "id": "c1c95b09",
   "metadata": {},
   "outputs": [],
   "source": [
    "# 이상치 제거\n",
    "train = train[train['power_consumption'] > 0]"
   ]
  },
  {
   "cell_type": "code",
   "execution_count": 57,
   "id": "c5a64b84",
   "metadata": {},
   "outputs": [],
   "source": [
    "# 휴일 여부\n",
    "holi_weekday = ['2024-06-06', '2024-08-15']\n",
    "train['holiday'] = np.where((train.day_of_week >= 5) | (train.date_time.dt.strftime('%Y-%m-%d').isin(holi_weekday)), 1, 0)\n",
    "test['holiday'] = np.where((test.day_of_week >= 5) | (test.date_time.dt.strftime('%Y-%m-%d').isin(holi_weekday)), 1, 0)"
   ]
  },
  {
   "cell_type": "code",
   "execution_count": 58,
   "id": "811e1ed4",
   "metadata": {},
   "outputs": [],
   "source": [
    "# 주기성 피처\n",
    "train['sin_hour'] = np.sin(2 * np.pi * train['hour'] / 23.0)\n",
    "train['cos_hour'] = np.cos(2 * np.pi * train['hour'] / 23.0)\n",
    "test['sin_hour'] = np.sin(2 * np.pi * test['hour'] / 23.0)\n",
    "test['cos_hour'] = np.cos(2 * np.pi * test['hour'] / 23.0)"
   ]
  },
  {
   "cell_type": "code",
   "execution_count": 59,
   "id": "7b9d2b92",
   "metadata": {},
   "outputs": [],
   "source": [
    "# CDH, THI, WCT 계산\n",
    "def calculate_cdh(dataframe):\n",
    "    cdhs = []\n",
    "    for i in range(1, 101):\n",
    "        temp = dataframe[dataframe['building_number'] == i]['temperature'].values\n",
    "        cdh = np.cumsum(temp - 26)\n",
    "        cdhs.append(cdh)\n",
    "    return np.concatenate(cdhs)\n",
    "\n",
    "train['CDH'] = calculate_cdh(train)\n",
    "test['CDH'] = calculate_cdh(test)\n",
    "train['THI'] = 9/5 * train['temperature'] - 0.55 * (1 - train['humidity']/100) * train['humidity'] + 32\n",
    "test['THI'] = 9/5 * test['temperature'] - 0.55 * (1 - test['humidity']/100) * test['humidity'] + 32\n",
    "train['WCT'] = 13.12 + 0.6125 * train['temperature'] - 11.37 * (train['windspeed'] ** 0.16) + 0.3965 * (train['windspeed'] ** 0.16) * train['temperature']\n",
    "test['WCT'] = 13.12 + 0.6125 * test['temperature'] - 11.37 * (test['windspeed'] ** 0.16) + 0.3965 * (test['windspeed'] ** 0.16) * test['temperature']"
   ]
  },
  {
   "cell_type": "code",
   "execution_count": 60,
   "id": "e5fecc28",
   "metadata": {},
   "outputs": [],
   "source": [
    "# 통계 피처\n",
    "power_mean = pd.pivot_table(train, values='power_consumption', index=['building_number', 'hour'], aggfunc=np.mean).reset_index()\n",
    "power_mean.columns = ['building_number', 'hour', 'hour_mean']\n",
    "train = train.merge(power_mean, on=['building_number', 'hour'], how='left')\n",
    "test = test.merge(power_mean, on=['building_number', 'hour'], how='left')"
   ]
  },
  {
   "cell_type": "code",
   "execution_count": 61,
   "id": "a29067c4",
   "metadata": {},
   "outputs": [],
   "source": [
    "# 학습 데이터 준비\n",
    "X = train.drop(['power_consumption', 'date_time', 'building_type', 'rainfall', 'sunshine', 'solar_radiation'], axis=1)\n",
    "y = train['power_consumption']\n",
    "# Remove the problematic line\n",
    "# Continue with the rest of your code"
   ]
  },
  {
   "cell_type": "code",
   "execution_count": 63,
   "id": "eeb599e9",
   "metadata": {},
   "outputs": [
    {
     "ename": "KeyError",
     "evalue": "\"['sunshine', 'solar_radiation'] not found in axis\"",
     "output_type": "error",
     "traceback": [
      "\u001b[31m---------------------------------------------------------------------------\u001b[39m",
      "\u001b[31mKeyError\u001b[39m                                  Traceback (most recent call last)",
      "\u001b[36mCell\u001b[39m\u001b[36m \u001b[39m\u001b[32mIn[63]\u001b[39m\u001b[32m, line 12\u001b[39m\n\u001b[32m     10\u001b[39m X_type = train_type.drop([\u001b[33m'\u001b[39m\u001b[33mpower_consumption\u001b[39m\u001b[33m'\u001b[39m, \u001b[33m'\u001b[39m\u001b[33mdate_time\u001b[39m\u001b[33m'\u001b[39m, \u001b[33m'\u001b[39m\u001b[33mbuilding_type\u001b[39m\u001b[33m'\u001b[39m, \u001b[33m'\u001b[39m\u001b[33mrainfall\u001b[39m\u001b[33m'\u001b[39m, \u001b[33m'\u001b[39m\u001b[33msunshine\u001b[39m\u001b[33m'\u001b[39m, \u001b[33m'\u001b[39m\u001b[33msolar_radiation\u001b[39m\u001b[33m'\u001b[39m], axis=\u001b[32m1\u001b[39m)\n\u001b[32m     11\u001b[39m y_type = train_type[\u001b[33m'\u001b[39m\u001b[33mpower_consumption\u001b[39m\u001b[33m'\u001b[39m]\n\u001b[32m---> \u001b[39m\u001b[32m12\u001b[39m test_X_type = \u001b[43mtest_type\u001b[49m\u001b[43m.\u001b[49m\u001b[43mdrop\u001b[49m\u001b[43m(\u001b[49m\u001b[43m[\u001b[49m\u001b[33;43m'\u001b[39;49m\u001b[33;43mdate_time\u001b[39;49m\u001b[33;43m'\u001b[39;49m\u001b[43m,\u001b[49m\u001b[43m \u001b[49m\u001b[33;43m'\u001b[39;49m\u001b[33;43mbuilding_type\u001b[39;49m\u001b[33;43m'\u001b[39;49m\u001b[43m,\u001b[49m\u001b[43m \u001b[49m\u001b[33;43m'\u001b[39;49m\u001b[33;43mrainfall\u001b[39;49m\u001b[33;43m'\u001b[39;49m\u001b[43m,\u001b[49m\u001b[43m \u001b[49m\u001b[33;43m'\u001b[39;49m\u001b[33;43msunshine\u001b[39;49m\u001b[33;43m'\u001b[39;49m\u001b[43m,\u001b[49m\u001b[43m \u001b[49m\u001b[33;43m'\u001b[39;49m\u001b[33;43msolar_radiation\u001b[39;49m\u001b[33;43m'\u001b[39;49m\u001b[43m]\u001b[49m\u001b[43m,\u001b[49m\u001b[43m \u001b[49m\u001b[43maxis\u001b[49m\u001b[43m=\u001b[49m\u001b[32;43m1\u001b[39;49m\u001b[43m)\u001b[49m\n\u001b[32m     14\u001b[39m model = XGBRegressor(\n\u001b[32m     15\u001b[39m     n_estimators=\u001b[32m1000\u001b[39m, learning_rate=\u001b[32m0.05\u001b[39m, max_depth=\u001b[32m10\u001b[39m, subsample=\u001b[32m0.7\u001b[39m,\n\u001b[32m     16\u001b[39m     colsample_bytree=\u001b[32m0.5\u001b[39m, min_child_weight=\u001b[32m3\u001b[39m, random_state=\u001b[32m42\u001b[39m, objective=weighted_mse(\u001b[32m3\u001b[39m)\n\u001b[32m     17\u001b[39m )\n\u001b[32m     19\u001b[39m model.fit(X_type, np.log(y_type))\n",
      "\u001b[36mFile \u001b[39m\u001b[32md:\\workspace\\hit_ml_dl\\venv\\Lib\\site-packages\\pandas\\core\\frame.py:5588\u001b[39m, in \u001b[36mDataFrame.drop\u001b[39m\u001b[34m(self, labels, axis, index, columns, level, inplace, errors)\u001b[39m\n\u001b[32m   5440\u001b[39m \u001b[38;5;28;01mdef\u001b[39;00m\u001b[38;5;250m \u001b[39m\u001b[34mdrop\u001b[39m(\n\u001b[32m   5441\u001b[39m     \u001b[38;5;28mself\u001b[39m,\n\u001b[32m   5442\u001b[39m     labels: IndexLabel | \u001b[38;5;28;01mNone\u001b[39;00m = \u001b[38;5;28;01mNone\u001b[39;00m,\n\u001b[32m   (...)\u001b[39m\u001b[32m   5449\u001b[39m     errors: IgnoreRaise = \u001b[33m\"\u001b[39m\u001b[33mraise\u001b[39m\u001b[33m\"\u001b[39m,\n\u001b[32m   5450\u001b[39m ) -> DataFrame | \u001b[38;5;28;01mNone\u001b[39;00m:\n\u001b[32m   5451\u001b[39m \u001b[38;5;250m    \u001b[39m\u001b[33;03m\"\"\"\u001b[39;00m\n\u001b[32m   5452\u001b[39m \u001b[33;03m    Drop specified labels from rows or columns.\u001b[39;00m\n\u001b[32m   5453\u001b[39m \n\u001b[32m   (...)\u001b[39m\u001b[32m   5586\u001b[39m \u001b[33;03m            weight  1.0     0.8\u001b[39;00m\n\u001b[32m   5587\u001b[39m \u001b[33;03m    \"\"\"\u001b[39;00m\n\u001b[32m-> \u001b[39m\u001b[32m5588\u001b[39m     \u001b[38;5;28;01mreturn\u001b[39;00m \u001b[38;5;28;43msuper\u001b[39;49m\u001b[43m(\u001b[49m\u001b[43m)\u001b[49m\u001b[43m.\u001b[49m\u001b[43mdrop\u001b[49m\u001b[43m(\u001b[49m\n\u001b[32m   5589\u001b[39m \u001b[43m        \u001b[49m\u001b[43mlabels\u001b[49m\u001b[43m=\u001b[49m\u001b[43mlabels\u001b[49m\u001b[43m,\u001b[49m\n\u001b[32m   5590\u001b[39m \u001b[43m        \u001b[49m\u001b[43maxis\u001b[49m\u001b[43m=\u001b[49m\u001b[43maxis\u001b[49m\u001b[43m,\u001b[49m\n\u001b[32m   5591\u001b[39m \u001b[43m        \u001b[49m\u001b[43mindex\u001b[49m\u001b[43m=\u001b[49m\u001b[43mindex\u001b[49m\u001b[43m,\u001b[49m\n\u001b[32m   5592\u001b[39m \u001b[43m        \u001b[49m\u001b[43mcolumns\u001b[49m\u001b[43m=\u001b[49m\u001b[43mcolumns\u001b[49m\u001b[43m,\u001b[49m\n\u001b[32m   5593\u001b[39m \u001b[43m        \u001b[49m\u001b[43mlevel\u001b[49m\u001b[43m=\u001b[49m\u001b[43mlevel\u001b[49m\u001b[43m,\u001b[49m\n\u001b[32m   5594\u001b[39m \u001b[43m        \u001b[49m\u001b[43minplace\u001b[49m\u001b[43m=\u001b[49m\u001b[43minplace\u001b[49m\u001b[43m,\u001b[49m\n\u001b[32m   5595\u001b[39m \u001b[43m        \u001b[49m\u001b[43merrors\u001b[49m\u001b[43m=\u001b[49m\u001b[43merrors\u001b[49m\u001b[43m,\u001b[49m\n\u001b[32m   5596\u001b[39m \u001b[43m    \u001b[49m\u001b[43m)\u001b[49m\n",
      "\u001b[36mFile \u001b[39m\u001b[32md:\\workspace\\hit_ml_dl\\venv\\Lib\\site-packages\\pandas\\core\\generic.py:4807\u001b[39m, in \u001b[36mNDFrame.drop\u001b[39m\u001b[34m(self, labels, axis, index, columns, level, inplace, errors)\u001b[39m\n\u001b[32m   4805\u001b[39m \u001b[38;5;28;01mfor\u001b[39;00m axis, labels \u001b[38;5;129;01min\u001b[39;00m axes.items():\n\u001b[32m   4806\u001b[39m     \u001b[38;5;28;01mif\u001b[39;00m labels \u001b[38;5;129;01mis\u001b[39;00m \u001b[38;5;129;01mnot\u001b[39;00m \u001b[38;5;28;01mNone\u001b[39;00m:\n\u001b[32m-> \u001b[39m\u001b[32m4807\u001b[39m         obj = \u001b[43mobj\u001b[49m\u001b[43m.\u001b[49m\u001b[43m_drop_axis\u001b[49m\u001b[43m(\u001b[49m\u001b[43mlabels\u001b[49m\u001b[43m,\u001b[49m\u001b[43m \u001b[49m\u001b[43maxis\u001b[49m\u001b[43m,\u001b[49m\u001b[43m \u001b[49m\u001b[43mlevel\u001b[49m\u001b[43m=\u001b[49m\u001b[43mlevel\u001b[49m\u001b[43m,\u001b[49m\u001b[43m \u001b[49m\u001b[43merrors\u001b[49m\u001b[43m=\u001b[49m\u001b[43merrors\u001b[49m\u001b[43m)\u001b[49m\n\u001b[32m   4809\u001b[39m \u001b[38;5;28;01mif\u001b[39;00m inplace:\n\u001b[32m   4810\u001b[39m     \u001b[38;5;28mself\u001b[39m._update_inplace(obj)\n",
      "\u001b[36mFile \u001b[39m\u001b[32md:\\workspace\\hit_ml_dl\\venv\\Lib\\site-packages\\pandas\\core\\generic.py:4849\u001b[39m, in \u001b[36mNDFrame._drop_axis\u001b[39m\u001b[34m(self, labels, axis, level, errors, only_slice)\u001b[39m\n\u001b[32m   4847\u001b[39m         new_axis = axis.drop(labels, level=level, errors=errors)\n\u001b[32m   4848\u001b[39m     \u001b[38;5;28;01melse\u001b[39;00m:\n\u001b[32m-> \u001b[39m\u001b[32m4849\u001b[39m         new_axis = \u001b[43maxis\u001b[49m\u001b[43m.\u001b[49m\u001b[43mdrop\u001b[49m\u001b[43m(\u001b[49m\u001b[43mlabels\u001b[49m\u001b[43m,\u001b[49m\u001b[43m \u001b[49m\u001b[43merrors\u001b[49m\u001b[43m=\u001b[49m\u001b[43merrors\u001b[49m\u001b[43m)\u001b[49m\n\u001b[32m   4850\u001b[39m     indexer = axis.get_indexer(new_axis)\n\u001b[32m   4852\u001b[39m \u001b[38;5;66;03m# Case for non-unique axis\u001b[39;00m\n\u001b[32m   4853\u001b[39m \u001b[38;5;28;01melse\u001b[39;00m:\n",
      "\u001b[36mFile \u001b[39m\u001b[32md:\\workspace\\hit_ml_dl\\venv\\Lib\\site-packages\\pandas\\core\\indexes\\base.py:7136\u001b[39m, in \u001b[36mIndex.drop\u001b[39m\u001b[34m(self, labels, errors)\u001b[39m\n\u001b[32m   7134\u001b[39m \u001b[38;5;28;01mif\u001b[39;00m mask.any():\n\u001b[32m   7135\u001b[39m     \u001b[38;5;28;01mif\u001b[39;00m errors != \u001b[33m\"\u001b[39m\u001b[33mignore\u001b[39m\u001b[33m\"\u001b[39m:\n\u001b[32m-> \u001b[39m\u001b[32m7136\u001b[39m         \u001b[38;5;28;01mraise\u001b[39;00m \u001b[38;5;167;01mKeyError\u001b[39;00m(\u001b[33mf\u001b[39m\u001b[33m\"\u001b[39m\u001b[38;5;132;01m{\u001b[39;00mlabels[mask].tolist()\u001b[38;5;132;01m}\u001b[39;00m\u001b[33m not found in axis\u001b[39m\u001b[33m\"\u001b[39m)\n\u001b[32m   7137\u001b[39m     indexer = indexer[~mask]\n\u001b[32m   7138\u001b[39m \u001b[38;5;28;01mreturn\u001b[39;00m \u001b[38;5;28mself\u001b[39m.delete(indexer)\n",
      "\u001b[31mKeyError\u001b[39m: \"['sunshine', 'solar_radiation'] not found in axis\""
     ]
    }
   ],
   "source": [
    "# 건물 유형별 모델 학습\n",
    "type_list = train['building_type'].unique()\n",
    "kf = KFold(n_splits=5, shuffle=True, random_state=42)\n",
    "submission = pd.read_csv('./data/sample_submission.csv')\n",
    "\n",
    "for btype in type_list:\n",
    "    train_type = train[train['building_type'] == btype]\n",
    "    test_type = test[test['building_type'] == btype]\n",
    "    \n",
    "    X_type = train_type.drop(['power_consumption', 'date_time', 'building_type', 'rainfall', 'sunshine', 'solar_radiation'], axis=1)\n",
    "    y_type = train_type['power_consumption']\n",
    "    test_X_type = test_type.drop(['date_time', 'building_type', 'rainfall', 'sunshine', 'solar_radiation'], axis=1)\n",
    "    \n",
    "    model = XGBRegressor(\n",
    "        n_estimators=1000, learning_rate=0.05, max_depth=10, subsample=0.7,\n",
    "        colsample_bytree=0.5, min_child_weight=3, random_state=42, objective=weighted_mse(3)\n",
    "    )\n",
    "    \n",
    "    model.fit(X_type, np.log(y_type))\n",
    "    pred = np.exp(model.predict(test_X_type))\n",
    "    test.loc[test['building_type'] == btype, 'power_consumption'] = pred"
   ]
  },
  {
   "cell_type": "code",
   "execution_count": null,
   "id": "832f96fa",
   "metadata": {},
   "outputs": [],
   "source": [
    "# 제출 파일 생성\n",
    "submission['answer'] = test['power_consumption']\n",
    "submission.to_csv('submission.csv', index=False)\n",
    "\n",
    "print(\"제출 파일 'submission.csv'가 생성되었습니다.\")  "
   ]
  },
  {
   "cell_type": "code",
   "execution_count": null,
   "id": "7b4dd204",
   "metadata": {},
   "outputs": [],
   "source": []
  }
 ],
 "metadata": {
  "kernelspec": {
   "display_name": "venv",
   "language": "python",
   "name": "python3"
  },
  "language_info": {
   "codemirror_mode": {
    "name": "ipython",
    "version": 3
   },
   "file_extension": ".py",
   "mimetype": "text/x-python",
   "name": "python",
   "nbconvert_exporter": "python",
   "pygments_lexer": "ipython3",
   "version": "3.13.5"
  }
 },
 "nbformat": 4,
 "nbformat_minor": 5
}
